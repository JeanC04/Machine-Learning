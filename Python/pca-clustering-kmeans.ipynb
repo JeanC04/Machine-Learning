{
 "cells": [
  {
   "cell_type": "markdown",
   "id": "e284edb3",
   "metadata": {
    "id": "JO_74wpeYLaq",
    "papermill": {
     "duration": 0.008632,
     "end_time": "2023-02-24T17:33:26.157044",
     "exception": false,
     "start_time": "2023-02-24T17:33:26.148412",
     "status": "completed"
    },
    "tags": []
   },
   "source": [
    "\n"
   ]
  },
  {
   "cell_type": "markdown",
   "id": "5b132d96",
   "metadata": {
    "papermill": {
     "duration": 0.007431,
     "end_time": "2023-02-24T17:33:26.172429",
     "exception": false,
     "start_time": "2023-02-24T17:33:26.164998",
     "status": "completed"
    },
    "tags": []
   },
   "source": [
    "# <span style=\"color:blue\">**Clustering & PCA Assignment**</span>"
   ]
  },
  {
   "cell_type": "markdown",
   "id": "3a90d352",
   "metadata": {
    "papermill": {
     "duration": 0.007983,
     "end_time": "2023-02-24T17:33:26.188404",
     "exception": false,
     "start_time": "2023-02-24T17:33:26.180421",
     "status": "completed"
    },
    "tags": []
   },
   "source": [
    "**About the data set**\n",
    "\n",
    "After the current funding programs, International Humanitarian NGO has raised around $ 10 million. Now the CEO of the NGO needs to decide how to use this money strategically and effectively. The significant issues that come while making this decision have mostly related to the countries in dire need of Aid. Our job is as Data analyst is to classify the countries using the socio-economic and health factors that determine the overall development of nations. After this analysis, we need to suggest countries that the CEO needs to focus on and give the highest priority.\n",
    "\n",
    "**Attributes:**\n",
    "\n",
    "*Country*: Country name\n",
    "\n",
    "*Child_Mort*: Death of children under 5 years per 1000 live births\n",
    "\n",
    "*Exports*: exports of goods and services. Given as % age of total GDP\n",
    "\n",
    "*Health Expenditure*: Total in health as a percentage of total GDP\n",
    "\n",
    "*Imports*: imports of goods and services. Given as % age of total GDP\n",
    "\n",
    "*Income*: Net income per person\n",
    "\n",
    "*Inflation*: the measurement of the annual growth rate of total GDP\n",
    "\n",
    "*Life_Expec*: the average number of years that a newborn would live if the current mortality patterns were the same\n",
    "\n",
    "*TOTAL_FER*: The number of children who would be born from each woman if current age-fertility rates were maintained\n",
    "\n",
    "*GDPR*: GDP per capita. Calculated as the total GDP divided by the total population."
   ]
  },
  {
   "cell_type": "markdown",
   "id": "57043442",
   "metadata": {
    "papermill": {
     "duration": 0.007093,
     "end_time": "2023-02-24T17:33:26.203033",
     "exception": false,
     "start_time": "2023-02-24T17:33:26.195940",
     "status": "completed"
    },
    "tags": []
   },
   "source": [
    "# <span style=\"color:blue\"> Importing Libraries</span>"
   ]
  },
  {
   "cell_type": "code",
   "execution_count": 1,
   "id": "87105be7",
   "metadata": {
    "execution": {
     "iopub.execute_input": "2023-02-24T17:33:26.220460Z",
     "iopub.status.busy": "2023-02-24T17:33:26.219691Z",
     "iopub.status.idle": "2023-02-24T17:33:30.465810Z",
     "shell.execute_reply": "2023-02-24T17:33:30.464083Z"
    },
    "id": "LuODtu1OWwuo",
    "papermill": {
     "duration": 4.258769,
     "end_time": "2023-02-24T17:33:30.469263",
     "exception": false,
     "start_time": "2023-02-24T17:33:26.210494",
     "status": "completed"
    },
    "tags": []
   },
   "outputs": [],
   "source": [
    "import pandas as pd\n",
    "import numpy as np\n",
    "\n",
    "# PCA\n",
    "from sklearn.preprocessing import StandardScaler\n",
    "from sklearn.decomposition import PCA\n",
    "\n",
    "# Kmeans\n",
    "from yellowbrick.cluster import KElbowVisualizer\n",
    "from sklearn.cluster import KMeans\n",
    "from collections import Counter\n",
    "\n",
    "# For visualization\n",
    "import seaborn as sns\n",
    "import matplotlib.pyplot as plt\n",
    "import seaborn as sns\n",
    "import plotly.express as px"
   ]
  },
  {
   "cell_type": "markdown",
   "id": "3f6f2559",
   "metadata": {
    "papermill": {
     "duration": 0.007189,
     "end_time": "2023-02-24T17:33:30.484234",
     "exception": false,
     "start_time": "2023-02-24T17:33:30.477045",
     "status": "completed"
    },
    "tags": []
   },
   "source": [
    "# <span style=\"color:blue\">Loadings Datasets </span>"
   ]
  },
  {
   "cell_type": "code",
   "execution_count": 2,
   "id": "a50fde5f",
   "metadata": {
    "execution": {
     "iopub.execute_input": "2023-02-24T17:33:30.502368Z",
     "iopub.status.busy": "2023-02-24T17:33:30.501256Z",
     "iopub.status.idle": "2023-02-24T17:33:30.552933Z",
     "shell.execute_reply": "2023-02-24T17:33:30.551524Z"
    },
    "id": "gv6myAtlX_ff",
    "outputId": "49d46034-3802-46d9-9937-3b7dc8564bb8",
    "papermill": {
     "duration": 0.064123,
     "end_time": "2023-02-24T17:33:30.556360",
     "exception": false,
     "start_time": "2023-02-24T17:33:30.492237",
     "status": "completed"
    },
    "tags": []
   },
   "outputs": [
    {
     "data": {
      "text/html": [
       "<div>\n",
       "<style scoped>\n",
       "    .dataframe tbody tr th:only-of-type {\n",
       "        vertical-align: middle;\n",
       "    }\n",
       "\n",
       "    .dataframe tbody tr th {\n",
       "        vertical-align: top;\n",
       "    }\n",
       "\n",
       "    .dataframe thead th {\n",
       "        text-align: right;\n",
       "    }\n",
       "</style>\n",
       "<table border=\"1\" class=\"dataframe\">\n",
       "  <thead>\n",
       "    <tr style=\"text-align: right;\">\n",
       "      <th></th>\n",
       "      <th>country</th>\n",
       "      <th>child_mort</th>\n",
       "      <th>exports</th>\n",
       "      <th>health</th>\n",
       "      <th>imports</th>\n",
       "      <th>income</th>\n",
       "      <th>inflation</th>\n",
       "      <th>life_expec</th>\n",
       "      <th>total_fer</th>\n",
       "      <th>gdpp</th>\n",
       "    </tr>\n",
       "  </thead>\n",
       "  <tbody>\n",
       "    <tr>\n",
       "      <th>0</th>\n",
       "      <td>Afghanistan</td>\n",
       "      <td>90.2</td>\n",
       "      <td>10.0</td>\n",
       "      <td>7.58</td>\n",
       "      <td>44.9</td>\n",
       "      <td>1610</td>\n",
       "      <td>9.44</td>\n",
       "      <td>56.2</td>\n",
       "      <td>5.82</td>\n",
       "      <td>553</td>\n",
       "    </tr>\n",
       "    <tr>\n",
       "      <th>1</th>\n",
       "      <td>Albania</td>\n",
       "      <td>16.6</td>\n",
       "      <td>28.0</td>\n",
       "      <td>6.55</td>\n",
       "      <td>48.6</td>\n",
       "      <td>9930</td>\n",
       "      <td>4.49</td>\n",
       "      <td>76.3</td>\n",
       "      <td>1.65</td>\n",
       "      <td>4090</td>\n",
       "    </tr>\n",
       "    <tr>\n",
       "      <th>2</th>\n",
       "      <td>Algeria</td>\n",
       "      <td>27.3</td>\n",
       "      <td>38.4</td>\n",
       "      <td>4.17</td>\n",
       "      <td>31.4</td>\n",
       "      <td>12900</td>\n",
       "      <td>16.10</td>\n",
       "      <td>76.5</td>\n",
       "      <td>2.89</td>\n",
       "      <td>4460</td>\n",
       "    </tr>\n",
       "    <tr>\n",
       "      <th>3</th>\n",
       "      <td>Angola</td>\n",
       "      <td>119.0</td>\n",
       "      <td>62.3</td>\n",
       "      <td>2.85</td>\n",
       "      <td>42.9</td>\n",
       "      <td>5900</td>\n",
       "      <td>22.40</td>\n",
       "      <td>60.1</td>\n",
       "      <td>6.16</td>\n",
       "      <td>3530</td>\n",
       "    </tr>\n",
       "    <tr>\n",
       "      <th>4</th>\n",
       "      <td>Antigua and Barbuda</td>\n",
       "      <td>10.3</td>\n",
       "      <td>45.5</td>\n",
       "      <td>6.03</td>\n",
       "      <td>58.9</td>\n",
       "      <td>19100</td>\n",
       "      <td>1.44</td>\n",
       "      <td>76.8</td>\n",
       "      <td>2.13</td>\n",
       "      <td>12200</td>\n",
       "    </tr>\n",
       "  </tbody>\n",
       "</table>\n",
       "</div>"
      ],
      "text/plain": [
       "               country  child_mort  exports  health  imports  income  \\\n",
       "0          Afghanistan        90.2     10.0    7.58     44.9    1610   \n",
       "1              Albania        16.6     28.0    6.55     48.6    9930   \n",
       "2              Algeria        27.3     38.4    4.17     31.4   12900   \n",
       "3               Angola       119.0     62.3    2.85     42.9    5900   \n",
       "4  Antigua and Barbuda        10.3     45.5    6.03     58.9   19100   \n",
       "\n",
       "   inflation  life_expec  total_fer   gdpp  \n",
       "0       9.44        56.2       5.82    553  \n",
       "1       4.49        76.3       1.65   4090  \n",
       "2      16.10        76.5       2.89   4460  \n",
       "3      22.40        60.1       6.16   3530  \n",
       "4       1.44        76.8       2.13  12200  "
      ]
     },
     "execution_count": 2,
     "metadata": {},
     "output_type": "execute_result"
    }
   ],
   "source": [
    "df = pd.read_csv('/kaggle/input/clustering-pca-assignment/Country-data.csv')\n",
    "df.head()"
   ]
  },
  {
   "cell_type": "markdown",
   "id": "6735de61",
   "metadata": {
    "papermill": {
     "duration": 0.00834,
     "end_time": "2023-02-24T17:33:30.572429",
     "exception": false,
     "start_time": "2023-02-24T17:33:30.564089",
     "status": "completed"
    },
    "tags": []
   },
   "source": [
    "# <span style=\"color:blue\">PCA </span>"
   ]
  },
  {
   "cell_type": "code",
   "execution_count": 3,
   "id": "5027b68c",
   "metadata": {
    "execution": {
     "iopub.execute_input": "2023-02-24T17:33:30.590030Z",
     "iopub.status.busy": "2023-02-24T17:33:30.589303Z",
     "iopub.status.idle": "2023-02-24T17:33:30.595159Z",
     "shell.execute_reply": "2023-02-24T17:33:30.594095Z"
    },
    "id": "pxuvlg-iaV1N",
    "papermill": {
     "duration": 0.017694,
     "end_time": "2023-02-24T17:33:30.597740",
     "exception": false,
     "start_time": "2023-02-24T17:33:30.580046",
     "status": "completed"
    },
    "tags": []
   },
   "outputs": [],
   "source": [
    "# List of attributes less than \"country\"# \n",
    "col_name = [x for x in df.columns if x not in ['country']]"
   ]
  },
  {
   "cell_type": "code",
   "execution_count": 4,
   "id": "07705ce4",
   "metadata": {
    "execution": {
     "iopub.execute_input": "2023-02-24T17:33:30.615829Z",
     "iopub.status.busy": "2023-02-24T17:33:30.614966Z",
     "iopub.status.idle": "2023-02-24T17:33:30.792965Z",
     "shell.execute_reply": "2023-02-24T17:33:30.791553Z"
    },
    "id": "NyTQJIqyZnxb",
    "papermill": {
     "duration": 0.190413,
     "end_time": "2023-02-24T17:33:30.795980",
     "exception": false,
     "start_time": "2023-02-24T17:33:30.605567",
     "status": "completed"
    },
    "tags": []
   },
   "outputs": [],
   "source": [
    "# Execute PCA (w/o limits on n_components)\n",
    "pca = PCA()\n",
    "_ = pca.fit_transform(df[col_name])\n",
    "PC_components = np.arange(pca.n_components_) + 1"
   ]
  },
  {
   "cell_type": "code",
   "execution_count": 5,
   "id": "2fc772be",
   "metadata": {
    "execution": {
     "iopub.execute_input": "2023-02-24T17:33:30.814033Z",
     "iopub.status.busy": "2023-02-24T17:33:30.813323Z",
     "iopub.status.idle": "2023-02-24T17:33:31.211047Z",
     "shell.execute_reply": "2023-02-24T17:33:31.209685Z"
    },
    "id": "WWFVJzcKZxDl",
    "outputId": "2467eb93-200b-4384-d9c2-f80079e5d33b",
    "papermill": {
     "duration": 0.409816,
     "end_time": "2023-02-24T17:33:31.213713",
     "exception": false,
     "start_time": "2023-02-24T17:33:30.803897",
     "status": "completed"
    },
    "tags": []
   },
   "outputs": [
    {
     "data": {
      "image/png": "[encoded data removed]",
      "text/plain": [
       "<Figure size 1500x700 with 1 Axes>"
      ]
     },
     "metadata": {},
     "output_type": "display_data"
    }
   ],
   "source": [
    "# Graphic to choose number of main components\n",
    "_ = sns.set(style='whitegrid', font_scale=1.2)\n",
    "fig, ax = plt.subplots(figsize=(15, 7))\n",
    "_ = sns.barplot(x=PC_components, y=pca.explained_variance_ratio_, color='b')\n",
    "_ = sns.lineplot(x=PC_components-1, y=np.cumsum(pca.explained_variance_ratio_), color='black', linestyle='-', linewidth=2, marker='o', markersize=8)\n",
    "\n",
    "plt.title('Scree Plot')\n",
    "plt.xlabel('N-th Principal Component')\n",
    "plt.ylabel('Variance Explained')\n",
    "plt.ylim(0, 1)\n",
    "plt.show()"
   ]
  },
  {
   "cell_type": "markdown",
   "id": "97f1266b",
   "metadata": {
    "id": "u7qJSJFjbKAL",
    "papermill": {
     "duration": 0.00847,
     "end_time": "2023-02-24T17:33:31.230912",
     "exception": false,
     "start_time": "2023-02-24T17:33:31.222442",
     "status": "completed"
    },
    "tags": []
   },
   "source": [
    "> From the graph we realize that we can use **2** main components instead of 9"
   ]
  },
  {
   "cell_type": "code",
   "execution_count": 6,
   "id": "a94a0bc6",
   "metadata": {
    "execution": {
     "iopub.execute_input": "2023-02-24T17:33:31.249825Z",
     "iopub.status.busy": "2023-02-24T17:33:31.249102Z",
     "iopub.status.idle": "2023-02-24T17:33:32.034716Z",
     "shell.execute_reply": "2023-02-24T17:33:32.033163Z"
    },
    "id": "yL55MQBybaB7",
    "outputId": "25c4a597-5049-45cc-fb11-20f413ab0dc5",
    "papermill": {
     "duration": 0.798334,
     "end_time": "2023-02-24T17:33:32.037522",
     "exception": false,
     "start_time": "2023-02-24T17:33:31.239188",
     "status": "completed"
    },
    "tags": []
   },
   "outputs": [
    {
     "data": {
      "text/plain": [
       "<Figure size 1500x800 with 0 Axes>"
      ]
     },
     "execution_count": 6,
     "metadata": {},
     "output_type": "execute_result"
    },
    {
     "data": {
      "image/png": "[encoded data removed]",
      "text/plain": [
       "<Figure size 800x550 with 2 Axes>"
      ]
     },
     "metadata": {},
     "output_type": "display_data"
    },
    {
     "data": {
      "text/plain": [
       "<Figure size 1500x800 with 0 Axes>"
      ]
     },
     "metadata": {},
     "output_type": "display_data"
    }
   ],
   "source": [
    "# Heat map\n",
    "_ = sns.heatmap(pca.components_**2,\n",
    "                 yticklabels=[\"PCA\"+str(x) for x in range(1,pca.n_components_+1)],\n",
    "                 xticklabels=list(col_name),\n",
    "                 annot=True,\n",
    "                 fmt='.2f',\n",
    "                 square=True,\n",
    "                 linewidths=0.05,\n",
    "                 cbar_kws={\"orientation\": \"vertical\"})\n",
    "plt.figure(figsize = (15,8))"
   ]
  },
  {
   "cell_type": "code",
   "execution_count": 7,
   "id": "10a61ae0",
   "metadata": {
    "execution": {
     "iopub.execute_input": "2023-02-24T17:33:32.059488Z",
     "iopub.status.busy": "2023-02-24T17:33:32.059064Z",
     "iopub.status.idle": "2023-02-24T17:33:32.076148Z",
     "shell.execute_reply": "2023-02-24T17:33:32.074743Z"
    },
    "id": "iiSlK6Zsc4nE",
    "outputId": "8499f522-176b-4524-ce8e-d0b100c478b3",
    "papermill": {
     "duration": 0.031174,
     "end_time": "2023-02-24T17:33:32.078678",
     "exception": false,
     "start_time": "2023-02-24T17:33:32.047504",
     "status": "completed"
    },
    "tags": []
   },
   "outputs": [
    {
     "data": {
      "text/html": [
       "<div>\n",
       "<style scoped>\n",
       "    .dataframe tbody tr th:only-of-type {\n",
       "        vertical-align: middle;\n",
       "    }\n",
       "\n",
       "    .dataframe tbody tr th {\n",
       "        vertical-align: top;\n",
       "    }\n",
       "\n",
       "    .dataframe thead th {\n",
       "        text-align: right;\n",
       "    }\n",
       "</style>\n",
       "<table border=\"1\" class=\"dataframe\">\n",
       "  <thead>\n",
       "    <tr style=\"text-align: right;\">\n",
       "      <th></th>\n",
       "      <th>PC1</th>\n",
       "      <th>PC2</th>\n",
       "    </tr>\n",
       "  </thead>\n",
       "  <tbody>\n",
       "    <tr>\n",
       "      <th>0</th>\n",
       "      <td>-19815.128018</td>\n",
       "      <td>-1651.124720</td>\n",
       "    </tr>\n",
       "    <tr>\n",
       "      <th>1</th>\n",
       "      <td>-11338.938992</td>\n",
       "      <td>1493.469028</td>\n",
       "    </tr>\n",
       "    <tr>\n",
       "      <th>2</th>\n",
       "      <td>-8926.352589</td>\n",
       "      <td>3264.684102</td>\n",
       "    </tr>\n",
       "    <tr>\n",
       "      <th>3</th>\n",
       "      <td>-14652.465937</td>\n",
       "      <td>-867.795270</td>\n",
       "    </tr>\n",
       "    <tr>\n",
       "      <th>4</th>\n",
       "      <td>896.142032</td>\n",
       "      <td>1898.478151</td>\n",
       "    </tr>\n",
       "  </tbody>\n",
       "</table>\n",
       "</div>"
      ],
      "text/plain": [
       "            PC1          PC2\n",
       "0 -19815.128018 -1651.124720\n",
       "1 -11338.938992  1493.469028\n",
       "2  -8926.352589  3264.684102\n",
       "3 -14652.465937  -867.795270\n",
       "4    896.142032  1898.478151"
      ]
     },
     "execution_count": 7,
     "metadata": {},
     "output_type": "execute_result"
    }
   ],
   "source": [
    "# Execute PCA (Escogemos mantener n_components)\n",
    "pca = PCA(n_components=2)\n",
    "pca_array = pca.fit_transform(df[col_name])\n",
    "\n",
    "# Convert to Dataframe again to read\n",
    "df_pca = pd.DataFrame(data=pca_array)\n",
    "df_pca.columns = ['PC' + str(col+1) for col in df_pca.columns.values]\n",
    "\n",
    "df_pca.head()"
   ]
  },
  {
   "cell_type": "code",
   "execution_count": 8,
   "id": "2db839a9",
   "metadata": {
    "execution": {
     "iopub.execute_input": "2023-02-24T17:33:32.100391Z",
     "iopub.status.busy": "2023-02-24T17:33:32.099955Z",
     "iopub.status.idle": "2023-02-24T17:33:32.397067Z",
     "shell.execute_reply": "2023-02-24T17:33:32.395954Z"
    },
    "id": "f_jzhabOhDPn",
    "outputId": "0d4f0e79-7870-40a7-ccbb-ea21263d62ae",
    "papermill": {
     "duration": 0.311246,
     "end_time": "2023-02-24T17:33:32.399769",
     "exception": false,
     "start_time": "2023-02-24T17:33:32.088523",
     "status": "completed"
    },
    "tags": []
   },
   "outputs": [
    {
     "data": {
      "image/png": "[encoded data removed]",
      "text/plain": [
       "<Figure size 1000x700 with 1 Axes>"
      ]
     },
     "metadata": {},
     "output_type": "display_data"
    }
   ],
   "source": [
    "# Main components -plot\n",
    "_ = sns.set(style='ticks', font_scale=1.2)\n",
    "fig, ax = plt.subplots(figsize=(10, 7))\n",
    "_ = sns.scatterplot(data=df_pca, x='PC1', y='PC2')"
   ]
  },
  {
   "cell_type": "markdown",
   "id": "c1939ee1",
   "metadata": {
    "papermill": {
     "duration": 0.010324,
     "end_time": "2023-02-24T17:33:32.420840",
     "exception": false,
     "start_time": "2023-02-24T17:33:32.410516",
     "status": "completed"
    },
    "tags": []
   },
   "source": [
    "# <span style=\"color:blue\">Clustering </span>"
   ]
  },
  {
   "cell_type": "markdown",
   "id": "1af8fa28",
   "metadata": {
    "id": "eY0exbXJiUHB",
    "papermill": {
     "duration": 0.010622,
     "end_time": "2023-02-24T17:33:32.442628",
     "exception": false,
     "start_time": "2023-02-24T17:33:32.432006",
     "status": "completed"
    },
    "tags": []
   },
   "source": [
    "**Aplicando Kmeans**"
   ]
  },
  {
   "cell_type": "code",
   "execution_count": 9,
   "id": "072f9b05",
   "metadata": {
    "execution": {
     "iopub.execute_input": "2023-02-24T17:33:32.466952Z",
     "iopub.status.busy": "2023-02-24T17:33:32.466056Z",
     "iopub.status.idle": "2023-02-24T17:33:33.498627Z",
     "shell.execute_reply": "2023-02-24T17:33:33.496323Z"
    },
    "id": "LLFWDmSwhcRi",
    "outputId": "ac4670a4-a81a-4a64-8b60-6d2d7180167e",
    "papermill": {
     "duration": 1.049564,
     "end_time": "2023-02-24T17:33:33.502873",
     "exception": false,
     "start_time": "2023-02-24T17:33:32.453309",
     "status": "completed"
    },
    "tags": []
   },
   "outputs": [
    {
     "data": {
      "image/png": "[encoded data removed]",
      "text/plain": [
       "<Figure size 800x550 with 2 Axes>"
      ]
     },
     "metadata": {},
     "output_type": "display_data"
    },
    {
     "data": {
      "text/plain": [
       "<AxesSubplot:title={'center':'Distortion Score Elbow for KMeans Clustering'}, xlabel='k', ylabel='distortion score'>"
      ]
     },
     "execution_count": 9,
     "metadata": {},
     "output_type": "execute_result"
    }
   ],
   "source": [
    "# Applying the \"ElBow\" method# \n",
    "model = KMeans()\n",
    "visualizer = KElbowVisualizer(model, k=(1,12)).fit(df_pca)\n",
    "visualizer.show()"
   ]
  },
  {
   "cell_type": "markdown",
   "id": "8abdb9fa",
   "metadata": {
    "id": "dOdEfnn1iybY",
    "papermill": {
     "duration": 0.011897,
     "end_time": "2023-02-24T17:33:33.527856",
     "exception": false,
     "start_time": "2023-02-24T17:33:33.515959",
     "status": "completed"
    },
    "tags": []
   },
   "source": [
    "> According to the previous graph, the optimal number of clusters **(K) is 3**. \n"
   ]
  },
  {
   "cell_type": "code",
   "execution_count": 10,
   "id": "d4f2f98f",
   "metadata": {
    "execution": {
     "iopub.execute_input": "2023-02-24T17:33:33.553447Z",
     "iopub.status.busy": "2023-02-24T17:33:33.553024Z",
     "iopub.status.idle": "2023-02-24T17:33:33.584807Z",
     "shell.execute_reply": "2023-02-24T17:33:33.583744Z"
    },
    "id": "Kx2D2w_HjL5d",
    "papermill": {
     "duration": 0.047795,
     "end_time": "2023-02-24T17:33:33.587598",
     "exception": false,
     "start_time": "2023-02-24T17:33:33.539803",
     "status": "completed"
    },
    "tags": []
   },
   "outputs": [],
   "source": [
    "kmeans = KMeans(n_clusters=3, init='k-means++', random_state=0).fit(df_pca)"
   ]
  },
  {
   "cell_type": "code",
   "execution_count": 11,
   "id": "30677db3",
   "metadata": {
    "execution": {
     "iopub.execute_input": "2023-02-24T17:33:33.615323Z",
     "iopub.status.busy": "2023-02-24T17:33:33.614906Z",
     "iopub.status.idle": "2023-02-24T17:33:33.622822Z",
     "shell.execute_reply": "2023-02-24T17:33:33.621675Z"
    },
    "id": "XyO5vxu9jV-O",
    "outputId": "9d1675af-d374-4801-91a6-7c266b6be834",
    "papermill": {
     "duration": 0.023711,
     "end_time": "2023-02-24T17:33:33.625312",
     "exception": false,
     "start_time": "2023-02-24T17:33:33.601601",
     "status": "completed"
    },
    "tags": []
   },
   "outputs": [
    {
     "data": {
      "text/plain": [
       "array([1, 1, 1, 1, 1, 1, 1, 2, 2, 1, 2, 2, 1, 1, 1, 2, 1, 1, 1, 1, 1, 1,\n",
       "       1, 0, 1, 1, 1, 1, 1, 2, 1, 1, 1, 1, 1, 1, 1, 1, 1, 1, 1, 1, 2, 2,\n",
       "       2, 1, 1, 1, 1, 2, 1, 1, 1, 2, 2, 1, 1, 1, 2, 1, 2, 1, 1, 1, 1, 1,\n",
       "       1, 1, 2, 1, 1, 1, 1, 2, 2, 2, 1, 2, 1, 1, 1, 1, 0, 1, 1, 1, 1, 1,\n",
       "       1, 1, 1, 0, 1, 1, 1, 1, 1, 1, 2, 1, 1, 1, 1, 1, 1, 1, 1, 1, 1, 1,\n",
       "       2, 2, 1, 1, 0, 2, 1, 1, 1, 1, 1, 1, 2, 0, 1, 1, 1, 1, 2, 1, 1, 1,\n",
       "       1, 0, 1, 2, 1, 1, 2, 2, 1, 1, 1, 1, 2, 0, 1, 1, 1, 1, 1, 1, 1, 1,\n",
       "       1, 1, 1, 2, 2, 2, 1, 1, 1, 1, 1, 1, 1], dtype=int32)"
      ]
     },
     "execution_count": 11,
     "metadata": {},
     "output_type": "execute_result"
    }
   ],
   "source": [
    "kmeans.labels_ "
   ]
  },
  {
   "cell_type": "code",
   "execution_count": 12,
   "id": "a33da318",
   "metadata": {
    "execution": {
     "iopub.execute_input": "2023-02-24T17:33:33.651147Z",
     "iopub.status.busy": "2023-02-24T17:33:33.650689Z",
     "iopub.status.idle": "2023-02-24T17:33:33.658965Z",
     "shell.execute_reply": "2023-02-24T17:33:33.657581Z"
    },
    "id": "CUWc2pu3jZG0",
    "outputId": "becb43b7-35d3-48af-fb4e-9ba93cde3624",
    "papermill": {
     "duration": 0.023979,
     "end_time": "2023-02-24T17:33:33.661325",
     "exception": false,
     "start_time": "2023-02-24T17:33:33.637346",
     "status": "completed"
    },
    "tags": []
   },
   "outputs": [
    {
     "data": {
      "text/plain": [
       "21709816385.255955"
      ]
     },
     "execution_count": 12,
     "metadata": {},
     "output_type": "execute_result"
    }
   ],
   "source": [
    "kmeans.inertia_"
   ]
  },
  {
   "cell_type": "code",
   "execution_count": 13,
   "id": "47d5bc95",
   "metadata": {
    "execution": {
     "iopub.execute_input": "2023-02-24T17:33:33.687709Z",
     "iopub.status.busy": "2023-02-24T17:33:33.687019Z",
     "iopub.status.idle": "2023-02-24T17:33:33.694006Z",
     "shell.execute_reply": "2023-02-24T17:33:33.692852Z"
    },
    "id": "L_QMW-gCjbSP",
    "outputId": "b3b71228-01f8-400e-b4bd-e9d5eff932c0",
    "papermill": {
     "duration": 0.02282,
     "end_time": "2023-02-24T17:33:33.696281",
     "exception": false,
     "start_time": "2023-02-24T17:33:33.673461",
     "status": "completed"
    },
    "tags": []
   },
   "outputs": [
    {
     "data": {
      "text/plain": [
       "11"
      ]
     },
     "execution_count": 13,
     "metadata": {},
     "output_type": "execute_result"
    }
   ],
   "source": [
    "kmeans.n_iter_"
   ]
  },
  {
   "cell_type": "code",
   "execution_count": 14,
   "id": "e380f0af",
   "metadata": {
    "execution": {
     "iopub.execute_input": "2023-02-24T17:33:33.722068Z",
     "iopub.status.busy": "2023-02-24T17:33:33.721641Z",
     "iopub.status.idle": "2023-02-24T17:33:33.729111Z",
     "shell.execute_reply": "2023-02-24T17:33:33.727841Z"
    },
    "id": "92x_YgXXjdWE",
    "outputId": "d61b15d2-3c0c-4f1f-8087-a30607614fc5",
    "papermill": {
     "duration": 0.023352,
     "end_time": "2023-02-24T17:33:33.731383",
     "exception": false,
     "start_time": "2023-02-24T17:33:33.708031",
     "status": "completed"
    },
    "tags": []
   },
   "outputs": [
    {
     "data": {
      "text/plain": [
       "array([[ 81976.99353492,   5272.3930453 ],\n",
       "       [-12088.57747102,    305.55829379],\n",
       "       [ 30421.84254831,  -2375.56915383]])"
      ]
     },
     "execution_count": 14,
     "metadata": {},
     "output_type": "execute_result"
    }
   ],
   "source": [
    "kmeans.cluster_centers_"
   ]
  },
  {
   "cell_type": "code",
   "execution_count": 15,
   "id": "1fbc846e",
   "metadata": {
    "execution": {
     "iopub.execute_input": "2023-02-24T17:33:33.757593Z",
     "iopub.status.busy": "2023-02-24T17:33:33.756927Z",
     "iopub.status.idle": "2023-02-24T17:33:33.765513Z",
     "shell.execute_reply": "2023-02-24T17:33:33.764140Z"
    },
    "id": "TiTTvHetjeQt",
    "outputId": "190fa40c-0e69-4517-e188-fc1eee0a65d2",
    "papermill": {
     "duration": 0.024832,
     "end_time": "2023-02-24T17:33:33.768055",
     "exception": false,
     "start_time": "2023-02-24T17:33:33.743223",
     "status": "completed"
    },
    "tags": []
   },
   "outputs": [
    {
     "data": {
      "text/plain": [
       "Counter({1: 128, 2: 32, 0: 7})"
      ]
     },
     "execution_count": 15,
     "metadata": {},
     "output_type": "execute_result"
    }
   ],
   "source": [
    "# Amount of elements of each cluster\n",
    "Counter(kmeans.labels_)"
   ]
  },
  {
   "cell_type": "code",
   "execution_count": 16,
   "id": "4f72fd55",
   "metadata": {
    "execution": {
     "iopub.execute_input": "2023-02-24T17:33:33.794293Z",
     "iopub.status.busy": "2023-02-24T17:33:33.793885Z",
     "iopub.status.idle": "2023-02-24T17:33:33.821557Z",
     "shell.execute_reply": "2023-02-24T17:33:33.820324Z"
    },
    "id": "MxgqHhcckiwT",
    "outputId": "f478a59f-e176-41f2-c09d-854e2dd4e84f",
    "papermill": {
     "duration": 0.043789,
     "end_time": "2023-02-24T17:33:33.824041",
     "exception": false,
     "start_time": "2023-02-24T17:33:33.780252",
     "status": "completed"
    },
    "tags": []
   },
   "outputs": [
    {
     "data": {
      "text/html": [
       "<div>\n",
       "<style scoped>\n",
       "    .dataframe tbody tr th:only-of-type {\n",
       "        vertical-align: middle;\n",
       "    }\n",
       "\n",
       "    .dataframe tbody tr th {\n",
       "        vertical-align: top;\n",
       "    }\n",
       "\n",
       "    .dataframe thead th {\n",
       "        text-align: right;\n",
       "    }\n",
       "</style>\n",
       "<table border=\"1\" class=\"dataframe\">\n",
       "  <thead>\n",
       "    <tr style=\"text-align: right;\">\n",
       "      <th></th>\n",
       "      <th>country</th>\n",
       "      <th>child_mort</th>\n",
       "      <th>exports</th>\n",
       "      <th>health</th>\n",
       "      <th>imports</th>\n",
       "      <th>income</th>\n",
       "      <th>inflation</th>\n",
       "      <th>life_expec</th>\n",
       "      <th>total_fer</th>\n",
       "      <th>gdpp</th>\n",
       "      <th>cluster</th>\n",
       "    </tr>\n",
       "  </thead>\n",
       "  <tbody>\n",
       "    <tr>\n",
       "      <th>0</th>\n",
       "      <td>Afghanistan</td>\n",
       "      <td>90.2</td>\n",
       "      <td>10.0</td>\n",
       "      <td>7.58</td>\n",
       "      <td>44.9</td>\n",
       "      <td>1610</td>\n",
       "      <td>9.44</td>\n",
       "      <td>56.2</td>\n",
       "      <td>5.82</td>\n",
       "      <td>553</td>\n",
       "      <td>1</td>\n",
       "    </tr>\n",
       "    <tr>\n",
       "      <th>1</th>\n",
       "      <td>Albania</td>\n",
       "      <td>16.6</td>\n",
       "      <td>28.0</td>\n",
       "      <td>6.55</td>\n",
       "      <td>48.6</td>\n",
       "      <td>9930</td>\n",
       "      <td>4.49</td>\n",
       "      <td>76.3</td>\n",
       "      <td>1.65</td>\n",
       "      <td>4090</td>\n",
       "      <td>1</td>\n",
       "    </tr>\n",
       "    <tr>\n",
       "      <th>2</th>\n",
       "      <td>Algeria</td>\n",
       "      <td>27.3</td>\n",
       "      <td>38.4</td>\n",
       "      <td>4.17</td>\n",
       "      <td>31.4</td>\n",
       "      <td>12900</td>\n",
       "      <td>16.10</td>\n",
       "      <td>76.5</td>\n",
       "      <td>2.89</td>\n",
       "      <td>4460</td>\n",
       "      <td>1</td>\n",
       "    </tr>\n",
       "    <tr>\n",
       "      <th>3</th>\n",
       "      <td>Angola</td>\n",
       "      <td>119.0</td>\n",
       "      <td>62.3</td>\n",
       "      <td>2.85</td>\n",
       "      <td>42.9</td>\n",
       "      <td>5900</td>\n",
       "      <td>22.40</td>\n",
       "      <td>60.1</td>\n",
       "      <td>6.16</td>\n",
       "      <td>3530</td>\n",
       "      <td>1</td>\n",
       "    </tr>\n",
       "    <tr>\n",
       "      <th>4</th>\n",
       "      <td>Antigua and Barbuda</td>\n",
       "      <td>10.3</td>\n",
       "      <td>45.5</td>\n",
       "      <td>6.03</td>\n",
       "      <td>58.9</td>\n",
       "      <td>19100</td>\n",
       "      <td>1.44</td>\n",
       "      <td>76.8</td>\n",
       "      <td>2.13</td>\n",
       "      <td>12200</td>\n",
       "      <td>1</td>\n",
       "    </tr>\n",
       "    <tr>\n",
       "      <th>...</th>\n",
       "      <td>...</td>\n",
       "      <td>...</td>\n",
       "      <td>...</td>\n",
       "      <td>...</td>\n",
       "      <td>...</td>\n",
       "      <td>...</td>\n",
       "      <td>...</td>\n",
       "      <td>...</td>\n",
       "      <td>...</td>\n",
       "      <td>...</td>\n",
       "      <td>...</td>\n",
       "    </tr>\n",
       "    <tr>\n",
       "      <th>162</th>\n",
       "      <td>Vanuatu</td>\n",
       "      <td>29.2</td>\n",
       "      <td>46.6</td>\n",
       "      <td>5.25</td>\n",
       "      <td>52.7</td>\n",
       "      <td>2950</td>\n",
       "      <td>2.62</td>\n",
       "      <td>63.0</td>\n",
       "      <td>3.50</td>\n",
       "      <td>2970</td>\n",
       "      <td>1</td>\n",
       "    </tr>\n",
       "    <tr>\n",
       "      <th>163</th>\n",
       "      <td>Venezuela</td>\n",
       "      <td>17.1</td>\n",
       "      <td>28.5</td>\n",
       "      <td>4.91</td>\n",
       "      <td>17.6</td>\n",
       "      <td>16500</td>\n",
       "      <td>45.90</td>\n",
       "      <td>75.4</td>\n",
       "      <td>2.47</td>\n",
       "      <td>13500</td>\n",
       "      <td>1</td>\n",
       "    </tr>\n",
       "    <tr>\n",
       "      <th>164</th>\n",
       "      <td>Vietnam</td>\n",
       "      <td>23.3</td>\n",
       "      <td>72.0</td>\n",
       "      <td>6.84</td>\n",
       "      <td>80.2</td>\n",
       "      <td>4490</td>\n",
       "      <td>12.10</td>\n",
       "      <td>73.1</td>\n",
       "      <td>1.95</td>\n",
       "      <td>1310</td>\n",
       "      <td>1</td>\n",
       "    </tr>\n",
       "    <tr>\n",
       "      <th>165</th>\n",
       "      <td>Yemen</td>\n",
       "      <td>56.3</td>\n",
       "      <td>30.0</td>\n",
       "      <td>5.18</td>\n",
       "      <td>34.4</td>\n",
       "      <td>4480</td>\n",
       "      <td>23.60</td>\n",
       "      <td>67.5</td>\n",
       "      <td>4.67</td>\n",
       "      <td>1310</td>\n",
       "      <td>1</td>\n",
       "    </tr>\n",
       "    <tr>\n",
       "      <th>166</th>\n",
       "      <td>Zambia</td>\n",
       "      <td>83.1</td>\n",
       "      <td>37.0</td>\n",
       "      <td>5.89</td>\n",
       "      <td>30.9</td>\n",
       "      <td>3280</td>\n",
       "      <td>14.00</td>\n",
       "      <td>52.0</td>\n",
       "      <td>5.40</td>\n",
       "      <td>1460</td>\n",
       "      <td>1</td>\n",
       "    </tr>\n",
       "  </tbody>\n",
       "</table>\n",
       "<p>167 rows × 11 columns</p>\n",
       "</div>"
      ],
      "text/plain": [
       "                 country  child_mort  exports  health  imports  income  \\\n",
       "0            Afghanistan        90.2     10.0    7.58     44.9    1610   \n",
       "1                Albania        16.6     28.0    6.55     48.6    9930   \n",
       "2                Algeria        27.3     38.4    4.17     31.4   12900   \n",
       "3                 Angola       119.0     62.3    2.85     42.9    5900   \n",
       "4    Antigua and Barbuda        10.3     45.5    6.03     58.9   19100   \n",
       "..                   ...         ...      ...     ...      ...     ...   \n",
       "162              Vanuatu        29.2     46.6    5.25     52.7    2950   \n",
       "163            Venezuela        17.1     28.5    4.91     17.6   16500   \n",
       "164              Vietnam        23.3     72.0    6.84     80.2    4490   \n",
       "165                Yemen        56.3     30.0    5.18     34.4    4480   \n",
       "166               Zambia        83.1     37.0    5.89     30.9    3280   \n",
       "\n",
       "     inflation  life_expec  total_fer   gdpp  cluster  \n",
       "0         9.44        56.2       5.82    553        1  \n",
       "1         4.49        76.3       1.65   4090        1  \n",
       "2        16.10        76.5       2.89   4460        1  \n",
       "3        22.40        60.1       6.16   3530        1  \n",
       "4         1.44        76.8       2.13  12200        1  \n",
       "..         ...         ...        ...    ...      ...  \n",
       "162       2.62        63.0       3.50   2970        1  \n",
       "163      45.90        75.4       2.47  13500        1  \n",
       "164      12.10        73.1       1.95   1310        1  \n",
       "165      23.60        67.5       4.67   1310        1  \n",
       "166      14.00        52.0       5.40   1460        1  \n",
       "\n",
       "[167 rows x 11 columns]"
      ]
     },
     "execution_count": 16,
     "metadata": {},
     "output_type": "execute_result"
    }
   ],
   "source": [
    "# Adding the cluster number of each element of the data\n",
    "df_c = df.assign(cluster = kmeans.labels_)\n",
    "df_c"
   ]
  },
  {
   "cell_type": "code",
   "execution_count": 17,
   "id": "330dadaf",
   "metadata": {
    "execution": {
     "iopub.execute_input": "2023-02-24T17:33:33.851362Z",
     "iopub.status.busy": "2023-02-24T17:33:33.850951Z",
     "iopub.status.idle": "2023-02-24T17:33:34.122428Z",
     "shell.execute_reply": "2023-02-24T17:33:34.121490Z"
    },
    "id": "QojRgdrqjlqT",
    "outputId": "e389c75c-17e3-4975-ebc8-8a98b7ca5ee3",
    "papermill": {
     "duration": 0.288471,
     "end_time": "2023-02-24T17:33:34.125049",
     "exception": false,
     "start_time": "2023-02-24T17:33:33.836578",
     "status": "completed"
    },
    "tags": []
   },
   "outputs": [
    {
     "data": {
      "image/png": "[encoded data removed]",
      "text/plain": [
       "<Figure size 800x550 with 1 Axes>"
      ]
     },
     "metadata": {},
     "output_type": "display_data"
    }
   ],
   "source": [
    "# 2D visualization of the clusterization of the attributes according to the cluster to which it belongs\n",
    "sns.scatterplot(data=df_pca, x=\"PC1\", y=\"PC2\", hue=kmeans.labels_)\n",
    "plt.show()"
   ]
  },
  {
   "cell_type": "code",
   "execution_count": 18,
   "id": "80884102",
   "metadata": {
    "execution": {
     "iopub.execute_input": "2023-02-24T17:33:34.154334Z",
     "iopub.status.busy": "2023-02-24T17:33:34.153908Z",
     "iopub.status.idle": "2023-02-24T17:33:34.258560Z",
     "shell.execute_reply": "2023-02-24T17:33:34.257194Z"
    },
    "id": "1QYyXkG0nDL5",
    "outputId": "f64abff8-a5e1-4bdb-b25c-9d5c19c96ba2",
    "papermill": {
     "duration": 0.12313,
     "end_time": "2023-02-24T17:33:34.261768",
     "exception": false,
     "start_time": "2023-02-24T17:33:34.138638",
     "status": "completed"
    },
    "tags": []
   },
   "outputs": [
    {
     "data": {
      "text/html": [
       "<div>\n",
       "<style scoped>\n",
       "    .dataframe tbody tr th:only-of-type {\n",
       "        vertical-align: middle;\n",
       "    }\n",
       "\n",
       "    .dataframe tbody tr th {\n",
       "        vertical-align: top;\n",
       "    }\n",
       "\n",
       "    .dataframe thead tr th {\n",
       "        text-align: left;\n",
       "    }\n",
       "\n",
       "    .dataframe thead tr:last-of-type th {\n",
       "        text-align: right;\n",
       "    }\n",
       "</style>\n",
       "<table border=\"1\" class=\"dataframe\">\n",
       "  <thead>\n",
       "    <tr>\n",
       "      <th></th>\n",
       "      <th colspan=\"8\" halign=\"left\">child_mort</th>\n",
       "      <th colspan=\"2\" halign=\"left\">exports</th>\n",
       "      <th>...</th>\n",
       "      <th colspan=\"2\" halign=\"left\">total_fer</th>\n",
       "      <th colspan=\"8\" halign=\"left\">gdpp</th>\n",
       "    </tr>\n",
       "    <tr>\n",
       "      <th></th>\n",
       "      <th>count</th>\n",
       "      <th>mean</th>\n",
       "      <th>std</th>\n",
       "      <th>min</th>\n",
       "      <th>25%</th>\n",
       "      <th>50%</th>\n",
       "      <th>75%</th>\n",
       "      <th>max</th>\n",
       "      <th>count</th>\n",
       "      <th>mean</th>\n",
       "      <th>...</th>\n",
       "      <th>75%</th>\n",
       "      <th>max</th>\n",
       "      <th>count</th>\n",
       "      <th>mean</th>\n",
       "      <th>std</th>\n",
       "      <th>min</th>\n",
       "      <th>25%</th>\n",
       "      <th>50%</th>\n",
       "      <th>75%</th>\n",
       "      <th>max</th>\n",
       "    </tr>\n",
       "    <tr>\n",
       "      <th>cluster</th>\n",
       "      <th></th>\n",
       "      <th></th>\n",
       "      <th></th>\n",
       "      <th></th>\n",
       "      <th></th>\n",
       "      <th></th>\n",
       "      <th></th>\n",
       "      <th></th>\n",
       "      <th></th>\n",
       "      <th></th>\n",
       "      <th></th>\n",
       "      <th></th>\n",
       "      <th></th>\n",
       "      <th></th>\n",
       "      <th></th>\n",
       "      <th></th>\n",
       "      <th></th>\n",
       "      <th></th>\n",
       "      <th></th>\n",
       "      <th></th>\n",
       "      <th></th>\n",
       "    </tr>\n",
       "  </thead>\n",
       "  <tbody>\n",
       "    <tr>\n",
       "      <th>0</th>\n",
       "      <td>7.0</td>\n",
       "      <td>6.228571</td>\n",
       "      <td>3.707971</td>\n",
       "      <td>2.8</td>\n",
       "      <td>3.000</td>\n",
       "      <td>4.50</td>\n",
       "      <td>9.750</td>\n",
       "      <td>10.8</td>\n",
       "      <td>7.0</td>\n",
       "      <td>96.442857</td>\n",
       "      <td>...</td>\n",
       "      <td>2.0100</td>\n",
       "      <td>2.21</td>\n",
       "      <td>7.0</td>\n",
       "      <td>65442.857143</td>\n",
       "      <td>26336.340998</td>\n",
       "      <td>35300.0</td>\n",
       "      <td>42550.0</td>\n",
       "      <td>70300.0</td>\n",
       "      <td>81200.0</td>\n",
       "      <td>105000.0</td>\n",
       "    </tr>\n",
       "    <tr>\n",
       "      <th>1</th>\n",
       "      <td>128.0</td>\n",
       "      <td>47.389844</td>\n",
       "      <td>40.972276</td>\n",
       "      <td>4.5</td>\n",
       "      <td>16.575</td>\n",
       "      <td>30.75</td>\n",
       "      <td>68.075</td>\n",
       "      <td>208.0</td>\n",
       "      <td>128.0</td>\n",
       "      <td>35.865617</td>\n",
       "      <td>...</td>\n",
       "      <td>4.6025</td>\n",
       "      <td>7.49</td>\n",
       "      <td>128.0</td>\n",
       "      <td>4438.390625</td>\n",
       "      <td>4100.482425</td>\n",
       "      <td>231.0</td>\n",
       "      <td>1030.0</td>\n",
       "      <td>3075.0</td>\n",
       "      <td>6567.5</td>\n",
       "      <td>16600.0</td>\n",
       "    </tr>\n",
       "    <tr>\n",
       "      <th>2</th>\n",
       "      <td>32.0</td>\n",
       "      <td>8.800000</td>\n",
       "      <td>18.906715</td>\n",
       "      <td>2.6</td>\n",
       "      <td>3.875</td>\n",
       "      <td>4.25</td>\n",
       "      <td>6.350</td>\n",
       "      <td>111.0</td>\n",
       "      <td>32.0</td>\n",
       "      <td>49.978125</td>\n",
       "      <td>...</td>\n",
       "      <td>2.0350</td>\n",
       "      <td>5.21</td>\n",
       "      <td>32.0</td>\n",
       "      <td>35587.500000</td>\n",
       "      <td>12060.245276</td>\n",
       "      <td>17100.0</td>\n",
       "      <td>23175.0</td>\n",
       "      <td>35400.0</td>\n",
       "      <td>46375.0</td>\n",
       "      <td>58000.0</td>\n",
       "    </tr>\n",
       "  </tbody>\n",
       "</table>\n",
       "<p>3 rows × 72 columns</p>\n",
       "</div>"
      ],
      "text/plain": [
       "        child_mort                                                           \\\n",
       "             count       mean        std  min     25%    50%     75%    max   \n",
       "cluster                                                                       \n",
       "0              7.0   6.228571   3.707971  2.8   3.000   4.50   9.750   10.8   \n",
       "1            128.0  47.389844  40.972276  4.5  16.575  30.75  68.075  208.0   \n",
       "2             32.0   8.800000  18.906715  2.6   3.875   4.25   6.350  111.0   \n",
       "\n",
       "        exports             ... total_fer         gdpp                \\\n",
       "          count       mean  ...       75%   max  count          mean   \n",
       "cluster                     ...                                        \n",
       "0           7.0  96.442857  ...    2.0100  2.21    7.0  65442.857143   \n",
       "1         128.0  35.865617  ...    4.6025  7.49  128.0   4438.390625   \n",
       "2          32.0  49.978125  ...    2.0350  5.21   32.0  35587.500000   \n",
       "\n",
       "                                                                     \n",
       "                  std      min      25%      50%      75%       max  \n",
       "cluster                                                              \n",
       "0        26336.340998  35300.0  42550.0  70300.0  81200.0  105000.0  \n",
       "1         4100.482425    231.0   1030.0   3075.0   6567.5   16600.0  \n",
       "2        12060.245276  17100.0  23175.0  35400.0  46375.0   58000.0  \n",
       "\n",
       "[3 rows x 72 columns]"
      ]
     },
     "execution_count": 18,
     "metadata": {},
     "output_type": "execute_result"
    }
   ],
   "source": [
    "# Corresponding information according to Cluster\n",
    "df_c.groupby('cluster').describe()"
   ]
  },
  {
   "cell_type": "code",
   "execution_count": 19,
   "id": "1d912477",
   "metadata": {
    "execution": {
     "iopub.execute_input": "2023-02-24T17:33:34.292098Z",
     "iopub.status.busy": "2023-02-24T17:33:34.291227Z",
     "iopub.status.idle": "2023-02-24T17:33:34.314134Z",
     "shell.execute_reply": "2023-02-24T17:33:34.312504Z"
    },
    "id": "A3WRaGzuk2s7",
    "outputId": "e4079ea9-d6d1-402e-bb99-d0d208c068fc",
    "papermill": {
     "duration": 0.041326,
     "end_time": "2023-02-24T17:33:34.317148",
     "exception": false,
     "start_time": "2023-02-24T17:33:34.275822",
     "status": "completed"
    },
    "tags": []
   },
   "outputs": [
    {
     "data": {
      "text/html": [
       "<div>\n",
       "<style scoped>\n",
       "    .dataframe tbody tr th:only-of-type {\n",
       "        vertical-align: middle;\n",
       "    }\n",
       "\n",
       "    .dataframe tbody tr th {\n",
       "        vertical-align: top;\n",
       "    }\n",
       "\n",
       "    .dataframe thead th {\n",
       "        text-align: right;\n",
       "    }\n",
       "</style>\n",
       "<table border=\"1\" class=\"dataframe\">\n",
       "  <thead>\n",
       "    <tr style=\"text-align: right;\">\n",
       "      <th></th>\n",
       "      <th>child_mort</th>\n",
       "      <th>exports</th>\n",
       "      <th>health</th>\n",
       "      <th>imports</th>\n",
       "      <th>income</th>\n",
       "      <th>inflation</th>\n",
       "      <th>life_expec</th>\n",
       "      <th>total_fer</th>\n",
       "      <th>gdpp</th>\n",
       "    </tr>\n",
       "    <tr>\n",
       "      <th>cluster</th>\n",
       "      <th></th>\n",
       "      <th></th>\n",
       "      <th></th>\n",
       "      <th></th>\n",
       "      <th></th>\n",
       "      <th></th>\n",
       "      <th></th>\n",
       "      <th></th>\n",
       "      <th></th>\n",
       "    </tr>\n",
       "  </thead>\n",
       "  <tbody>\n",
       "    <tr>\n",
       "      <th>0</th>\n",
       "      <td>6.228571</td>\n",
       "      <td>96.442857</td>\n",
       "      <td>5.712857</td>\n",
       "      <td>68.571429</td>\n",
       "      <td>80342.857143</td>\n",
       "      <td>6.388714</td>\n",
       "      <td>80.285714</td>\n",
       "      <td>1.767143</td>\n",
       "      <td>65442.857143</td>\n",
       "    </tr>\n",
       "    <tr>\n",
       "      <th>1</th>\n",
       "      <td>47.389844</td>\n",
       "      <td>35.865617</td>\n",
       "      <td>6.332031</td>\n",
       "      <td>45.921609</td>\n",
       "      <td>8569.242188</td>\n",
       "      <td>8.957648</td>\n",
       "      <td>67.873437</td>\n",
       "      <td>3.263359</td>\n",
       "      <td>4438.390625</td>\n",
       "    </tr>\n",
       "    <tr>\n",
       "      <th>2</th>\n",
       "      <td>8.800000</td>\n",
       "      <td>49.978125</td>\n",
       "      <td>8.991563</td>\n",
       "      <td>46.021875</td>\n",
       "      <td>37621.875000</td>\n",
       "      <td>3.383312</td>\n",
       "      <td>79.156250</td>\n",
       "      <td>1.944687</td>\n",
       "      <td>35587.500000</td>\n",
       "    </tr>\n",
       "  </tbody>\n",
       "</table>\n",
       "</div>"
      ],
      "text/plain": [
       "         child_mort    exports    health    imports        income  inflation  \\\n",
       "cluster                                                                        \n",
       "0          6.228571  96.442857  5.712857  68.571429  80342.857143   6.388714   \n",
       "1         47.389844  35.865617  6.332031  45.921609   8569.242188   8.957648   \n",
       "2          8.800000  49.978125  8.991563  46.021875  37621.875000   3.383312   \n",
       "\n",
       "         life_expec  total_fer          gdpp  \n",
       "cluster                                       \n",
       "0         80.285714   1.767143  65442.857143  \n",
       "1         67.873437   3.263359   4438.390625  \n",
       "2         79.156250   1.944687  35587.500000  "
      ]
     },
     "execution_count": 19,
     "metadata": {},
     "output_type": "execute_result"
    }
   ],
   "source": [
    "# Information corresponding to the average according to cluster\n",
    "df_c.groupby('cluster').mean()"
   ]
  },
  {
   "cell_type": "code",
   "execution_count": 20,
   "id": "f92b66da",
   "metadata": {
    "execution": {
     "iopub.execute_input": "2023-02-24T17:33:34.348442Z",
     "iopub.status.busy": "2023-02-24T17:33:34.347052Z",
     "iopub.status.idle": "2023-02-24T17:33:34.369846Z",
     "shell.execute_reply": "2023-02-24T17:33:34.368325Z"
    },
    "id": "YYppVp-Smsrw",
    "outputId": "17651bac-80c4-4ab8-b268-2f99d58fafc3",
    "papermill": {
     "duration": 0.041398,
     "end_time": "2023-02-24T17:33:34.372790",
     "exception": false,
     "start_time": "2023-02-24T17:33:34.331392",
     "status": "completed"
    },
    "tags": []
   },
   "outputs": [
    {
     "data": {
      "text/html": [
       "<div>\n",
       "<style scoped>\n",
       "    .dataframe tbody tr th:only-of-type {\n",
       "        vertical-align: middle;\n",
       "    }\n",
       "\n",
       "    .dataframe tbody tr th {\n",
       "        vertical-align: top;\n",
       "    }\n",
       "\n",
       "    .dataframe thead th {\n",
       "        text-align: right;\n",
       "    }\n",
       "</style>\n",
       "<table border=\"1\" class=\"dataframe\">\n",
       "  <thead>\n",
       "    <tr style=\"text-align: right;\">\n",
       "      <th></th>\n",
       "      <th>child_mort</th>\n",
       "      <th>exports</th>\n",
       "      <th>health</th>\n",
       "      <th>imports</th>\n",
       "      <th>income</th>\n",
       "      <th>inflation</th>\n",
       "      <th>life_expec</th>\n",
       "      <th>total_fer</th>\n",
       "      <th>gdpp</th>\n",
       "    </tr>\n",
       "    <tr>\n",
       "      <th>cluster</th>\n",
       "      <th></th>\n",
       "      <th></th>\n",
       "      <th></th>\n",
       "      <th></th>\n",
       "      <th></th>\n",
       "      <th></th>\n",
       "      <th></th>\n",
       "      <th></th>\n",
       "      <th></th>\n",
       "    </tr>\n",
       "  </thead>\n",
       "  <tbody>\n",
       "    <tr>\n",
       "      <th>0</th>\n",
       "      <td>3.707971</td>\n",
       "      <td>63.326478</td>\n",
       "      <td>3.829194</td>\n",
       "      <td>62.521269</td>\n",
       "      <td>22950.733986</td>\n",
       "      <td>5.999308</td>\n",
       "      <td>2.087605</td>\n",
       "      <td>0.362248</td>\n",
       "      <td>26336.340998</td>\n",
       "    </tr>\n",
       "    <tr>\n",
       "      <th>1</th>\n",
       "      <td>40.972276</td>\n",
       "      <td>19.240987</td>\n",
       "      <td>2.348954</td>\n",
       "      <td>19.737419</td>\n",
       "      <td>6833.699409</td>\n",
       "      <td>11.361343</td>\n",
       "      <td>8.259192</td>\n",
       "      <td>1.555788</td>\n",
       "      <td>4100.482425</td>\n",
       "    </tr>\n",
       "    <tr>\n",
       "      <th>2</th>\n",
       "      <td>18.906715</td>\n",
       "      <td>29.064708</td>\n",
       "      <td>2.972031</td>\n",
       "      <td>25.984024</td>\n",
       "      <td>7646.619931</td>\n",
       "      <td>6.037584</td>\n",
       "      <td>3.970450</td>\n",
       "      <td>0.752132</td>\n",
       "      <td>12060.245276</td>\n",
       "    </tr>\n",
       "  </tbody>\n",
       "</table>\n",
       "</div>"
      ],
      "text/plain": [
       "         child_mort    exports    health    imports        income  inflation  \\\n",
       "cluster                                                                        \n",
       "0          3.707971  63.326478  3.829194  62.521269  22950.733986   5.999308   \n",
       "1         40.972276  19.240987  2.348954  19.737419   6833.699409  11.361343   \n",
       "2         18.906715  29.064708  2.972031  25.984024   7646.619931   6.037584   \n",
       "\n",
       "         life_expec  total_fer          gdpp  \n",
       "cluster                                       \n",
       "0          2.087605   0.362248  26336.340998  \n",
       "1          8.259192   1.555788   4100.482425  \n",
       "2          3.970450   0.752132  12060.245276  "
      ]
     },
     "execution_count": 20,
     "metadata": {},
     "output_type": "execute_result"
    }
   ],
   "source": [
    "# Information corresponding to the standard deviation according to cluster\n",
    "df_c.groupby('cluster').std()"
   ]
  },
  {
   "cell_type": "markdown",
   "id": "ac927569",
   "metadata": {
    "id": "3rwTggzXsSJj",
    "papermill": {
     "duration": 0.014018,
     "end_time": "2023-02-24T17:33:34.401081",
     "exception": false,
     "start_time": "2023-02-24T17:33:34.387063",
     "status": "completed"
    },
    "tags": []
   },
   "source": [
    "**Observations:**\n",
    "\n",
    "From the results it is obtained that at the average level in the countries:\n",
    "\n",
    "Cluster 0 has a low infant mortality, medium inflation, a high life expectancy and a high GDP.\n",
    "\n",
    "Cluster 1 has a very high infant mortality, high inflation, a low life expectancy and a low GDP.\n",
    "\n",
    "Cluster 2 has a medium infant mortality, low inflation, a half -life expectancy and an middle GDP.\n",
    "\n",
    "\n",
    "**Conclusion:**\n",
    "\n",
    "> ***Cluster 1 countries need the highest priority.***"
   ]
  },
  {
   "cell_type": "code",
   "execution_count": 21,
   "id": "14151ec7",
   "metadata": {
    "execution": {
     "iopub.execute_input": "2023-02-24T17:33:34.431798Z",
     "iopub.status.busy": "2023-02-24T17:33:34.431327Z",
     "iopub.status.idle": "2023-02-24T17:33:34.442788Z",
     "shell.execute_reply": "2023-02-24T17:33:34.441351Z"
    },
    "id": "nN1CwsTyweEp",
    "outputId": "b43d683f-bf23-455e-a130-38ceb2af6757",
    "papermill": {
     "duration": 0.030104,
     "end_time": "2023-02-24T17:33:34.445598",
     "exception": false,
     "start_time": "2023-02-24T17:33:34.415494",
     "status": "completed"
    },
    "tags": []
   },
   "outputs": [
    {
     "data": {
      "text/plain": [
       "0              Afghanistan\n",
       "1                  Albania\n",
       "2                  Algeria\n",
       "3                   Angola\n",
       "4      Antigua and Barbuda\n",
       "              ...         \n",
       "162                Vanuatu\n",
       "163              Venezuela\n",
       "164                Vietnam\n",
       "165                  Yemen\n",
       "166                 Zambia\n",
       "Name: country, Length: 128, dtype: object"
      ]
     },
     "execution_count": 21,
     "metadata": {},
     "output_type": "execute_result"
    }
   ],
   "source": [
    "# Cluster 1 countries\n",
    "df_c[(df_c['cluster']== 1)]['country']"
   ]
  }
 ],
 "metadata": {
  "kernelspec": {
   "display_name": "Python 3",
   "language": "python",
   "name": "python3"
  },
  "language_info": {
   "codemirror_mode": {
    "name": "ipython",
    "version": 3
   },
   "file_extension": ".py",
   "mimetype": "text/x-python",
   "name": "python",
   "nbconvert_exporter": "python",
   "pygments_lexer": "ipython3",
   "version": "3.7.12"
  },
  "papermill": {
   "default_parameters": {},
   "duration": 20.248224,
   "end_time": "2023-02-24T17:33:35.483710",
   "environment_variables": {},
   "exception": null,
   "input_path": "__notebook__.ipynb",
   "output_path": "__notebook__.ipynb",
   "parameters": {},
   "start_time": "2023-02-24T17:33:15.235486",
   "version": "2.4.0"
  }
 },
 "nbformat": 4,
 "nbformat_minor": 5
}
