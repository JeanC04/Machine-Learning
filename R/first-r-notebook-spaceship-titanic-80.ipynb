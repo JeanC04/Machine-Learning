{
 "cells": [
  {
   "cell_type": "markdown",
   "id": "b47a9460",
   "metadata": {
    "_cell_guid": "41e5a418-1651-4526-a4d3-0c9a8fa2a922",
    "_uuid": "94d19e7a-1e24-4845-9b9b-12f09fe1f7e6",
    "papermill": {
     "duration": 0.018594,
     "end_time": "2023-02-14T20:41:21.394851",
     "exception": false,
     "start_time": "2023-02-14T20:41:21.376257",
     "status": "completed"
    },
    "tags": []
   },
   "source": [
    "# **Spaceship Titanic**"
   ]
  },
  {
   "cell_type": "markdown",
   "id": "188fa2e6",
   "metadata": {
    "papermill": {
     "duration": 0.016566,
     "end_time": "2023-02-14T20:41:21.429581",
     "exception": false,
     "start_time": "2023-02-14T20:41:21.413015",
     "status": "completed"
    },
    "tags": []
   },
   "source": [
    "## Description:\n",
    "\n",
    "**PassengerId** - A unique Id for each passenger. Each Id takes the form gggg_pp where gggg indicates a group the passenger is travelling with and pp is their number within the group. People in a group are often family members, but not always.\n",
    "\n",
    "**HomePlanet** - The planet the passenger departed from, typically their planet of permanent residence.\n",
    "\n",
    "**CryoSleep** - Indicates whether the passenger elected to be put into suspended animation for the duration of the voyage. Passengers in cryosleep are confined to their cabins.\n",
    "\n",
    "**Cabin** - The cabin number where the passenger is staying. Takes the form deck/num/side, where side can be either P for Port or S for Starboard.\n",
    "\n",
    "**Destination** - The planet the passenger will be debarking to.\n",
    "\n",
    "**Age** - The age of the passenger.\n",
    "\n",
    "**VIP** - Whether the passenger has paid for special VIP service during the voyage.\n",
    "\n",
    "**RoomService, FoodCourt, ShoppingMall, Spa, VRDeck** - Amount the passenger has billed at each of the Spaceship Titanic's many luxury amenities.\n",
    "\n",
    "**Name** - The first and last names of the passenger.\n",
    "\n",
    "**Transported** - Whether the passenger was transported to another dimension. This is the target, the column you are trying to predict."
   ]
  },
  {
   "cell_type": "markdown",
   "id": "086a203e",
   "metadata": {
    "_cell_guid": "ad688efa-b841-47be-8339-709fb4178d8b",
    "_uuid": "26f2d540-a888-4c5a-921a-6f4c7e59639e",
    "papermill": {
     "duration": 0.016903,
     "end_time": "2023-02-14T20:41:21.463145",
     "exception": false,
     "start_time": "2023-02-14T20:41:21.446242",
     "status": "completed"
    },
    "tags": []
   },
   "source": [
    "# 1. Importing Libraries"
   ]
  },
  {
   "cell_type": "code",
   "execution_count": 1,
   "id": "5c866918",
   "metadata": {
    "_cell_guid": "6131265d-f750-463d-ae74-a96f1b8d1eaa",
    "_uuid": "052c8dd3-94c6-4707-bb82-5a3db294f19f",
    "collapsed": false,
    "execution": {
     "iopub.execute_input": "2023-02-14T20:41:21.501396Z",
     "iopub.status.busy": "2023-02-14T20:41:21.498086Z",
     "iopub.status.idle": "2023-02-14T20:41:26.787834Z",
     "shell.execute_reply": "2023-02-14T20:41:26.785935Z"
    },
    "jupyter": {
     "outputs_hidden": false
    },
    "papermill": {
     "duration": 5.31057,
     "end_time": "2023-02-14T20:41:26.790222",
     "exception": false,
     "start_time": "2023-02-14T20:41:21.479652",
     "status": "completed"
    },
    "tags": []
   },
   "outputs": [
    {
     "name": "stderr",
     "output_type": "stream",
     "text": [
      "── \u001b[1mAttaching packages\u001b[22m ─────────────────────────────────────── tidyverse 1.3.2 ──\n",
      "\u001b[32m✔\u001b[39m \u001b[34mggplot2\u001b[39m 3.4.0      \u001b[32m✔\u001b[39m \u001b[34mdplyr  \u001b[39m 1.0.10\n",
      "\u001b[32m✔\u001b[39m \u001b[34mtibble \u001b[39m 3.1.8      \u001b[32m✔\u001b[39m \u001b[34mstringr\u001b[39m 1.5.0 \n",
      "\u001b[32m✔\u001b[39m \u001b[34mtidyr  \u001b[39m 1.2.1      \u001b[32m✔\u001b[39m \u001b[34mforcats\u001b[39m 0.5.2 \n",
      "\u001b[32m✔\u001b[39m \u001b[34mpurrr  \u001b[39m 1.0.1      \n",
      "── \u001b[1mConflicts\u001b[22m ────────────────────────────────────────── tidyverse_conflicts() ──\n",
      "\u001b[31m✖\u001b[39m \u001b[34mdplyr\u001b[39m::\u001b[32mfilter()\u001b[39m masks \u001b[34mstats\u001b[39m::filter()\n",
      "\u001b[31m✖\u001b[39m \u001b[34mdplyr\u001b[39m::\u001b[32mlag()\u001b[39m    masks \u001b[34mstats\u001b[39m::lag()\n",
      "Loading required package: Hmisc\n",
      "\n",
      "Loading required package: lattice\n",
      "\n",
      "Loading required package: survival\n",
      "\n",
      "Loading required package: Formula\n",
      "\n",
      "\n",
      "Attaching package: ‘Hmisc’\n",
      "\n",
      "\n",
      "The following objects are masked from ‘package:dplyr’:\n",
      "\n",
      "    src, summarize\n",
      "\n",
      "\n",
      "The following objects are masked from ‘package:base’:\n",
      "\n",
      "    format.pval, units\n",
      "\n",
      "\n",
      "funModeling v.1.9.4 :)\n",
      "Examples and tutorials at livebook.datascienceheroes.com\n",
      " / Now in Spanish: librovivodecienciadedatos.ai\n",
      "\n",
      "\n",
      "Attaching package: ‘mice’\n",
      "\n",
      "\n",
      "The following object is masked from ‘package:stats’:\n",
      "\n",
      "    filter\n",
      "\n",
      "\n",
      "The following objects are masked from ‘package:base’:\n",
      "\n",
      "    cbind, rbind\n",
      "\n",
      "\n",
      "corrplot 0.92 loaded\n",
      "\n",
      "\n",
      "Attaching package: ‘recipes’\n",
      "\n",
      "\n",
      "The following object is masked from ‘package:stringr’:\n",
      "\n",
      "    fixed\n",
      "\n",
      "\n",
      "The following object is masked from ‘package:stats’:\n",
      "\n",
      "    step\n",
      "\n",
      "\n",
      "\n",
      "Attaching package: ‘parsnip’\n",
      "\n",
      "\n",
      "The following object is masked from ‘package:Hmisc’:\n",
      "\n",
      "    translate\n",
      "\n",
      "\n",
      "Loading required package: scales\n",
      "\n",
      "\n",
      "Attaching package: ‘scales’\n",
      "\n",
      "\n",
      "The following object is masked from ‘package:purrr’:\n",
      "\n",
      "    discard\n",
      "\n",
      "\n",
      "The following object is masked from ‘package:readr’:\n",
      "\n",
      "    col_factor\n",
      "\n",
      "\n",
      "── \u001b[1mAttaching packages\u001b[22m ────────────────────────────────────── tidymodels 1.0.0 ──\n",
      "\n",
      "\u001b[32m✔\u001b[39m \u001b[34mbroom       \u001b[39m 1.0.2     \u001b[32m✔\u001b[39m \u001b[34mworkflows   \u001b[39m 1.1.2\n",
      "\u001b[32m✔\u001b[39m \u001b[34minfer       \u001b[39m 1.0.4     \u001b[32m✔\u001b[39m \u001b[34mworkflowsets\u001b[39m 1.0.0\n",
      "\u001b[32m✔\u001b[39m \u001b[34mmodeldata   \u001b[39m 1.0.1     \u001b[32m✔\u001b[39m \u001b[34myardstick   \u001b[39m 1.1.0\n",
      "\u001b[32m✔\u001b[39m \u001b[34mtune        \u001b[39m 1.0.1     \n",
      "\n",
      "── \u001b[1mConflicts\u001b[22m ───────────────────────────────────────── tidymodels_conflicts() ──\n",
      "\u001b[31m✖\u001b[39m \u001b[34mscales\u001b[39m::\u001b[32mdiscard()\u001b[39m    masks \u001b[34mpurrr\u001b[39m::discard()\n",
      "\u001b[31m✖\u001b[39m \u001b[34mmice\u001b[39m::\u001b[32mfilter()\u001b[39m       masks \u001b[34mdplyr\u001b[39m::filter(), \u001b[34mstats\u001b[39m::filter()\n",
      "\u001b[31m✖\u001b[39m \u001b[34mrecipes\u001b[39m::\u001b[32mfixed()\u001b[39m     masks \u001b[34mstringr\u001b[39m::fixed()\n",
      "\u001b[31m✖\u001b[39m \u001b[34mdplyr\u001b[39m::\u001b[32mlag()\u001b[39m         masks \u001b[34mstats\u001b[39m::lag()\n",
      "\u001b[31m✖\u001b[39m \u001b[34myardstick\u001b[39m::\u001b[32mspec()\u001b[39m    masks \u001b[34mreadr\u001b[39m::spec()\n",
      "\u001b[31m✖\u001b[39m \u001b[34mHmisc\u001b[39m::\u001b[32msrc()\u001b[39m         masks \u001b[34mdplyr\u001b[39m::src()\n",
      "\u001b[31m✖\u001b[39m \u001b[34mrecipes\u001b[39m::\u001b[32mstep()\u001b[39m      masks \u001b[34mstats\u001b[39m::step()\n",
      "\u001b[31m✖\u001b[39m \u001b[34mHmisc\u001b[39m::\u001b[32msummarize()\u001b[39m   masks \u001b[34mdplyr\u001b[39m::summarize()\n",
      "\u001b[31m✖\u001b[39m \u001b[34mparsnip\u001b[39m::\u001b[32mtranslate()\u001b[39m masks \u001b[34mHmisc\u001b[39m::translate()\n",
      "\u001b[34m•\u001b[39m Search for functions across packages at \u001b[32mhttps://www.tidymodels.org/find/\u001b[39m\n",
      "\n",
      "Loading required package: carData\n",
      "\n",
      "\n",
      "Attaching package: ‘car’\n",
      "\n",
      "\n",
      "The following object is masked from ‘package:dplyr’:\n",
      "\n",
      "    recode\n",
      "\n",
      "\n",
      "The following object is masked from ‘package:purrr’:\n",
      "\n",
      "    some\n",
      "\n",
      "\n",
      "\n",
      "Attaching package: ‘vip’\n",
      "\n",
      "\n",
      "The following object is masked from ‘package:utils’:\n",
      "\n",
      "    vi\n",
      "\n",
      "\n"
     ]
    }
   ],
   "source": [
    "library(stats)\n",
    "library(readr)\n",
    "library(tidyverse)\n",
    "library(funModeling)\n",
    "library(dplyr)\n",
    "library(missForest)\n",
    "library(mice)\n",
    "library(ggpubr)\n",
    "library(corrplot)\n",
    "library(rsample)\n",
    "library(recipes)\n",
    "library(parsnip)\n",
    "library(dials)\n",
    "library(tidymodels)\n",
    "library(car)\n",
    "library(vip)"
   ]
  },
  {
   "cell_type": "markdown",
   "id": "f0572f3e",
   "metadata": {
    "_cell_guid": "2f943227-3037-4572-91d9-5424e7799f3a",
    "_uuid": "8ef420b3-b80d-46e6-bb50-f30c3cfab9d7",
    "papermill": {
     "duration": 0.019547,
     "end_time": "2023-02-14T20:41:26.828875",
     "exception": false,
     "start_time": "2023-02-14T20:41:26.809328",
     "status": "completed"
    },
    "tags": []
   },
   "source": [
    "# 2. Loading Datasets"
   ]
  },
  {
   "cell_type": "code",
   "execution_count": 2,
   "id": "18606aaa",
   "metadata": {
    "_cell_guid": "96ac5b52-f83a-415f-a34d-1ed4c8fb5298",
    "_uuid": "24d446ee-380c-4e22-bb9a-dbb1bdb6b1f3",
    "collapsed": false,
    "execution": {
     "iopub.execute_input": "2023-02-14T20:41:26.898361Z",
     "iopub.status.busy": "2023-02-14T20:41:26.867784Z",
     "iopub.status.idle": "2023-02-14T20:41:27.144530Z",
     "shell.execute_reply": "2023-02-14T20:41:27.142042Z"
    },
    "jupyter": {
     "outputs_hidden": false
    },
    "papermill": {
     "duration": 0.299744,
     "end_time": "2023-02-14T20:41:27.147381",
     "exception": false,
     "start_time": "2023-02-14T20:41:26.847637",
     "status": "completed"
    },
    "tags": []
   },
   "outputs": [
    {
     "data": {
      "text/html": [
       "<table class=\"dataframe\">\n",
       "<caption>A tibble: 6 × 14</caption>\n",
       "<thead>\n",
       "\t<tr><th scope=col>PassengerId</th><th scope=col>HomePlanet</th><th scope=col>CryoSleep</th><th scope=col>Cabin</th><th scope=col>Destination</th><th scope=col>Age</th><th scope=col>VIP</th><th scope=col>RoomService</th><th scope=col>FoodCourt</th><th scope=col>ShoppingMall</th><th scope=col>Spa</th><th scope=col>VRDeck</th><th scope=col>Name</th><th scope=col>Transported</th></tr>\n",
       "\t<tr><th scope=col>&lt;chr&gt;</th><th scope=col>&lt;chr&gt;</th><th scope=col>&lt;lgl&gt;</th><th scope=col>&lt;chr&gt;</th><th scope=col>&lt;chr&gt;</th><th scope=col>&lt;dbl&gt;</th><th scope=col>&lt;lgl&gt;</th><th scope=col>&lt;dbl&gt;</th><th scope=col>&lt;dbl&gt;</th><th scope=col>&lt;dbl&gt;</th><th scope=col>&lt;dbl&gt;</th><th scope=col>&lt;dbl&gt;</th><th scope=col>&lt;chr&gt;</th><th scope=col>&lt;lgl&gt;</th></tr>\n",
       "</thead>\n",
       "<tbody>\n",
       "\t<tr><td>0001_01</td><td>Europa</td><td>FALSE</td><td>B/0/P</td><td>TRAPPIST-1e  </td><td>39</td><td>FALSE</td><td>  0</td><td>   0</td><td>  0</td><td>   0</td><td>  0</td><td>Maham Ofracculy  </td><td>FALSE</td></tr>\n",
       "\t<tr><td>0002_01</td><td>Earth </td><td>FALSE</td><td>F/0/S</td><td>TRAPPIST-1e  </td><td>24</td><td>FALSE</td><td>109</td><td>   9</td><td> 25</td><td> 549</td><td> 44</td><td>Juanna Vines     </td><td> TRUE</td></tr>\n",
       "\t<tr><td>0003_01</td><td>Europa</td><td>FALSE</td><td>A/0/S</td><td>TRAPPIST-1e  </td><td>58</td><td> TRUE</td><td> 43</td><td>3576</td><td>  0</td><td>6715</td><td> 49</td><td>Altark Susent    </td><td>FALSE</td></tr>\n",
       "\t<tr><td>0003_02</td><td>Europa</td><td>FALSE</td><td>A/0/S</td><td>TRAPPIST-1e  </td><td>33</td><td>FALSE</td><td>  0</td><td>1283</td><td>371</td><td>3329</td><td>193</td><td>Solam Susent     </td><td>FALSE</td></tr>\n",
       "\t<tr><td>0004_01</td><td>Earth </td><td>FALSE</td><td>F/1/S</td><td>TRAPPIST-1e  </td><td>16</td><td>FALSE</td><td>303</td><td>  70</td><td>151</td><td> 565</td><td>  2</td><td>Willy Santantines</td><td> TRUE</td></tr>\n",
       "\t<tr><td>0005_01</td><td>Earth </td><td>FALSE</td><td>F/0/P</td><td>PSO J318.5-22</td><td>44</td><td>FALSE</td><td>  0</td><td> 483</td><td>  0</td><td> 291</td><td>  0</td><td>Sandie Hinetthews</td><td> TRUE</td></tr>\n",
       "</tbody>\n",
       "</table>\n"
      ],
      "text/latex": [
       "A tibble: 6 × 14\n",
       "\\begin{tabular}{llllllllllllll}\n",
       " PassengerId & HomePlanet & CryoSleep & Cabin & Destination & Age & VIP & RoomService & FoodCourt & ShoppingMall & Spa & VRDeck & Name & Transported\\\\\n",
       " <chr> & <chr> & <lgl> & <chr> & <chr> & <dbl> & <lgl> & <dbl> & <dbl> & <dbl> & <dbl> & <dbl> & <chr> & <lgl>\\\\\n",
       "\\hline\n",
       "\t 0001\\_01 & Europa & FALSE & B/0/P & TRAPPIST-1e   & 39 & FALSE &   0 &    0 &   0 &    0 &   0 & Maham Ofracculy   & FALSE\\\\\n",
       "\t 0002\\_01 & Earth  & FALSE & F/0/S & TRAPPIST-1e   & 24 & FALSE & 109 &    9 &  25 &  549 &  44 & Juanna Vines      &  TRUE\\\\\n",
       "\t 0003\\_01 & Europa & FALSE & A/0/S & TRAPPIST-1e   & 58 &  TRUE &  43 & 3576 &   0 & 6715 &  49 & Altark Susent     & FALSE\\\\\n",
       "\t 0003\\_02 & Europa & FALSE & A/0/S & TRAPPIST-1e   & 33 & FALSE &   0 & 1283 & 371 & 3329 & 193 & Solam Susent      & FALSE\\\\\n",
       "\t 0004\\_01 & Earth  & FALSE & F/1/S & TRAPPIST-1e   & 16 & FALSE & 303 &   70 & 151 &  565 &   2 & Willy Santantines &  TRUE\\\\\n",
       "\t 0005\\_01 & Earth  & FALSE & F/0/P & PSO J318.5-22 & 44 & FALSE &   0 &  483 &   0 &  291 &   0 & Sandie Hinetthews &  TRUE\\\\\n",
       "\\end{tabular}\n"
      ],
      "text/markdown": [
       "\n",
       "A tibble: 6 × 14\n",
       "\n",
       "| PassengerId &lt;chr&gt; | HomePlanet &lt;chr&gt; | CryoSleep &lt;lgl&gt; | Cabin &lt;chr&gt; | Destination &lt;chr&gt; | Age &lt;dbl&gt; | VIP &lt;lgl&gt; | RoomService &lt;dbl&gt; | FoodCourt &lt;dbl&gt; | ShoppingMall &lt;dbl&gt; | Spa &lt;dbl&gt; | VRDeck &lt;dbl&gt; | Name &lt;chr&gt; | Transported &lt;lgl&gt; |\n",
       "|---|---|---|---|---|---|---|---|---|---|---|---|---|---|\n",
       "| 0001_01 | Europa | FALSE | B/0/P | TRAPPIST-1e   | 39 | FALSE |   0 |    0 |   0 |    0 |   0 | Maham Ofracculy   | FALSE |\n",
       "| 0002_01 | Earth  | FALSE | F/0/S | TRAPPIST-1e   | 24 | FALSE | 109 |    9 |  25 |  549 |  44 | Juanna Vines      |  TRUE |\n",
       "| 0003_01 | Europa | FALSE | A/0/S | TRAPPIST-1e   | 58 |  TRUE |  43 | 3576 |   0 | 6715 |  49 | Altark Susent     | FALSE |\n",
       "| 0003_02 | Europa | FALSE | A/0/S | TRAPPIST-1e   | 33 | FALSE |   0 | 1283 | 371 | 3329 | 193 | Solam Susent      | FALSE |\n",
       "| 0004_01 | Earth  | FALSE | F/1/S | TRAPPIST-1e   | 16 | FALSE | 303 |   70 | 151 |  565 |   2 | Willy Santantines |  TRUE |\n",
       "| 0005_01 | Earth  | FALSE | F/0/P | PSO J318.5-22 | 44 | FALSE |   0 |  483 |   0 |  291 |   0 | Sandie Hinetthews |  TRUE |\n",
       "\n"
      ],
      "text/plain": [
       "  PassengerId HomePlanet CryoSleep Cabin Destination   Age VIP   RoomService\n",
       "1 0001_01     Europa     FALSE     B/0/P TRAPPIST-1e   39  FALSE   0        \n",
       "2 0002_01     Earth      FALSE     F/0/S TRAPPIST-1e   24  FALSE 109        \n",
       "3 0003_01     Europa     FALSE     A/0/S TRAPPIST-1e   58   TRUE  43        \n",
       "4 0003_02     Europa     FALSE     A/0/S TRAPPIST-1e   33  FALSE   0        \n",
       "5 0004_01     Earth      FALSE     F/1/S TRAPPIST-1e   16  FALSE 303        \n",
       "6 0005_01     Earth      FALSE     F/0/P PSO J318.5-22 44  FALSE   0        \n",
       "  FoodCourt ShoppingMall Spa  VRDeck Name              Transported\n",
       "1    0        0             0   0    Maham Ofracculy   FALSE      \n",
       "2    9       25           549  44    Juanna Vines       TRUE      \n",
       "3 3576        0          6715  49    Altark Susent     FALSE      \n",
       "4 1283      371          3329 193    Solam Susent      FALSE      \n",
       "5   70      151           565   2    Willy Santantines  TRUE      \n",
       "6  483        0           291   0    Sandie Hinetthews  TRUE      "
      ]
     },
     "metadata": {},
     "output_type": "display_data"
    }
   ],
   "source": [
    "# Train data\n",
    "train <- read_csv(\"/kaggle/input/spaceship-titanic/train.csv\",show_col_types = FALSE)\n",
    "head(train)"
   ]
  },
  {
   "cell_type": "markdown",
   "id": "2e6e6bf5",
   "metadata": {
    "_cell_guid": "9aec2dc7-a031-486d-a9d5-2c4883918f54",
    "_uuid": "a3f3d224-0013-41c6-ad91-b6047c6e4e8f",
    "papermill": {
     "duration": 0.018948,
     "end_time": "2023-02-14T20:41:27.185319",
     "exception": false,
     "start_time": "2023-02-14T20:41:27.166371",
     "status": "completed"
    },
    "tags": []
   },
   "source": [
    "# 3. Pre-processing of data"
   ]
  },
  {
   "cell_type": "code",
   "execution_count": 3,
   "id": "f59f5e4a",
   "metadata": {
    "_cell_guid": "cccbad87-71a0-477c-b01c-e3c8cc32ade2",
    "_uuid": "a3489406-29cf-4cb4-acb6-48fbedeefc11",
    "collapsed": false,
    "execution": {
     "iopub.execute_input": "2023-02-14T20:41:27.226766Z",
     "iopub.status.busy": "2023-02-14T20:41:27.225101Z",
     "iopub.status.idle": "2023-02-14T20:41:27.552622Z",
     "shell.execute_reply": "2023-02-14T20:41:27.550752Z"
    },
    "jupyter": {
     "outputs_hidden": false
    },
    "papermill": {
     "duration": 0.350699,
     "end_time": "2023-02-14T20:41:27.554936",
     "exception": false,
     "start_time": "2023-02-14T20:41:27.204237",
     "status": "completed"
    },
    "tags": []
   },
   "outputs": [
    {
     "data": {
      "text/html": [
       "<table class=\"dataframe\">\n",
       "<caption>A tibble: 6 × 18</caption>\n",
       "<thead>\n",
       "\t<tr><th scope=col>PassengerId</th><th scope=col>Group</th><th scope=col>Num</th><th scope=col>HomePlanet</th><th scope=col>CryoSleep</th><th scope=col>CabinDeck</th><th scope=col>CabinNum</th><th scope=col>CabinSide</th><th scope=col>Destination</th><th scope=col>Age</th><th scope=col>VIP</th><th scope=col>RoomService</th><th scope=col>FoodCourt</th><th scope=col>ShoppingMall</th><th scope=col>Spa</th><th scope=col>VRDeck</th><th scope=col>Name</th><th scope=col>Transported</th></tr>\n",
       "\t<tr><th scope=col>&lt;chr&gt;</th><th scope=col>&lt;chr&gt;</th><th scope=col>&lt;chr&gt;</th><th scope=col>&lt;chr&gt;</th><th scope=col>&lt;lgl&gt;</th><th scope=col>&lt;chr&gt;</th><th scope=col>&lt;chr&gt;</th><th scope=col>&lt;chr&gt;</th><th scope=col>&lt;chr&gt;</th><th scope=col>&lt;dbl&gt;</th><th scope=col>&lt;lgl&gt;</th><th scope=col>&lt;dbl&gt;</th><th scope=col>&lt;dbl&gt;</th><th scope=col>&lt;dbl&gt;</th><th scope=col>&lt;dbl&gt;</th><th scope=col>&lt;dbl&gt;</th><th scope=col>&lt;chr&gt;</th><th scope=col>&lt;lgl&gt;</th></tr>\n",
       "</thead>\n",
       "<tbody>\n",
       "\t<tr><td>0001_01</td><td>0001</td><td>01</td><td>Europa</td><td>FALSE</td><td>B</td><td>0</td><td>P</td><td>TRAPPIST-1e  </td><td>39</td><td>FALSE</td><td>  0</td><td>   0</td><td>  0</td><td>   0</td><td>  0</td><td>Maham Ofracculy  </td><td>FALSE</td></tr>\n",
       "\t<tr><td>0002_01</td><td>0002</td><td>01</td><td>Earth </td><td>FALSE</td><td>F</td><td>0</td><td>S</td><td>TRAPPIST-1e  </td><td>24</td><td>FALSE</td><td>109</td><td>   9</td><td> 25</td><td> 549</td><td> 44</td><td>Juanna Vines     </td><td> TRUE</td></tr>\n",
       "\t<tr><td>0003_01</td><td>0003</td><td>01</td><td>Europa</td><td>FALSE</td><td>A</td><td>0</td><td>S</td><td>TRAPPIST-1e  </td><td>58</td><td> TRUE</td><td> 43</td><td>3576</td><td>  0</td><td>6715</td><td> 49</td><td>Altark Susent    </td><td>FALSE</td></tr>\n",
       "\t<tr><td>0003_02</td><td>0003</td><td>02</td><td>Europa</td><td>FALSE</td><td>A</td><td>0</td><td>S</td><td>TRAPPIST-1e  </td><td>33</td><td>FALSE</td><td>  0</td><td>1283</td><td>371</td><td>3329</td><td>193</td><td>Solam Susent     </td><td>FALSE</td></tr>\n",
       "\t<tr><td>0004_01</td><td>0004</td><td>01</td><td>Earth </td><td>FALSE</td><td>F</td><td>1</td><td>S</td><td>TRAPPIST-1e  </td><td>16</td><td>FALSE</td><td>303</td><td>  70</td><td>151</td><td> 565</td><td>  2</td><td>Willy Santantines</td><td> TRUE</td></tr>\n",
       "\t<tr><td>0005_01</td><td>0005</td><td>01</td><td>Earth </td><td>FALSE</td><td>F</td><td>0</td><td>P</td><td>PSO J318.5-22</td><td>44</td><td>FALSE</td><td>  0</td><td> 483</td><td>  0</td><td> 291</td><td>  0</td><td>Sandie Hinetthews</td><td> TRUE</td></tr>\n",
       "</tbody>\n",
       "</table>\n"
      ],
      "text/latex": [
       "A tibble: 6 × 18\n",
       "\\begin{tabular}{llllllllllllllllll}\n",
       " PassengerId & Group & Num & HomePlanet & CryoSleep & CabinDeck & CabinNum & CabinSide & Destination & Age & VIP & RoomService & FoodCourt & ShoppingMall & Spa & VRDeck & Name & Transported\\\\\n",
       " <chr> & <chr> & <chr> & <chr> & <lgl> & <chr> & <chr> & <chr> & <chr> & <dbl> & <lgl> & <dbl> & <dbl> & <dbl> & <dbl> & <dbl> & <chr> & <lgl>\\\\\n",
       "\\hline\n",
       "\t 0001\\_01 & 0001 & 01 & Europa & FALSE & B & 0 & P & TRAPPIST-1e   & 39 & FALSE &   0 &    0 &   0 &    0 &   0 & Maham Ofracculy   & FALSE\\\\\n",
       "\t 0002\\_01 & 0002 & 01 & Earth  & FALSE & F & 0 & S & TRAPPIST-1e   & 24 & FALSE & 109 &    9 &  25 &  549 &  44 & Juanna Vines      &  TRUE\\\\\n",
       "\t 0003\\_01 & 0003 & 01 & Europa & FALSE & A & 0 & S & TRAPPIST-1e   & 58 &  TRUE &  43 & 3576 &   0 & 6715 &  49 & Altark Susent     & FALSE\\\\\n",
       "\t 0003\\_02 & 0003 & 02 & Europa & FALSE & A & 0 & S & TRAPPIST-1e   & 33 & FALSE &   0 & 1283 & 371 & 3329 & 193 & Solam Susent      & FALSE\\\\\n",
       "\t 0004\\_01 & 0004 & 01 & Earth  & FALSE & F & 1 & S & TRAPPIST-1e   & 16 & FALSE & 303 &   70 & 151 &  565 &   2 & Willy Santantines &  TRUE\\\\\n",
       "\t 0005\\_01 & 0005 & 01 & Earth  & FALSE & F & 0 & P & PSO J318.5-22 & 44 & FALSE &   0 &  483 &   0 &  291 &   0 & Sandie Hinetthews &  TRUE\\\\\n",
       "\\end{tabular}\n"
      ],
      "text/markdown": [
       "\n",
       "A tibble: 6 × 18\n",
       "\n",
       "| PassengerId &lt;chr&gt; | Group &lt;chr&gt; | Num &lt;chr&gt; | HomePlanet &lt;chr&gt; | CryoSleep &lt;lgl&gt; | CabinDeck &lt;chr&gt; | CabinNum &lt;chr&gt; | CabinSide &lt;chr&gt; | Destination &lt;chr&gt; | Age &lt;dbl&gt; | VIP &lt;lgl&gt; | RoomService &lt;dbl&gt; | FoodCourt &lt;dbl&gt; | ShoppingMall &lt;dbl&gt; | Spa &lt;dbl&gt; | VRDeck &lt;dbl&gt; | Name &lt;chr&gt; | Transported &lt;lgl&gt; |\n",
       "|---|---|---|---|---|---|---|---|---|---|---|---|---|---|---|---|---|---|\n",
       "| 0001_01 | 0001 | 01 | Europa | FALSE | B | 0 | P | TRAPPIST-1e   | 39 | FALSE |   0 |    0 |   0 |    0 |   0 | Maham Ofracculy   | FALSE |\n",
       "| 0002_01 | 0002 | 01 | Earth  | FALSE | F | 0 | S | TRAPPIST-1e   | 24 | FALSE | 109 |    9 |  25 |  549 |  44 | Juanna Vines      |  TRUE |\n",
       "| 0003_01 | 0003 | 01 | Europa | FALSE | A | 0 | S | TRAPPIST-1e   | 58 |  TRUE |  43 | 3576 |   0 | 6715 |  49 | Altark Susent     | FALSE |\n",
       "| 0003_02 | 0003 | 02 | Europa | FALSE | A | 0 | S | TRAPPIST-1e   | 33 | FALSE |   0 | 1283 | 371 | 3329 | 193 | Solam Susent      | FALSE |\n",
       "| 0004_01 | 0004 | 01 | Earth  | FALSE | F | 1 | S | TRAPPIST-1e   | 16 | FALSE | 303 |   70 | 151 |  565 |   2 | Willy Santantines |  TRUE |\n",
       "| 0005_01 | 0005 | 01 | Earth  | FALSE | F | 0 | P | PSO J318.5-22 | 44 | FALSE |   0 |  483 |   0 |  291 |   0 | Sandie Hinetthews |  TRUE |\n",
       "\n"
      ],
      "text/plain": [
       "  PassengerId Group Num HomePlanet CryoSleep CabinDeck CabinNum CabinSide\n",
       "1 0001_01     0001  01  Europa     FALSE     B         0        P        \n",
       "2 0002_01     0002  01  Earth      FALSE     F         0        S        \n",
       "3 0003_01     0003  01  Europa     FALSE     A         0        S        \n",
       "4 0003_02     0003  02  Europa     FALSE     A         0        S        \n",
       "5 0004_01     0004  01  Earth      FALSE     F         1        S        \n",
       "6 0005_01     0005  01  Earth      FALSE     F         0        P        \n",
       "  Destination   Age VIP   RoomService FoodCourt ShoppingMall Spa  VRDeck\n",
       "1 TRAPPIST-1e   39  FALSE   0            0        0             0   0   \n",
       "2 TRAPPIST-1e   24  FALSE 109            9       25           549  44   \n",
       "3 TRAPPIST-1e   58   TRUE  43         3576        0          6715  49   \n",
       "4 TRAPPIST-1e   33  FALSE   0         1283      371          3329 193   \n",
       "5 TRAPPIST-1e   16  FALSE 303           70      151           565   2   \n",
       "6 PSO J318.5-22 44  FALSE   0          483        0           291   0   \n",
       "  Name              Transported\n",
       "1 Maham Ofracculy   FALSE      \n",
       "2 Juanna Vines       TRUE      \n",
       "3 Altark Susent     FALSE      \n",
       "4 Solam Susent      FALSE      \n",
       "5 Willy Santantines  TRUE      \n",
       "6 Sandie Hinetthews  TRUE      "
      ]
     },
     "metadata": {},
     "output_type": "display_data"
    }
   ],
   "source": [
    "# Separating PassengerId into 2 parts\n",
    "train <-train %>%\n",
    "    separate(PassengerId, c(\"Group\", \"Num\"), sep = \"_\", remove = FALSE) \n",
    "# Separating Cabin into 3 parts\n",
    "train <- train %>%\n",
    "    separate(Cabin, c(\"CabinDeck\", \"CabinNum\", \"CabinSide\"), sep = \"/\") \n",
    "head(train)"
   ]
  },
  {
   "cell_type": "code",
   "execution_count": 4,
   "id": "6c325077",
   "metadata": {
    "execution": {
     "iopub.execute_input": "2023-02-14T20:41:27.596783Z",
     "iopub.status.busy": "2023-02-14T20:41:27.595163Z",
     "iopub.status.idle": "2023-02-14T20:41:27.744015Z",
     "shell.execute_reply": "2023-02-14T20:41:27.742183Z"
    },
    "papermill": {
     "duration": 0.172087,
     "end_time": "2023-02-14T20:41:27.746362",
     "exception": false,
     "start_time": "2023-02-14T20:41:27.574275",
     "status": "completed"
    },
    "tags": []
   },
   "outputs": [],
   "source": [
    "# Size by groups\n",
    "train <-train %>% add_count(Group, name = \"GroupSize\")"
   ]
  },
  {
   "cell_type": "code",
   "execution_count": 5,
   "id": "2650f850",
   "metadata": {
    "_cell_guid": "350a50cb-3310-40c6-ba93-568b5ef03b57",
    "_uuid": "b9be84e5-43a9-43ea-98ab-56602fdffb42",
    "collapsed": false,
    "execution": {
     "iopub.execute_input": "2023-02-14T20:41:27.788366Z",
     "iopub.status.busy": "2023-02-14T20:41:27.786663Z",
     "iopub.status.idle": "2023-02-14T20:41:27.834090Z",
     "shell.execute_reply": "2023-02-14T20:41:27.832236Z"
    },
    "jupyter": {
     "outputs_hidden": false
    },
    "papermill": {
     "duration": 0.071049,
     "end_time": "2023-02-14T20:41:27.836690",
     "exception": false,
     "start_time": "2023-02-14T20:41:27.765641",
     "status": "completed"
    },
    "tags": []
   },
   "outputs": [
    {
     "data": {
      "text/html": [
       "<table class=\"dataframe\">\n",
       "<caption>A tibble: 6 × 20</caption>\n",
       "<thead>\n",
       "\t<tr><th scope=col>PassengerId</th><th scope=col>Group</th><th scope=col>Num</th><th scope=col>HomePlanet</th><th scope=col>CryoSleep</th><th scope=col>CabinDeck</th><th scope=col>CabinNum</th><th scope=col>CabinSide</th><th scope=col>Destination</th><th scope=col>Age</th><th scope=col>VIP</th><th scope=col>RoomService</th><th scope=col>FoodCourt</th><th scope=col>ShoppingMall</th><th scope=col>Spa</th><th scope=col>VRDeck</th><th scope=col>Name</th><th scope=col>Transported</th><th scope=col>GroupSize</th><th scope=col>Age_group</th></tr>\n",
       "\t<tr><th scope=col>&lt;chr&gt;</th><th scope=col>&lt;chr&gt;</th><th scope=col>&lt;chr&gt;</th><th scope=col>&lt;chr&gt;</th><th scope=col>&lt;lgl&gt;</th><th scope=col>&lt;chr&gt;</th><th scope=col>&lt;chr&gt;</th><th scope=col>&lt;chr&gt;</th><th scope=col>&lt;chr&gt;</th><th scope=col>&lt;dbl&gt;</th><th scope=col>&lt;lgl&gt;</th><th scope=col>&lt;dbl&gt;</th><th scope=col>&lt;dbl&gt;</th><th scope=col>&lt;dbl&gt;</th><th scope=col>&lt;dbl&gt;</th><th scope=col>&lt;dbl&gt;</th><th scope=col>&lt;chr&gt;</th><th scope=col>&lt;lgl&gt;</th><th scope=col>&lt;int&gt;</th><th scope=col>&lt;chr&gt;</th></tr>\n",
       "</thead>\n",
       "<tbody>\n",
       "\t<tr><td>0001_01</td><td>0001</td><td>01</td><td>Europa</td><td>FALSE</td><td>B</td><td>0</td><td>P</td><td>TRAPPIST-1e  </td><td>39</td><td>FALSE</td><td>  0</td><td>   0</td><td>  0</td><td>   0</td><td>  0</td><td>Maham Ofracculy  </td><td>FALSE</td><td>1</td><td>adult</td></tr>\n",
       "\t<tr><td>0002_01</td><td>0002</td><td>01</td><td>Earth </td><td>FALSE</td><td>F</td><td>0</td><td>S</td><td>TRAPPIST-1e  </td><td>24</td><td>FALSE</td><td>109</td><td>   9</td><td> 25</td><td> 549</td><td> 44</td><td>Juanna Vines     </td><td> TRUE</td><td>1</td><td>adult</td></tr>\n",
       "\t<tr><td>0003_01</td><td>0003</td><td>01</td><td>Europa</td><td>FALSE</td><td>A</td><td>0</td><td>S</td><td>TRAPPIST-1e  </td><td>58</td><td> TRUE</td><td> 43</td><td>3576</td><td>  0</td><td>6715</td><td> 49</td><td>Altark Susent    </td><td>FALSE</td><td>2</td><td>adult</td></tr>\n",
       "\t<tr><td>0003_02</td><td>0003</td><td>02</td><td>Europa</td><td>FALSE</td><td>A</td><td>0</td><td>S</td><td>TRAPPIST-1e  </td><td>33</td><td>FALSE</td><td>  0</td><td>1283</td><td>371</td><td>3329</td><td>193</td><td>Solam Susent     </td><td>FALSE</td><td>2</td><td>adult</td></tr>\n",
       "\t<tr><td>0004_01</td><td>0004</td><td>01</td><td>Earth </td><td>FALSE</td><td>F</td><td>1</td><td>S</td><td>TRAPPIST-1e  </td><td>16</td><td>FALSE</td><td>303</td><td>  70</td><td>151</td><td> 565</td><td>  2</td><td>Willy Santantines</td><td> TRUE</td><td>1</td><td>teen </td></tr>\n",
       "\t<tr><td>0005_01</td><td>0005</td><td>01</td><td>Earth </td><td>FALSE</td><td>F</td><td>0</td><td>P</td><td>PSO J318.5-22</td><td>44</td><td>FALSE</td><td>  0</td><td> 483</td><td>  0</td><td> 291</td><td>  0</td><td>Sandie Hinetthews</td><td> TRUE</td><td>1</td><td>adult</td></tr>\n",
       "</tbody>\n",
       "</table>\n"
      ],
      "text/latex": [
       "A tibble: 6 × 20\n",
       "\\begin{tabular}{llllllllllllllllllll}\n",
       " PassengerId & Group & Num & HomePlanet & CryoSleep & CabinDeck & CabinNum & CabinSide & Destination & Age & VIP & RoomService & FoodCourt & ShoppingMall & Spa & VRDeck & Name & Transported & GroupSize & Age\\_group\\\\\n",
       " <chr> & <chr> & <chr> & <chr> & <lgl> & <chr> & <chr> & <chr> & <chr> & <dbl> & <lgl> & <dbl> & <dbl> & <dbl> & <dbl> & <dbl> & <chr> & <lgl> & <int> & <chr>\\\\\n",
       "\\hline\n",
       "\t 0001\\_01 & 0001 & 01 & Europa & FALSE & B & 0 & P & TRAPPIST-1e   & 39 & FALSE &   0 &    0 &   0 &    0 &   0 & Maham Ofracculy   & FALSE & 1 & adult\\\\\n",
       "\t 0002\\_01 & 0002 & 01 & Earth  & FALSE & F & 0 & S & TRAPPIST-1e   & 24 & FALSE & 109 &    9 &  25 &  549 &  44 & Juanna Vines      &  TRUE & 1 & adult\\\\\n",
       "\t 0003\\_01 & 0003 & 01 & Europa & FALSE & A & 0 & S & TRAPPIST-1e   & 58 &  TRUE &  43 & 3576 &   0 & 6715 &  49 & Altark Susent     & FALSE & 2 & adult\\\\\n",
       "\t 0003\\_02 & 0003 & 02 & Europa & FALSE & A & 0 & S & TRAPPIST-1e   & 33 & FALSE &   0 & 1283 & 371 & 3329 & 193 & Solam Susent      & FALSE & 2 & adult\\\\\n",
       "\t 0004\\_01 & 0004 & 01 & Earth  & FALSE & F & 1 & S & TRAPPIST-1e   & 16 & FALSE & 303 &   70 & 151 &  565 &   2 & Willy Santantines &  TRUE & 1 & teen \\\\\n",
       "\t 0005\\_01 & 0005 & 01 & Earth  & FALSE & F & 0 & P & PSO J318.5-22 & 44 & FALSE &   0 &  483 &   0 &  291 &   0 & Sandie Hinetthews &  TRUE & 1 & adult\\\\\n",
       "\\end{tabular}\n"
      ],
      "text/markdown": [
       "\n",
       "A tibble: 6 × 20\n",
       "\n",
       "| PassengerId &lt;chr&gt; | Group &lt;chr&gt; | Num &lt;chr&gt; | HomePlanet &lt;chr&gt; | CryoSleep &lt;lgl&gt; | CabinDeck &lt;chr&gt; | CabinNum &lt;chr&gt; | CabinSide &lt;chr&gt; | Destination &lt;chr&gt; | Age &lt;dbl&gt; | VIP &lt;lgl&gt; | RoomService &lt;dbl&gt; | FoodCourt &lt;dbl&gt; | ShoppingMall &lt;dbl&gt; | Spa &lt;dbl&gt; | VRDeck &lt;dbl&gt; | Name &lt;chr&gt; | Transported &lt;lgl&gt; | GroupSize &lt;int&gt; | Age_group &lt;chr&gt; |\n",
       "|---|---|---|---|---|---|---|---|---|---|---|---|---|---|---|---|---|---|---|---|\n",
       "| 0001_01 | 0001 | 01 | Europa | FALSE | B | 0 | P | TRAPPIST-1e   | 39 | FALSE |   0 |    0 |   0 |    0 |   0 | Maham Ofracculy   | FALSE | 1 | adult |\n",
       "| 0002_01 | 0002 | 01 | Earth  | FALSE | F | 0 | S | TRAPPIST-1e   | 24 | FALSE | 109 |    9 |  25 |  549 |  44 | Juanna Vines      |  TRUE | 1 | adult |\n",
       "| 0003_01 | 0003 | 01 | Europa | FALSE | A | 0 | S | TRAPPIST-1e   | 58 |  TRUE |  43 | 3576 |   0 | 6715 |  49 | Altark Susent     | FALSE | 2 | adult |\n",
       "| 0003_02 | 0003 | 02 | Europa | FALSE | A | 0 | S | TRAPPIST-1e   | 33 | FALSE |   0 | 1283 | 371 | 3329 | 193 | Solam Susent      | FALSE | 2 | adult |\n",
       "| 0004_01 | 0004 | 01 | Earth  | FALSE | F | 1 | S | TRAPPIST-1e   | 16 | FALSE | 303 |   70 | 151 |  565 |   2 | Willy Santantines |  TRUE | 1 | teen  |\n",
       "| 0005_01 | 0005 | 01 | Earth  | FALSE | F | 0 | P | PSO J318.5-22 | 44 | FALSE |   0 |  483 |   0 |  291 |   0 | Sandie Hinetthews |  TRUE | 1 | adult |\n",
       "\n"
      ],
      "text/plain": [
       "  PassengerId Group Num HomePlanet CryoSleep CabinDeck CabinNum CabinSide\n",
       "1 0001_01     0001  01  Europa     FALSE     B         0        P        \n",
       "2 0002_01     0002  01  Earth      FALSE     F         0        S        \n",
       "3 0003_01     0003  01  Europa     FALSE     A         0        S        \n",
       "4 0003_02     0003  02  Europa     FALSE     A         0        S        \n",
       "5 0004_01     0004  01  Earth      FALSE     F         1        S        \n",
       "6 0005_01     0005  01  Earth      FALSE     F         0        P        \n",
       "  Destination   Age VIP   RoomService FoodCourt ShoppingMall Spa  VRDeck\n",
       "1 TRAPPIST-1e   39  FALSE   0            0        0             0   0   \n",
       "2 TRAPPIST-1e   24  FALSE 109            9       25           549  44   \n",
       "3 TRAPPIST-1e   58   TRUE  43         3576        0          6715  49   \n",
       "4 TRAPPIST-1e   33  FALSE   0         1283      371          3329 193   \n",
       "5 TRAPPIST-1e   16  FALSE 303           70      151           565   2   \n",
       "6 PSO J318.5-22 44  FALSE   0          483        0           291   0   \n",
       "  Name              Transported GroupSize Age_group\n",
       "1 Maham Ofracculy   FALSE       1         adult    \n",
       "2 Juanna Vines       TRUE       1         adult    \n",
       "3 Altark Susent     FALSE       2         adult    \n",
       "4 Solam Susent      FALSE       2         adult    \n",
       "5 Willy Santantines  TRUE       1         teen     \n",
       "6 Sandie Hinetthews  TRUE       1         adult    "
      ]
     },
     "metadata": {},
     "output_type": "display_data"
    }
   ],
   "source": [
    "# Grouping ages\n",
    "train <- train %>%\n",
    "         mutate(Age_group = case_when(Age <= 10  ~ \"kid\",\n",
    "                                      Age > 10 & Age <= 18  ~ \"teen\",\n",
    "                                      Age > 18 & Age <= 60  ~ \"adult\",\n",
    "                                      Age > 60 ~ \"old_mw\"))\n",
    "head(train)"
   ]
  },
  {
   "cell_type": "code",
   "execution_count": 6,
   "id": "b7dff1a2",
   "metadata": {
    "_cell_guid": "6548db1c-c3fc-4d48-a964-d329efaa8e25",
    "_uuid": "3484302d-5989-4ebe-a49a-851836964c4b",
    "collapsed": false,
    "execution": {
     "iopub.execute_input": "2023-02-14T20:41:27.880164Z",
     "iopub.status.busy": "2023-02-14T20:41:27.878515Z",
     "iopub.status.idle": "2023-02-14T20:41:27.925749Z",
     "shell.execute_reply": "2023-02-14T20:41:27.923935Z"
    },
    "jupyter": {
     "outputs_hidden": false
    },
    "papermill": {
     "duration": 0.071327,
     "end_time": "2023-02-14T20:41:27.928224",
     "exception": false,
     "start_time": "2023-02-14T20:41:27.856897",
     "status": "completed"
    },
    "tags": []
   },
   "outputs": [
    {
     "data": {
      "text/html": [
       "<table class=\"dataframe\">\n",
       "<caption>A tibble: 6 × 15</caption>\n",
       "<thead>\n",
       "\t<tr><th scope=col>PassengerId</th><th scope=col>HomePlanet</th><th scope=col>CryoSleep</th><th scope=col>CabinDeck</th><th scope=col>CabinSide</th><th scope=col>Destination</th><th scope=col>VIP</th><th scope=col>RoomService</th><th scope=col>FoodCourt</th><th scope=col>ShoppingMall</th><th scope=col>Spa</th><th scope=col>VRDeck</th><th scope=col>Transported</th><th scope=col>GroupSize</th><th scope=col>Age_group</th></tr>\n",
       "\t<tr><th scope=col>&lt;chr&gt;</th><th scope=col>&lt;chr&gt;</th><th scope=col>&lt;lgl&gt;</th><th scope=col>&lt;chr&gt;</th><th scope=col>&lt;chr&gt;</th><th scope=col>&lt;chr&gt;</th><th scope=col>&lt;lgl&gt;</th><th scope=col>&lt;dbl&gt;</th><th scope=col>&lt;dbl&gt;</th><th scope=col>&lt;dbl&gt;</th><th scope=col>&lt;dbl&gt;</th><th scope=col>&lt;dbl&gt;</th><th scope=col>&lt;lgl&gt;</th><th scope=col>&lt;int&gt;</th><th scope=col>&lt;chr&gt;</th></tr>\n",
       "</thead>\n",
       "<tbody>\n",
       "\t<tr><td>0001_01</td><td>Europa</td><td>FALSE</td><td>B</td><td>P</td><td>TRAPPIST-1e  </td><td>FALSE</td><td>  0</td><td>   0</td><td>  0</td><td>   0</td><td>  0</td><td>FALSE</td><td>1</td><td>adult</td></tr>\n",
       "\t<tr><td>0002_01</td><td>Earth </td><td>FALSE</td><td>F</td><td>S</td><td>TRAPPIST-1e  </td><td>FALSE</td><td>109</td><td>   9</td><td> 25</td><td> 549</td><td> 44</td><td> TRUE</td><td>1</td><td>adult</td></tr>\n",
       "\t<tr><td>0003_01</td><td>Europa</td><td>FALSE</td><td>A</td><td>S</td><td>TRAPPIST-1e  </td><td> TRUE</td><td> 43</td><td>3576</td><td>  0</td><td>6715</td><td> 49</td><td>FALSE</td><td>2</td><td>adult</td></tr>\n",
       "\t<tr><td>0003_02</td><td>Europa</td><td>FALSE</td><td>A</td><td>S</td><td>TRAPPIST-1e  </td><td>FALSE</td><td>  0</td><td>1283</td><td>371</td><td>3329</td><td>193</td><td>FALSE</td><td>2</td><td>adult</td></tr>\n",
       "\t<tr><td>0004_01</td><td>Earth </td><td>FALSE</td><td>F</td><td>S</td><td>TRAPPIST-1e  </td><td>FALSE</td><td>303</td><td>  70</td><td>151</td><td> 565</td><td>  2</td><td> TRUE</td><td>1</td><td>teen </td></tr>\n",
       "\t<tr><td>0005_01</td><td>Earth </td><td>FALSE</td><td>F</td><td>P</td><td>PSO J318.5-22</td><td>FALSE</td><td>  0</td><td> 483</td><td>  0</td><td> 291</td><td>  0</td><td> TRUE</td><td>1</td><td>adult</td></tr>\n",
       "</tbody>\n",
       "</table>\n"
      ],
      "text/latex": [
       "A tibble: 6 × 15\n",
       "\\begin{tabular}{lllllllllllllll}\n",
       " PassengerId & HomePlanet & CryoSleep & CabinDeck & CabinSide & Destination & VIP & RoomService & FoodCourt & ShoppingMall & Spa & VRDeck & Transported & GroupSize & Age\\_group\\\\\n",
       " <chr> & <chr> & <lgl> & <chr> & <chr> & <chr> & <lgl> & <dbl> & <dbl> & <dbl> & <dbl> & <dbl> & <lgl> & <int> & <chr>\\\\\n",
       "\\hline\n",
       "\t 0001\\_01 & Europa & FALSE & B & P & TRAPPIST-1e   & FALSE &   0 &    0 &   0 &    0 &   0 & FALSE & 1 & adult\\\\\n",
       "\t 0002\\_01 & Earth  & FALSE & F & S & TRAPPIST-1e   & FALSE & 109 &    9 &  25 &  549 &  44 &  TRUE & 1 & adult\\\\\n",
       "\t 0003\\_01 & Europa & FALSE & A & S & TRAPPIST-1e   &  TRUE &  43 & 3576 &   0 & 6715 &  49 & FALSE & 2 & adult\\\\\n",
       "\t 0003\\_02 & Europa & FALSE & A & S & TRAPPIST-1e   & FALSE &   0 & 1283 & 371 & 3329 & 193 & FALSE & 2 & adult\\\\\n",
       "\t 0004\\_01 & Earth  & FALSE & F & S & TRAPPIST-1e   & FALSE & 303 &   70 & 151 &  565 &   2 &  TRUE & 1 & teen \\\\\n",
       "\t 0005\\_01 & Earth  & FALSE & F & P & PSO J318.5-22 & FALSE &   0 &  483 &   0 &  291 &   0 &  TRUE & 1 & adult\\\\\n",
       "\\end{tabular}\n"
      ],
      "text/markdown": [
       "\n",
       "A tibble: 6 × 15\n",
       "\n",
       "| PassengerId &lt;chr&gt; | HomePlanet &lt;chr&gt; | CryoSleep &lt;lgl&gt; | CabinDeck &lt;chr&gt; | CabinSide &lt;chr&gt; | Destination &lt;chr&gt; | VIP &lt;lgl&gt; | RoomService &lt;dbl&gt; | FoodCourt &lt;dbl&gt; | ShoppingMall &lt;dbl&gt; | Spa &lt;dbl&gt; | VRDeck &lt;dbl&gt; | Transported &lt;lgl&gt; | GroupSize &lt;int&gt; | Age_group &lt;chr&gt; |\n",
       "|---|---|---|---|---|---|---|---|---|---|---|---|---|---|---|\n",
       "| 0001_01 | Europa | FALSE | B | P | TRAPPIST-1e   | FALSE |   0 |    0 |   0 |    0 |   0 | FALSE | 1 | adult |\n",
       "| 0002_01 | Earth  | FALSE | F | S | TRAPPIST-1e   | FALSE | 109 |    9 |  25 |  549 |  44 |  TRUE | 1 | adult |\n",
       "| 0003_01 | Europa | FALSE | A | S | TRAPPIST-1e   |  TRUE |  43 | 3576 |   0 | 6715 |  49 | FALSE | 2 | adult |\n",
       "| 0003_02 | Europa | FALSE | A | S | TRAPPIST-1e   | FALSE |   0 | 1283 | 371 | 3329 | 193 | FALSE | 2 | adult |\n",
       "| 0004_01 | Earth  | FALSE | F | S | TRAPPIST-1e   | FALSE | 303 |   70 | 151 |  565 |   2 |  TRUE | 1 | teen  |\n",
       "| 0005_01 | Earth  | FALSE | F | P | PSO J318.5-22 | FALSE |   0 |  483 |   0 |  291 |   0 |  TRUE | 1 | adult |\n",
       "\n"
      ],
      "text/plain": [
       "  PassengerId HomePlanet CryoSleep CabinDeck CabinSide Destination   VIP  \n",
       "1 0001_01     Europa     FALSE     B         P         TRAPPIST-1e   FALSE\n",
       "2 0002_01     Earth      FALSE     F         S         TRAPPIST-1e   FALSE\n",
       "3 0003_01     Europa     FALSE     A         S         TRAPPIST-1e    TRUE\n",
       "4 0003_02     Europa     FALSE     A         S         TRAPPIST-1e   FALSE\n",
       "5 0004_01     Earth      FALSE     F         S         TRAPPIST-1e   FALSE\n",
       "6 0005_01     Earth      FALSE     F         P         PSO J318.5-22 FALSE\n",
       "  RoomService FoodCourt ShoppingMall Spa  VRDeck Transported GroupSize\n",
       "1   0            0        0             0   0    FALSE       1        \n",
       "2 109            9       25           549  44     TRUE       1        \n",
       "3  43         3576        0          6715  49    FALSE       2        \n",
       "4   0         1283      371          3329 193    FALSE       2        \n",
       "5 303           70      151           565   2     TRUE       1        \n",
       "6   0          483        0           291   0     TRUE       1        \n",
       "  Age_group\n",
       "1 adult    \n",
       "2 adult    \n",
       "3 adult    \n",
       "4 adult    \n",
       "5 teen     \n",
       "6 adult    "
      ]
     },
     "metadata": {},
     "output_type": "display_data"
    }
   ],
   "source": [
    "# Removing columns that contribute nothing\n",
    "train <-train %>% select(-c(Group, Num, CabinNum, Age, Name))\n",
    "head(train)"
   ]
  },
  {
   "cell_type": "markdown",
   "id": "b611bf2e",
   "metadata": {
    "_cell_guid": "bdbb220f-b698-4f72-bc50-2886bb54c439",
    "_uuid": "64ccb63a-1fa0-4394-9fbb-14779a6ee4b0",
    "papermill": {
     "duration": 0.0197,
     "end_time": "2023-02-14T20:41:27.967857",
     "exception": false,
     "start_time": "2023-02-14T20:41:27.948157",
     "status": "completed"
    },
    "tags": []
   },
   "source": [
    "### Variable types"
   ]
  },
  {
   "cell_type": "code",
   "execution_count": 7,
   "id": "5755bf8f",
   "metadata": {
    "_cell_guid": "a0edd2e8-058b-4114-bf94-3a1fec0dbe55",
    "_uuid": "03285804-df99-4aca-a499-8e1225c3516d",
    "collapsed": false,
    "execution": {
     "iopub.execute_input": "2023-02-14T20:41:28.010726Z",
     "iopub.status.busy": "2023-02-14T20:41:28.009122Z",
     "iopub.status.idle": "2023-02-14T20:41:28.046456Z",
     "shell.execute_reply": "2023-02-14T20:41:28.043669Z"
    },
    "jupyter": {
     "outputs_hidden": false
    },
    "papermill": {
     "duration": 0.062271,
     "end_time": "2023-02-14T20:41:28.049892",
     "exception": false,
     "start_time": "2023-02-14T20:41:27.987621",
     "status": "completed"
    },
    "tags": []
   },
   "outputs": [
    {
     "name": "stdout",
     "output_type": "stream",
     "text": [
      "Rows: 8,693\n",
      "Columns: 15\n",
      "$ PassengerId  \u001b[3m\u001b[90m<chr>\u001b[39m\u001b[23m \"0001_01\", \"0002_01\", \"0003_01\", \"0003_02\", \"0004_01\", \"0…\n",
      "$ HomePlanet   \u001b[3m\u001b[90m<chr>\u001b[39m\u001b[23m \"Europa\", \"Earth\", \"Europa\", \"Europa\", \"Earth\", \"Earth\", …\n",
      "$ CryoSleep    \u001b[3m\u001b[90m<lgl>\u001b[39m\u001b[23m FALSE, FALSE, FALSE, FALSE, FALSE, FALSE, FALSE, TRUE, FA…\n",
      "$ CabinDeck    \u001b[3m\u001b[90m<chr>\u001b[39m\u001b[23m \"B\", \"F\", \"A\", \"A\", \"F\", \"F\", \"F\", \"G\", \"F\", \"B\", \"B\", \"B…\n",
      "$ CabinSide    \u001b[3m\u001b[90m<chr>\u001b[39m\u001b[23m \"P\", \"S\", \"S\", \"S\", \"S\", \"P\", \"S\", \"S\", \"S\", \"P\", \"P\", \"P…\n",
      "$ Destination  \u001b[3m\u001b[90m<chr>\u001b[39m\u001b[23m \"TRAPPIST-1e\", \"TRAPPIST-1e\", \"TRAPPIST-1e\", \"TRAPPIST-1e…\n",
      "$ VIP          \u001b[3m\u001b[90m<lgl>\u001b[39m\u001b[23m FALSE, FALSE, TRUE, FALSE, FALSE, FALSE, FALSE, FALSE, FA…\n",
      "$ RoomService  \u001b[3m\u001b[90m<dbl>\u001b[39m\u001b[23m 0, 109, 43, 0, 303, 0, 42, 0, 0, 0, 0, 39, 73, 719, 8, 32…\n",
      "$ FoodCourt    \u001b[3m\u001b[90m<dbl>\u001b[39m\u001b[23m 0, 9, 3576, 1283, 70, 483, 1539, 0, 785, 0, 0, 7295, 0, 1…\n",
      "$ ShoppingMall \u001b[3m\u001b[90m<dbl>\u001b[39m\u001b[23m 0, 25, 0, 371, 151, 0, 3, 0, 17, 0, NA, 589, 1123, 65, 12…\n",
      "$ Spa          \u001b[3m\u001b[90m<dbl>\u001b[39m\u001b[23m 0, 549, 6715, 3329, 565, 291, 0, 0, 216, 0, 0, 110, 0, 0,…\n",
      "$ VRDeck       \u001b[3m\u001b[90m<dbl>\u001b[39m\u001b[23m 0, 44, 49, 193, 2, 0, 0, NA, 0, 0, 0, 124, 113, 24, 7, 0,…\n",
      "$ Transported  \u001b[3m\u001b[90m<lgl>\u001b[39m\u001b[23m FALSE, TRUE, FALSE, FALSE, TRUE, TRUE, TRUE, TRUE, TRUE, …\n",
      "$ GroupSize    \u001b[3m\u001b[90m<int>\u001b[39m\u001b[23m 1, 1, 2, 2, 1, 1, 2, 2, 1, 3, 3, 3, 1, 1, 1, 1, 1, 1, 1, …\n",
      "$ Age_group    \u001b[3m\u001b[90m<chr>\u001b[39m\u001b[23m \"adult\", \"adult\", \"adult\", \"adult\", \"teen\", \"adult\", \"adu…\n"
     ]
    }
   ],
   "source": [
    "glimpse(train)"
   ]
  },
  {
   "cell_type": "code",
   "execution_count": 8,
   "id": "de02a395",
   "metadata": {
    "_cell_guid": "d203a907-0887-495e-b9de-fb66ccc0ff6b",
    "_uuid": "1bc3c9be-98ff-4fea-aaa4-77cc55634d9b",
    "collapsed": false,
    "execution": {
     "iopub.execute_input": "2023-02-14T20:41:28.132362Z",
     "iopub.status.busy": "2023-02-14T20:41:28.130615Z",
     "iopub.status.idle": "2023-02-14T20:41:28.160991Z",
     "shell.execute_reply": "2023-02-14T20:41:28.158349Z"
    },
    "jupyter": {
     "outputs_hidden": false
    },
    "papermill": {
     "duration": 0.055357,
     "end_time": "2023-02-14T20:41:28.164263",
     "exception": false,
     "start_time": "2023-02-14T20:41:28.108906",
     "status": "completed"
    },
    "tags": []
   },
   "outputs": [
    {
     "name": "stdout",
     "output_type": "stream",
     "text": [
      "       variable q_zeros p_zeros q_na p_na q_inf p_inf      type unique\n",
      "1   PassengerId       0    0.00    0 0.00     0     0 character   8693\n",
      "2    HomePlanet       0    0.00  201 2.31     0     0 character      3\n",
      "3     CryoSleep    5439   62.57  217 2.50     0     0   logical      2\n",
      "4     CabinDeck       0    0.00  199 2.29     0     0 character      8\n",
      "5     CabinSide       0    0.00  199 2.29     0     0 character      2\n",
      "6   Destination       0    0.00  182 2.09     0     0 character      3\n",
      "7           VIP    8291   95.38  203 2.34     0     0   logical      2\n",
      "8   RoomService    5577   64.16  181 2.08     0     0   numeric   1273\n",
      "9     FoodCourt    5456   62.76  183 2.11     0     0   numeric   1507\n",
      "10 ShoppingMall    5587   64.27  208 2.39     0     0   numeric   1115\n",
      "11          Spa    5324   61.24  183 2.11     0     0   numeric   1327\n",
      "12       VRDeck    5495   63.21  188 2.16     0     0   numeric   1306\n",
      "13  Transported    4315   49.64    0 0.00     0     0   logical      2\n",
      "14    GroupSize       0    0.00    0 0.00     0     0   integer      8\n",
      "15    Age_group       0    0.00  179 2.06     0     0 character      4\n"
     ]
    }
   ],
   "source": [
    "df_status(train)"
   ]
  },
  {
   "cell_type": "markdown",
   "id": "6bf6ada7",
   "metadata": {
    "_cell_guid": "c6193230-b896-4002-ab4a-f99a2416bf50",
    "_uuid": "87438b02-fa7a-4596-98ca-2ca2b4d32f40",
    "papermill": {
     "duration": 0.019765,
     "end_time": "2023-02-14T20:41:28.204081",
     "exception": false,
     "start_time": "2023-02-14T20:41:28.184316",
     "status": "completed"
    },
    "tags": []
   },
   "source": [
    "> No duplicate PassengerId (total=8693 , unique=8693)"
   ]
  },
  {
   "cell_type": "markdown",
   "id": "88990f89",
   "metadata": {
    "_cell_guid": "fe47576d-c69a-4bc1-a59c-55da772c662c",
    "_uuid": "567c40f7-3458-4d57-9a12-1c522831da7b",
    "papermill": {
     "duration": 0.019908,
     "end_time": "2023-02-14T20:41:28.244166",
     "exception": false,
     "start_time": "2023-02-14T20:41:28.224258",
     "status": "completed"
    },
    "tags": []
   },
   "source": [
    "### Visualizing NA Data"
   ]
  },
  {
   "cell_type": "code",
   "execution_count": 9,
   "id": "68b2e6f3",
   "metadata": {
    "_cell_guid": "b32efe88-2193-472d-ad05-ab57e1b26095",
    "_uuid": "08355991-7cfd-4da1-9f13-93e021d51666",
    "collapsed": false,
    "execution": {
     "iopub.execute_input": "2023-02-14T20:41:28.288165Z",
     "iopub.status.busy": "2023-02-14T20:41:28.286414Z",
     "iopub.status.idle": "2023-02-14T20:41:28.309968Z",
     "shell.execute_reply": "2023-02-14T20:41:28.307671Z"
    },
    "jupyter": {
     "outputs_hidden": false
    },
    "papermill": {
     "duration": 0.048479,
     "end_time": "2023-02-14T20:41:28.312804",
     "exception": false,
     "start_time": "2023-02-14T20:41:28.264325",
     "status": "completed"
    },
    "tags": []
   },
   "outputs": [
    {
     "data": {
      "text/html": [
       "<style>\n",
       ".dl-inline {width: auto; margin:0; padding: 0}\n",
       ".dl-inline>dt, .dl-inline>dd {float: none; width: auto; display: inline-block}\n",
       ".dl-inline>dt::after {content: \":\\0020\"; padding-right: .5ex}\n",
       ".dl-inline>dt:not(:first-of-type) {padding-left: .5ex}\n",
       "</style><dl class=dl-inline><dt>PassengerId</dt><dd>0</dd><dt>HomePlanet</dt><dd>201</dd><dt>CryoSleep</dt><dd>217</dd><dt>CabinDeck</dt><dd>199</dd><dt>CabinSide</dt><dd>199</dd><dt>Destination</dt><dd>182</dd><dt>VIP</dt><dd>203</dd><dt>RoomService</dt><dd>181</dd><dt>FoodCourt</dt><dd>183</dd><dt>ShoppingMall</dt><dd>208</dd><dt>Spa</dt><dd>183</dd><dt>VRDeck</dt><dd>188</dd><dt>Transported</dt><dd>0</dd><dt>GroupSize</dt><dd>0</dd><dt>Age_group</dt><dd>179</dd></dl>\n"
      ],
      "text/latex": [
       "\\begin{description*}\n",
       "\\item[PassengerId] 0\n",
       "\\item[HomePlanet] 201\n",
       "\\item[CryoSleep] 217\n",
       "\\item[CabinDeck] 199\n",
       "\\item[CabinSide] 199\n",
       "\\item[Destination] 182\n",
       "\\item[VIP] 203\n",
       "\\item[RoomService] 181\n",
       "\\item[FoodCourt] 183\n",
       "\\item[ShoppingMall] 208\n",
       "\\item[Spa] 183\n",
       "\\item[VRDeck] 188\n",
       "\\item[Transported] 0\n",
       "\\item[GroupSize] 0\n",
       "\\item[Age\\textbackslash{}\\_group] 179\n",
       "\\end{description*}\n"
      ],
      "text/markdown": [
       "PassengerId\n",
       ":   0HomePlanet\n",
       ":   201CryoSleep\n",
       ":   217CabinDeck\n",
       ":   199CabinSide\n",
       ":   199Destination\n",
       ":   182VIP\n",
       ":   203RoomService\n",
       ":   181FoodCourt\n",
       ":   183ShoppingMall\n",
       ":   208Spa\n",
       ":   183VRDeck\n",
       ":   188Transported\n",
       ":   0GroupSize\n",
       ":   0Age_group\n",
       ":   179\n",
       "\n"
      ],
      "text/plain": [
       " PassengerId   HomePlanet    CryoSleep    CabinDeck    CabinSide  Destination \n",
       "           0          201          217          199          199          182 \n",
       "         VIP  RoomService    FoodCourt ShoppingMall          Spa       VRDeck \n",
       "         203          181          183          208          183          188 \n",
       " Transported    GroupSize    Age_group \n",
       "           0            0          179 "
      ]
     },
     "metadata": {},
     "output_type": "display_data"
    }
   ],
   "source": [
    "# NA data by attribute\n",
    "apply(X = is.na(train), MARGIN = 2, FUN = sum)"
   ]
  },
  {
   "cell_type": "code",
   "execution_count": 10,
   "id": "17481662",
   "metadata": {
    "_cell_guid": "2bfc1965-5bd5-4d1a-aae1-5bf24baf7bff",
    "_uuid": "2bfa6d3e-91bb-4265-975b-80eebf555a82",
    "collapsed": false,
    "execution": {
     "iopub.execute_input": "2023-02-14T20:41:28.357618Z",
     "iopub.status.busy": "2023-02-14T20:41:28.355878Z",
     "iopub.status.idle": "2023-02-14T20:41:28.398165Z",
     "shell.execute_reply": "2023-02-14T20:41:28.395944Z"
    },
    "jupyter": {
     "outputs_hidden": false
    },
    "papermill": {
     "duration": 0.067223,
     "end_time": "2023-02-14T20:41:28.400982",
     "exception": false,
     "start_time": "2023-02-14T20:41:28.333759",
     "status": "completed"
    },
    "tags": []
   },
   "outputs": [
    {
     "data": {
      "text/html": [
       "4"
      ],
      "text/latex": [
       "4"
      ],
      "text/markdown": [
       "4"
      ],
      "text/plain": [
       "[1] 4"
      ]
     },
     "metadata": {},
     "output_type": "display_data"
    }
   ],
   "source": [
    "# NA data by rows\n",
    "row_NA<-apply(X = is.na(train), MARGIN = 1, FUN = sum) \n",
    "# Maximum NA values per row\n",
    "max(row_NA)"
   ]
  },
  {
   "cell_type": "markdown",
   "id": "6cfdfbc6",
   "metadata": {
    "_cell_guid": "1f0db5af-5a04-4833-853d-92576c4f57d0",
    "_uuid": "94036a4a-64a2-4d42-8e99-83af4432124e",
    "papermill": {
     "duration": 0.020139,
     "end_time": "2023-02-14T20:41:28.441254",
     "exception": false,
     "start_time": "2023-02-14T20:41:28.421115",
     "status": "completed"
    },
    "tags": []
   },
   "source": [
    "## Data imputation"
   ]
  },
  {
   "cell_type": "markdown",
   "id": "b7a954b7",
   "metadata": {
    "_cell_guid": "6f4bfa54-9e5d-496c-b150-27d4cc5dd99f",
    "_uuid": "8a28e811-3670-4b37-b336-66f8bc0ee981",
    "papermill": {
     "duration": 0.020417,
     "end_time": "2023-02-14T20:41:28.481974",
     "exception": false,
     "start_time": "2023-02-14T20:41:28.461557",
     "status": "completed"
    },
    "tags": []
   },
   "source": [
    "* ### Analyzing columns to impute values"
   ]
  },
  {
   "cell_type": "markdown",
   "id": "70a2fb43",
   "metadata": {
    "_cell_guid": "c4399a53-9f1b-4e52-97ff-105a2e176236",
    "_uuid": "5e0f4d67-b3ca-4b68-991f-277bf59437de",
    "papermill": {
     "duration": 0.020381,
     "end_time": "2023-02-14T20:41:28.522671",
     "exception": false,
     "start_time": "2023-02-14T20:41:28.502290",
     "status": "completed"
    },
    "tags": []
   },
   "source": [
    "#### Home Planet"
   ]
  },
  {
   "cell_type": "code",
   "execution_count": 11,
   "id": "3f634350",
   "metadata": {
    "_cell_guid": "65c7e977-c7be-4565-9aad-15bf60a6f250",
    "_uuid": "ff6eb692-35e2-4a98-b00d-cfab31454fff",
    "collapsed": false,
    "execution": {
     "iopub.execute_input": "2023-02-14T20:41:28.578732Z",
     "iopub.status.busy": "2023-02-14T20:41:28.565247Z",
     "iopub.status.idle": "2023-02-14T20:41:29.205825Z",
     "shell.execute_reply": "2023-02-14T20:41:29.202813Z"
    },
    "jupyter": {
     "outputs_hidden": false
    },
    "papermill": {
     "duration": 0.665795,
     "end_time": "2023-02-14T20:41:29.208834",
     "exception": false,
     "start_time": "2023-02-14T20:41:28.543039",
     "status": "completed"
    },
    "tags": []
   },
   "outputs": [
    {
     "data": {
      "image/png": "[encoded data removed]"
     },
     "metadata": {
      "image/png": {
       "height": 420,
       "width": 420
      }
     },
     "output_type": "display_data"
    }
   ],
   "source": [
    "# Home Planet by category\n",
    "ggplot(data = train, aes(x = HomePlanet, y = after_stat(count), fill = Transported)) +\n",
    "  geom_bar() +\n",
    "  scale_fill_manual(values = c(\"gray50\", \"orangered2\")) +\n",
    "  labs(title = \"Home Planet\") +\n",
    "  theme_bw() +\n",
    "  theme(legend.position = \"bottom\")"
   ]
  },
  {
   "cell_type": "markdown",
   "id": "f982cbbe",
   "metadata": {
    "_cell_guid": "cf56db95-ab1a-48c5-b13c-a961a1201a7e",
    "_uuid": "f21ba9e9-1cbc-490f-816c-11be8f70812c",
    "papermill": {
     "duration": 0.021084,
     "end_time": "2023-02-14T20:41:29.251399",
     "exception": false,
     "start_time": "2023-02-14T20:41:29.230315",
     "status": "completed"
    },
    "tags": []
   },
   "source": [
    "> Change the NA for Earth, because it is the majority group"
   ]
  },
  {
   "cell_type": "code",
   "execution_count": 12,
   "id": "8d7d4604",
   "metadata": {
    "_cell_guid": "65c80fe5-7091-45c0-a51b-bb8decc76146",
    "_uuid": "b6103669-74c0-4e85-85a4-d87034935a6f",
    "collapsed": false,
    "execution": {
     "iopub.execute_input": "2023-02-14T20:41:29.312269Z",
     "iopub.status.busy": "2023-02-14T20:41:29.294511Z",
     "iopub.status.idle": "2023-02-14T20:41:29.326361Z",
     "shell.execute_reply": "2023-02-14T20:41:29.324466Z"
    },
    "jupyter": {
     "outputs_hidden": false
    },
    "papermill": {
     "duration": 0.057314,
     "end_time": "2023-02-14T20:41:29.329377",
     "exception": false,
     "start_time": "2023-02-14T20:41:29.272063",
     "status": "completed"
    },
    "tags": []
   },
   "outputs": [],
   "source": [
    "train$HomePlanet <- train$HomePlanet %>% replace(is.na(.),\"Earth\")"
   ]
  },
  {
   "cell_type": "markdown",
   "id": "a62b702f",
   "metadata": {
    "_cell_guid": "42609fd5-9c9f-48d0-8229-061b01238308",
    "_uuid": "8fdb4bb2-947c-4dd9-bda2-07b0413342bc",
    "papermill": {
     "duration": 0.02103,
     "end_time": "2023-02-14T20:41:29.371510",
     "exception": false,
     "start_time": "2023-02-14T20:41:29.350480",
     "status": "completed"
    },
    "tags": []
   },
   "source": [
    "#### CryoSleep"
   ]
  },
  {
   "cell_type": "code",
   "execution_count": 13,
   "id": "375e1621",
   "metadata": {
    "_cell_guid": "dd1d72d8-c0f2-492d-937b-ad63221248db",
    "_uuid": "aa9a5b93-1995-41f5-b500-3d7cf32176c7",
    "collapsed": false,
    "execution": {
     "iopub.execute_input": "2023-02-14T20:41:29.426511Z",
     "iopub.status.busy": "2023-02-14T20:41:29.424415Z",
     "iopub.status.idle": "2023-02-14T20:41:29.880401Z",
     "shell.execute_reply": "2023-02-14T20:41:29.877420Z"
    },
    "jupyter": {
     "outputs_hidden": false
    },
    "papermill": {
     "duration": 0.485965,
     "end_time": "2023-02-14T20:41:29.883326",
     "exception": false,
     "start_time": "2023-02-14T20:41:29.397361",
     "status": "completed"
    },
    "tags": []
   },
   "outputs": [
    {
     "data": {
      "image/png": "[encoded data removed]"
     },
     "metadata": {
      "image/png": {
       "height": 420,
       "width": 420
      }
     },
     "output_type": "display_data"
    }
   ],
   "source": [
    "# CryoSleep by category\n",
    "ggplot(data = train, aes(x = CryoSleep, y = after_stat(count), fill = Transported)) +\n",
    "  geom_bar() +\n",
    "  scale_fill_manual(values = c(\"gray50\", \"orangered2\")) +\n",
    "  labs(title = \"CryoSleep\") +\n",
    "  theme_bw() +\n",
    "  theme(legend.position = \"bottom\")"
   ]
  },
  {
   "cell_type": "markdown",
   "id": "1b0c764c",
   "metadata": {
    "_cell_guid": "d42d73c6-0ad5-4a9a-b511-529154881b79",
    "_uuid": "516b7df5-c8e3-4b1d-901b-061f8de1e5d7",
    "papermill": {
     "duration": 0.02114,
     "end_time": "2023-02-14T20:41:29.925638",
     "exception": false,
     "start_time": "2023-02-14T20:41:29.904498",
     "status": "completed"
    },
    "tags": []
   },
   "source": [
    "> Change the NA for FALSE, because it is the majority group"
   ]
  },
  {
   "cell_type": "code",
   "execution_count": 14,
   "id": "cf20b1b9",
   "metadata": {
    "execution": {
     "iopub.execute_input": "2023-02-14T20:41:29.970856Z",
     "iopub.status.busy": "2023-02-14T20:41:29.969267Z",
     "iopub.status.idle": "2023-02-14T20:41:29.985864Z",
     "shell.execute_reply": "2023-02-14T20:41:29.984160Z"
    },
    "papermill": {
     "duration": 0.042386,
     "end_time": "2023-02-14T20:41:29.988906",
     "exception": false,
     "start_time": "2023-02-14T20:41:29.946520",
     "status": "completed"
    },
    "tags": []
   },
   "outputs": [],
   "source": [
    "train$CryoSleep <- train$CryoSleep %>% replace(is.na(.),\"FALSE\")"
   ]
  },
  {
   "cell_type": "markdown",
   "id": "9006855b",
   "metadata": {
    "_cell_guid": "d0cb466e-129c-4700-8e04-6d4038bd5165",
    "_uuid": "dcd18584-4657-42a9-bbea-7fef1e3032f4",
    "papermill": {
     "duration": 0.02094,
     "end_time": "2023-02-14T20:41:30.030915",
     "exception": false,
     "start_time": "2023-02-14T20:41:30.009975",
     "status": "completed"
    },
    "tags": []
   },
   "source": [
    "#### CabinDeck"
   ]
  },
  {
   "cell_type": "code",
   "execution_count": 15,
   "id": "11e7f022",
   "metadata": {
    "_cell_guid": "d8ff0d74-0514-45db-b8be-0bf6f4d9255f",
    "_uuid": "16df3e26-5211-4b9a-ae6c-f11c89ff6093",
    "collapsed": false,
    "execution": {
     "iopub.execute_input": "2023-02-14T20:41:30.075980Z",
     "iopub.status.busy": "2023-02-14T20:41:30.074383Z",
     "iopub.status.idle": "2023-02-14T20:41:30.493242Z",
     "shell.execute_reply": "2023-02-14T20:41:30.490401Z"
    },
    "jupyter": {
     "outputs_hidden": false
    },
    "papermill": {
     "duration": 0.444429,
     "end_time": "2023-02-14T20:41:30.496207",
     "exception": false,
     "start_time": "2023-02-14T20:41:30.051778",
     "status": "completed"
    },
    "tags": []
   },
   "outputs": [
    {
     "data": {
      "image/png": "[encoded data removed]"
     },
     "metadata": {
      "image/png": {
       "height": 420,
       "width": 420
      }
     },
     "output_type": "display_data"
    }
   ],
   "source": [
    "# CabinDeck by category\n",
    "ggplot(data = train, aes(x = CabinDeck, y = after_stat(count), fill = Transported)) +\n",
    "  geom_bar() +\n",
    "  scale_fill_manual(values = c(\"gray50\", \"orangered2\")) +\n",
    "  labs(title = \"Cabin1\") +\n",
    "  theme_bw() +\n",
    "  theme(legend.position = \"bottom\")"
   ]
  },
  {
   "cell_type": "markdown",
   "id": "5fb87a20",
   "metadata": {
    "_cell_guid": "db57e10a-6af1-43cb-9027-f8deda347854",
    "_uuid": "8c3e6c04-0f69-4291-8881-f4b28c1ba361",
    "papermill": {
     "duration": 0.021714,
     "end_time": "2023-02-14T20:41:30.539467",
     "exception": false,
     "start_time": "2023-02-14T20:41:30.517753",
     "status": "completed"
    },
    "tags": []
   },
   "source": [
    "> Convert the NA values into an additional category \"N\", because the amount of NA is greater than those of cabin \"T\" and close to those of \"A\""
   ]
  },
  {
   "cell_type": "code",
   "execution_count": 16,
   "id": "a54c3252",
   "metadata": {
    "_cell_guid": "c3291130-39cf-482e-a31b-710d7a03ef75",
    "_uuid": "dff4c723-2db8-416b-a35d-3a1325e0d3fb",
    "collapsed": false,
    "execution": {
     "iopub.execute_input": "2023-02-14T20:41:30.586636Z",
     "iopub.status.busy": "2023-02-14T20:41:30.585028Z",
     "iopub.status.idle": "2023-02-14T20:41:30.601157Z",
     "shell.execute_reply": "2023-02-14T20:41:30.599287Z"
    },
    "jupyter": {
     "outputs_hidden": false
    },
    "papermill": {
     "duration": 0.042941,
     "end_time": "2023-02-14T20:41:30.604292",
     "exception": false,
     "start_time": "2023-02-14T20:41:30.561351",
     "status": "completed"
    },
    "tags": []
   },
   "outputs": [],
   "source": [
    "train$CabinDeck <- train$CabinDeck %>% replace(is.na(.),\"N\")"
   ]
  },
  {
   "cell_type": "markdown",
   "id": "5e47991f",
   "metadata": {
    "_cell_guid": "ba376a45-24c0-4e83-900b-aab09858605c",
    "_uuid": "e906ca25-3657-46df-8fb9-9686bd264b4e",
    "papermill": {
     "duration": 0.022229,
     "end_time": "2023-02-14T20:41:30.648945",
     "exception": false,
     "start_time": "2023-02-14T20:41:30.626716",
     "status": "completed"
    },
    "tags": []
   },
   "source": [
    "#### CabinSide"
   ]
  },
  {
   "cell_type": "code",
   "execution_count": 17,
   "id": "aafb6dd9",
   "metadata": {
    "_cell_guid": "37a5f6f5-7bfa-4f90-953f-9f28fabcc835",
    "_uuid": "a4529adb-fe77-4e52-be95-46ccf713f3c6",
    "collapsed": false,
    "execution": {
     "iopub.execute_input": "2023-02-14T20:41:30.696193Z",
     "iopub.status.busy": "2023-02-14T20:41:30.694598Z",
     "iopub.status.idle": "2023-02-14T20:41:31.095245Z",
     "shell.execute_reply": "2023-02-14T20:41:31.092018Z"
    },
    "jupyter": {
     "outputs_hidden": false
    },
    "papermill": {
     "duration": 0.427474,
     "end_time": "2023-02-14T20:41:31.098237",
     "exception": false,
     "start_time": "2023-02-14T20:41:30.670763",
     "status": "completed"
    },
    "tags": []
   },
   "outputs": [
    {
     "data": {
      "image/png": "[encoded data removed]"
     },
     "metadata": {
      "image/png": {
       "height": 420,
       "width": 420
      }
     },
     "output_type": "display_data"
    }
   ],
   "source": [
    "# CabinSide by category\n",
    "ggplot(data = train, aes(x = CabinSide, y = after_stat(count), fill = Transported)) +\n",
    "  geom_bar() +\n",
    "  scale_fill_manual(values = c(\"gray50\", \"orangered2\")) +\n",
    "  labs(title = \"Cabin3\") +\n",
    "  theme_bw() +\n",
    "  theme(legend.position = \"bottom\")"
   ]
  },
  {
   "cell_type": "markdown",
   "id": "e39c0664",
   "metadata": {
    "_cell_guid": "3ed9472f-3038-4e1e-a21a-42f7f013681c",
    "_uuid": "71c2e135-b363-404a-a350-3d1375893f79",
    "papermill": {
     "duration": 0.023158,
     "end_time": "2023-02-14T20:41:31.144264",
     "exception": false,
     "start_time": "2023-02-14T20:41:31.121106",
     "status": "completed"
    },
    "tags": []
   },
   "source": [
    "> Convert the NA values into an additional category \"N\", because there is a similar amount between \"P\" and \"S\""
   ]
  },
  {
   "cell_type": "code",
   "execution_count": 18,
   "id": "a57c4f5d",
   "metadata": {
    "execution": {
     "iopub.execute_input": "2023-02-14T20:41:31.192065Z",
     "iopub.status.busy": "2023-02-14T20:41:31.190443Z",
     "iopub.status.idle": "2023-02-14T20:41:31.206030Z",
     "shell.execute_reply": "2023-02-14T20:41:31.204288Z"
    },
    "papermill": {
     "duration": 0.042737,
     "end_time": "2023-02-14T20:41:31.209175",
     "exception": false,
     "start_time": "2023-02-14T20:41:31.166438",
     "status": "completed"
    },
    "tags": []
   },
   "outputs": [],
   "source": [
    "train$CabinSide <- train$CabinSide %>% replace(is.na(.),\"N\")"
   ]
  },
  {
   "cell_type": "markdown",
   "id": "b950cffe",
   "metadata": {
    "_cell_guid": "b5a35777-fe74-4bce-9a23-90f52b83570b",
    "_uuid": "f949c0b2-392d-4d1f-9528-e4973c31c103",
    "papermill": {
     "duration": 0.022763,
     "end_time": "2023-02-14T20:41:31.254548",
     "exception": false,
     "start_time": "2023-02-14T20:41:31.231785",
     "status": "completed"
    },
    "tags": []
   },
   "source": [
    "#### Destination"
   ]
  },
  {
   "cell_type": "code",
   "execution_count": 19,
   "id": "dc5892b7",
   "metadata": {
    "execution": {
     "iopub.execute_input": "2023-02-14T20:41:31.303404Z",
     "iopub.status.busy": "2023-02-14T20:41:31.301853Z",
     "iopub.status.idle": "2023-02-14T20:41:31.705994Z",
     "shell.execute_reply": "2023-02-14T20:41:31.703023Z"
    },
    "papermill": {
     "duration": 0.431721,
     "end_time": "2023-02-14T20:41:31.709043",
     "exception": false,
     "start_time": "2023-02-14T20:41:31.277322",
     "status": "completed"
    },
    "tags": []
   },
   "outputs": [
    {
     "data": {
      "image/png": "[encoded data removed]"
     },
     "metadata": {
      "image/png": {
       "height": 420,
       "width": 420
      }
     },
     "output_type": "display_data"
    }
   ],
   "source": [
    "# Destination by category\n",
    "ggplot(data = train, aes(x = Destination, y = after_stat(count), fill = Transported)) +\n",
    "  geom_bar() +\n",
    "  scale_fill_manual(values = c(\"gray50\", \"orangered2\")) +\n",
    "  labs(title = \"Destination\") +\n",
    "  theme_bw() +\n",
    "  theme(legend.position = \"bottom\")"
   ]
  },
  {
   "cell_type": "markdown",
   "id": "8ed9d981",
   "metadata": {
    "_cell_guid": "921f89cb-8f4c-442f-8752-64b3ec15b067",
    "_uuid": "85162806-efc7-4b0b-aa88-ec63b579e038",
    "papermill": {
     "duration": 0.023204,
     "end_time": "2023-02-14T20:41:31.755292",
     "exception": false,
     "start_time": "2023-02-14T20:41:31.732088",
     "status": "completed"
    },
    "tags": []
   },
   "source": [
    "> Change the NA for TRAPPIST-1e, because it is the majority group"
   ]
  },
  {
   "cell_type": "code",
   "execution_count": 20,
   "id": "dcd3b207",
   "metadata": {
    "_cell_guid": "5b75e219-abc8-4664-8e76-b050542e174a",
    "_uuid": "a2886d97-5f14-450e-80fe-a3cc9085c717",
    "collapsed": false,
    "execution": {
     "iopub.execute_input": "2023-02-14T20:41:31.804467Z",
     "iopub.status.busy": "2023-02-14T20:41:31.802777Z",
     "iopub.status.idle": "2023-02-14T20:41:31.817417Z",
     "shell.execute_reply": "2023-02-14T20:41:31.815499Z"
    },
    "jupyter": {
     "outputs_hidden": false
    },
    "papermill": {
     "duration": 0.04175,
     "end_time": "2023-02-14T20:41:31.819862",
     "exception": false,
     "start_time": "2023-02-14T20:41:31.778112",
     "status": "completed"
    },
    "tags": []
   },
   "outputs": [],
   "source": [
    "train$Destination <- train$Destination %>% replace(is.na(.),\"TRAPPIST-1e\")"
   ]
  },
  {
   "cell_type": "markdown",
   "id": "3fcf958c",
   "metadata": {
    "_cell_guid": "a84fb016-6e3b-40a1-86af-ee11d2785a92",
    "_uuid": "2ec35458-906d-4c05-b7d0-672d7088d918",
    "papermill": {
     "duration": 0.023008,
     "end_time": "2023-02-14T20:41:31.866817",
     "exception": false,
     "start_time": "2023-02-14T20:41:31.843809",
     "status": "completed"
    },
    "tags": []
   },
   "source": [
    "#### VIP"
   ]
  },
  {
   "cell_type": "code",
   "execution_count": 21,
   "id": "5a0232e6",
   "metadata": {
    "_cell_guid": "d4b65890-6a2e-4362-88f5-dda6bc7418da",
    "_uuid": "042eeeb4-936f-4f67-8483-3d065828c1bf",
    "collapsed": false,
    "execution": {
     "iopub.execute_input": "2023-02-14T20:41:31.916948Z",
     "iopub.status.busy": "2023-02-14T20:41:31.915256Z",
     "iopub.status.idle": "2023-02-14T20:41:32.302655Z",
     "shell.execute_reply": "2023-02-14T20:41:32.300781Z"
    },
    "jupyter": {
     "outputs_hidden": false
    },
    "papermill": {
     "duration": 0.414676,
     "end_time": "2023-02-14T20:41:32.304964",
     "exception": false,
     "start_time": "2023-02-14T20:41:31.890288",
     "status": "completed"
    },
    "tags": []
   },
   "outputs": [
    {
     "data": {
      "image/png": "[encoded data removed]"
     },
     "metadata": {
      "image/png": {
       "height": 420,
       "width": 420
      }
     },
     "output_type": "display_data"
    }
   ],
   "source": [
    "# VIP by category\n",
    "ggplot(data = train, aes(x = VIP, y = after_stat(count), fill = Transported)) +\n",
    "  geom_bar() +\n",
    "  scale_fill_manual(values = c(\"gray50\", \"orangered2\")) +\n",
    "  labs(title = \"VIP\") +\n",
    "  theme_bw() +\n",
    "  theme(legend.position = \"bottom\")"
   ]
  },
  {
   "cell_type": "markdown",
   "id": "c6585ac1",
   "metadata": {
    "_cell_guid": "090d8589-ec98-46e8-b45e-e9835493689a",
    "_uuid": "13766d8f-ff3e-486c-a9d8-d846e6574a6d",
    "papermill": {
     "duration": 0.024052,
     "end_time": "2023-02-14T20:41:32.352108",
     "exception": false,
     "start_time": "2023-02-14T20:41:32.328056",
     "status": "completed"
    },
    "tags": []
   },
   "source": [
    "> Convert NA values to \"FALSE\", because most are FALSE"
   ]
  },
  {
   "cell_type": "code",
   "execution_count": 22,
   "id": "8ea1e40f",
   "metadata": {
    "_cell_guid": "3927a805-a51d-4575-9066-7595c8827664",
    "_uuid": "8bbdbc58-af7d-4764-8da5-d0a61d034059",
    "collapsed": false,
    "execution": {
     "iopub.execute_input": "2023-02-14T20:41:32.401732Z",
     "iopub.status.busy": "2023-02-14T20:41:32.400187Z",
     "iopub.status.idle": "2023-02-14T20:41:32.415236Z",
     "shell.execute_reply": "2023-02-14T20:41:32.413504Z"
    },
    "jupyter": {
     "outputs_hidden": false
    },
    "papermill": {
     "duration": 0.042161,
     "end_time": "2023-02-14T20:41:32.417484",
     "exception": false,
     "start_time": "2023-02-14T20:41:32.375323",
     "status": "completed"
    },
    "tags": []
   },
   "outputs": [],
   "source": [
    "train$VIP <- train$VIP %>% replace(is.na(.),\"FALSE\")"
   ]
  },
  {
   "cell_type": "markdown",
   "id": "15c3a7c8",
   "metadata": {
    "_cell_guid": "064efe90-906b-44b1-acc6-e313789fca40",
    "_uuid": "332834b4-1e9f-4a66-a3ca-17cd78fa4bb5",
    "papermill": {
     "duration": 0.023033,
     "end_time": "2023-02-14T20:41:32.464514",
     "exception": false,
     "start_time": "2023-02-14T20:41:32.441481",
     "status": "completed"
    },
    "tags": []
   },
   "source": [
    "#### RoomService, FoodCourt, ShoppingMall, Spa and VRDeck"
   ]
  },
  {
   "cell_type": "code",
   "execution_count": 23,
   "id": "c526b0e5",
   "metadata": {
    "_cell_guid": "7f7e3192-8f84-4d83-821c-e2ff2e7eb34a",
    "_uuid": "e4ff092f-d33d-4c31-9be9-31a5ea055345",
    "collapsed": false,
    "execution": {
     "iopub.execute_input": "2023-02-14T20:41:32.513954Z",
     "iopub.status.busy": "2023-02-14T20:41:32.512344Z",
     "iopub.status.idle": "2023-02-14T20:41:35.512326Z",
     "shell.execute_reply": "2023-02-14T20:41:35.510519Z"
    },
    "jupyter": {
     "outputs_hidden": false
    },
    "papermill": {
     "duration": 3.027845,
     "end_time": "2023-02-14T20:41:35.515375",
     "exception": false,
     "start_time": "2023-02-14T20:41:32.487530",
     "status": "completed"
    },
    "tags": []
   },
   "outputs": [
    {
     "data": {
      "image/png": "[encoded data removed]"
     },
     "metadata": {
      "image/png": {
       "height": 420,
       "width": 420
      }
     },
     "output_type": "display_data"
    }
   ],
   "source": [
    "p1 <- ggplot(data = na.omit(train), aes(x = RoomService, fill = VIP)) +\n",
    "      geom_density(alpha = 0.5) +\n",
    "      scale_fill_manual(values = c(\"gray50\", \"orangered2\",\"red\")) +\n",
    "      geom_rug(aes(color = VIP), alpha = 0.5) +\n",
    "      scale_color_manual(values = c(\"gray50\", \"orangered2\",\"red\")) +\n",
    "      theme_bw()\n",
    "p2 <- ggplot(data = na.omit(train), aes(x = FoodCourt, fill = VIP)) +\n",
    "      geom_density(alpha = 0.5) +\n",
    "      scale_fill_manual(values = c(\"gray50\", \"orangered2\",\"red\")) +\n",
    "      geom_rug(aes(color = VIP), alpha = 0.5) +\n",
    "      scale_color_manual(values = c(\"gray50\", \"orangered2\",\"red\")) +\n",
    "      theme_bw()\n",
    "p3 <- ggplot(data = na.omit(train), aes(x = ShoppingMall, fill = VIP)) +\n",
    "      geom_density(alpha = 0.5) +\n",
    "      scale_fill_manual(values = c(\"gray50\", \"orangered2\",\"red\")) +\n",
    "      geom_rug(aes(color = VIP), alpha = 0.5) +\n",
    "      scale_color_manual(values = c(\"gray50\", \"orangered2\",\"red\")) +\n",
    "      theme_bw()\n",
    "p4 <- ggplot(data = na.omit(train), aes(x = Spa, fill = VIP)) +\n",
    "      geom_density(alpha = 0.5) +\n",
    "      scale_fill_manual(values = c(\"gray50\", \"orangered2\",\"red\")) +\n",
    "      geom_rug(aes(color = VIP), alpha = 0.5) +\n",
    "      scale_color_manual(values = c(\"gray50\", \"orangered2\",\"red\")) +\n",
    "      theme_bw()\n",
    "p5 <- ggplot(data = na.omit(train), aes(x = VRDeck, fill = VIP)) +\n",
    "      geom_density(alpha = 0.5) +\n",
    "      scale_fill_manual(values = c(\"gray50\", \"orangered2\",\"red\")) +\n",
    "      geom_rug(aes(color = VIP), alpha = 0.5) +\n",
    "      scale_color_manual(values = c(\"gray50\", \"orangered2\",\"red\")) +\n",
    "      theme_bw()\n",
    "final_plot <- ggarrange(p1, p2,p3,p4, p5, legend = \"top\")\n",
    "final_plot <- annotate_figure(final_plot, top = text_grob(\"Distributions\", size =15))\n",
    "final_plot"
   ]
  },
  {
   "cell_type": "markdown",
   "id": "05a7a6fe",
   "metadata": {
    "_cell_guid": "c79533ed-ae75-45f0-80e4-c3f18720e48f",
    "_uuid": "a6e22740-4032-4b19-a1ba-ba5d67e77096",
    "papermill": {
     "duration": 0.025811,
     "end_time": "2023-02-14T20:41:35.566457",
     "exception": false,
     "start_time": "2023-02-14T20:41:35.540646",
     "status": "completed"
    },
    "tags": []
   },
   "source": [
    "> They aren't normal distributions, so the values of NA are considered as the median"
   ]
  },
  {
   "cell_type": "code",
   "execution_count": 24,
   "id": "9a7177eb",
   "metadata": {
    "_cell_guid": "6b26f5ce-9182-4c93-912e-396147e21e37",
    "_uuid": "9720744e-c748-4327-839a-c1e2ca7f309e",
    "collapsed": false,
    "execution": {
     "iopub.execute_input": "2023-02-14T20:41:35.619101Z",
     "iopub.status.busy": "2023-02-14T20:41:35.617506Z",
     "iopub.status.idle": "2023-02-14T20:41:35.643805Z",
     "shell.execute_reply": "2023-02-14T20:41:35.642022Z"
    },
    "jupyter": {
     "outputs_hidden": false
    },
    "papermill": {
     "duration": 0.054928,
     "end_time": "2023-02-14T20:41:35.646071",
     "exception": false,
     "start_time": "2023-02-14T20:41:35.591143",
     "status": "completed"
    },
    "tags": []
   },
   "outputs": [
    {
     "data": {
      "text/plain": [
       "  RoomService        FoodCourt        ShoppingMall          Spa         \n",
       " Min.   :    0.0   Min.   :    0.0   Min.   :    0.0   Min.   :    0.0  \n",
       " 1st Qu.:    0.0   1st Qu.:    0.0   1st Qu.:    0.0   1st Qu.:    0.0  \n",
       " Median :    0.0   Median :    0.0   Median :    0.0   Median :    0.0  \n",
       " Mean   :  224.7   Mean   :  458.1   Mean   :  173.7   Mean   :  311.1  \n",
       " 3rd Qu.:   47.0   3rd Qu.:   76.0   3rd Qu.:   27.0   3rd Qu.:   59.0  \n",
       " Max.   :14327.0   Max.   :29813.0   Max.   :23492.0   Max.   :22408.0  \n",
       " NA's   :181       NA's   :183       NA's   :208       NA's   :183      \n",
       "     VRDeck       \n",
       " Min.   :    0.0  \n",
       " 1st Qu.:    0.0  \n",
       " Median :    0.0  \n",
       " Mean   :  304.9  \n",
       " 3rd Qu.:   46.0  \n",
       " Max.   :24133.0  \n",
       " NA's   :188      "
      ]
     },
     "metadata": {},
     "output_type": "display_data"
    }
   ],
   "source": [
    "summary(train%>% select(c(8:12)))"
   ]
  },
  {
   "cell_type": "markdown",
   "id": "de08b1a1",
   "metadata": {
    "_cell_guid": "af1dbb90-66d6-42c1-827f-0e0f2deb9d77",
    "_uuid": "755c0e6f-98b3-4302-a327-c7d7f280d1bf",
    "papermill": {
     "duration": 0.024765,
     "end_time": "2023-02-14T20:41:35.695459",
     "exception": false,
     "start_time": "2023-02-14T20:41:35.670694",
     "status": "completed"
    },
    "tags": []
   },
   "source": [
    "> Replace the NA values by 0, because it's the median of each one"
   ]
  },
  {
   "cell_type": "code",
   "execution_count": 25,
   "id": "5bb414d6",
   "metadata": {
    "_cell_guid": "28a4f3ab-ebb1-4f73-9421-526f8c39d359",
    "_uuid": "1bfdbdaa-9995-4e26-b30f-052814f09369",
    "collapsed": false,
    "execution": {
     "iopub.execute_input": "2023-02-14T20:41:35.748482Z",
     "iopub.status.busy": "2023-02-14T20:41:35.746862Z",
     "iopub.status.idle": "2023-02-14T20:41:35.776736Z",
     "shell.execute_reply": "2023-02-14T20:41:35.774848Z"
    },
    "jupyter": {
     "outputs_hidden": false
    },
    "papermill": {
     "duration": 0.058884,
     "end_time": "2023-02-14T20:41:35.779088",
     "exception": false,
     "start_time": "2023-02-14T20:41:35.720204",
     "status": "completed"
    },
    "tags": []
   },
   "outputs": [],
   "source": [
    "train <- mutate_at(train, c(8:12), ~replace(., is.na(.), 0))"
   ]
  },
  {
   "cell_type": "markdown",
   "id": "5458144f",
   "metadata": {
    "_cell_guid": "879be27c-3b33-4457-9746-854d0b507ae3",
    "_uuid": "e8fd9ec0-f791-4384-b0b0-e761807d0b9d",
    "papermill": {
     "duration": 0.025151,
     "end_time": "2023-02-14T20:41:35.828949",
     "exception": false,
     "start_time": "2023-02-14T20:41:35.803798",
     "status": "completed"
    },
    "tags": []
   },
   "source": [
    "#### Age_grupo"
   ]
  },
  {
   "cell_type": "code",
   "execution_count": 26,
   "id": "e9f79ecc",
   "metadata": {
    "_cell_guid": "52896c72-4c70-4fcd-a455-0e0b80245fc1",
    "_uuid": "fc6639c5-b152-4bdb-97c6-cf54c55cd39f",
    "collapsed": false,
    "execution": {
     "iopub.execute_input": "2023-02-14T20:41:35.882872Z",
     "iopub.status.busy": "2023-02-14T20:41:35.881264Z",
     "iopub.status.idle": "2023-02-14T20:41:36.278054Z",
     "shell.execute_reply": "2023-02-14T20:41:36.276277Z"
    },
    "jupyter": {
     "outputs_hidden": false
    },
    "papermill": {
     "duration": 0.425717,
     "end_time": "2023-02-14T20:41:36.280162",
     "exception": false,
     "start_time": "2023-02-14T20:41:35.854445",
     "status": "completed"
    },
    "tags": []
   },
   "outputs": [
    {
     "data": {
      "image/png": "[encoded data removed]"
     },
     "metadata": {
      "image/png": {
       "height": 420,
       "width": 420
      }
     },
     "output_type": "display_data"
    }
   ],
   "source": [
    "# Age by category\n",
    "ggplot(data = train, aes(x = Age_group, y = after_stat(count), fill = Transported)) +\n",
    "  geom_bar() +\n",
    "  scale_fill_manual(values = c(\"gray50\", \"orangered2\")) +\n",
    "  labs(title = \"Age_group\") +\n",
    "  theme_bw() +\n",
    "  theme(legend.position = \"bottom\")"
   ]
  },
  {
   "cell_type": "markdown",
   "id": "957383f0",
   "metadata": {
    "_cell_guid": "3ed6964a-7735-4f10-a3c9-f1854338ba61",
    "_uuid": "9f0f5ebc-81b6-42b7-beb4-4b43746c5663",
    "papermill": {
     "duration": 0.025361,
     "end_time": "2023-02-14T20:41:36.330550",
     "exception": false,
     "start_time": "2023-02-14T20:41:36.305189",
     "status": "completed"
    },
    "tags": []
   },
   "source": [
    "> The number of NAs is similar to that of a category, for this reason, data will be imputed using random forest."
   ]
  },
  {
   "cell_type": "code",
   "execution_count": 27,
   "id": "9ede996e",
   "metadata": {
    "_cell_guid": "1291b67d-4c44-4d22-816f-a8fb9e172d0a",
    "_uuid": "778160a4-1c6c-4f89-8ecf-15a8fb1c4098",
    "collapsed": false,
    "execution": {
     "iopub.execute_input": "2023-02-14T20:41:36.384713Z",
     "iopub.status.busy": "2023-02-14T20:41:36.382860Z",
     "iopub.status.idle": "2023-02-14T20:41:36.414952Z",
     "shell.execute_reply": "2023-02-14T20:41:36.413080Z"
    },
    "jupyter": {
     "outputs_hidden": false
    },
    "papermill": {
     "duration": 0.061294,
     "end_time": "2023-02-14T20:41:36.417179",
     "exception": false,
     "start_time": "2023-02-14T20:41:36.355885",
     "status": "completed"
    },
    "tags": []
   },
   "outputs": [],
   "source": [
    "# Changing the type of variables\n",
    "train$HomePlanet <- as.factor(train$HomePlanet)\n",
    "train$CryoSleep <- as.logical(train$CryoSleep)\n",
    "train$CabinDeck <- as.factor(train$CabinDeck)\n",
    "train$CabinSide <- as.factor(train$CabinSide)\n",
    "train$Destination <- as.factor(train$Destination)\n",
    "train$VIP <- as.logical(train$VIP)\n",
    "train$Age_group <- as.factor(train$Age_group)\n",
    "train$Transported <- as.factor(train$Transported)"
   ]
  },
  {
   "cell_type": "code",
   "execution_count": 28,
   "id": "a755896c",
   "metadata": {
    "_cell_guid": "63239133-c592-4356-9892-690bb68d1115",
    "_uuid": "25e59847-f1d5-49f0-9a6c-7ad6be10da2c",
    "collapsed": false,
    "execution": {
     "iopub.execute_input": "2023-02-14T20:41:36.471274Z",
     "iopub.status.busy": "2023-02-14T20:41:36.469626Z",
     "iopub.status.idle": "2023-02-14T20:41:47.036251Z",
     "shell.execute_reply": "2023-02-14T20:41:47.034487Z"
    },
    "jupyter": {
     "outputs_hidden": false
    },
    "papermill": {
     "duration": 10.597084,
     "end_time": "2023-02-14T20:41:47.039678",
     "exception": false,
     "start_time": "2023-02-14T20:41:36.442594",
     "status": "completed"
    },
    "tags": []
   },
   "outputs": [
    {
     "name": "stdout",
     "output_type": "stream",
     "text": [
      "\n",
      " iter imp variable\n",
      "  1   1  Age_group\n",
      "  1   2  Age_group\n",
      "  1   3  Age_group\n",
      "  1   4  Age_group\n",
      "  1   5  Age_group\n",
      "  2   1  Age_group\n",
      "  2   2  Age_group\n",
      "  2   3  Age_group\n",
      "  2   4  Age_group\n",
      "  2   5  Age_group\n",
      "  3   1  Age_group\n",
      "  3   2  Age_group\n",
      "  3   3  Age_group\n",
      "  3   4  Age_group\n",
      "  3   5  Age_group\n",
      "  4   1  Age_group\n",
      "  4   2  Age_group\n",
      "  4   3  Age_group\n",
      "  4   4  Age_group\n",
      "  4   5  Age_group\n",
      "  5   1  Age_group\n",
      "  5   2  Age_group\n",
      "  5   3  Age_group\n",
      "  5   4  Age_group\n",
      "  5   5  Age_group\n"
     ]
    },
    {
     "name": "stderr",
     "output_type": "stream",
     "text": [
      "Warning message:\n",
      "“Number of logged events: 26”\n"
     ]
    }
   ],
   "source": [
    "# Random Forest\n",
    "mice_mod <- mice(data = train, method='rf')\n",
    "train <- complete(mice_mod)"
   ]
  },
  {
   "cell_type": "code",
   "execution_count": 29,
   "id": "ddc66685",
   "metadata": {
    "_cell_guid": "f943c1d5-035c-469e-83cf-de82f303af89",
    "_uuid": "9e1b6609-7e55-40a0-b1ba-c823bb3bcf68",
    "collapsed": false,
    "execution": {
     "iopub.execute_input": "2023-02-14T20:41:47.094080Z",
     "iopub.status.busy": "2023-02-14T20:41:47.092466Z",
     "iopub.status.idle": "2023-02-14T20:41:47.122272Z",
     "shell.execute_reply": "2023-02-14T20:41:47.119501Z"
    },
    "jupyter": {
     "outputs_hidden": false
    },
    "papermill": {
     "duration": 0.060373,
     "end_time": "2023-02-14T20:41:47.125582",
     "exception": false,
     "start_time": "2023-02-14T20:41:47.065209",
     "status": "completed"
    },
    "tags": []
   },
   "outputs": [
    {
     "name": "stdout",
     "output_type": "stream",
     "text": [
      "       variable q_zeros p_zeros q_na p_na q_inf p_inf      type unique\n",
      "1   PassengerId       0    0.00    0    0     0     0 character   8693\n",
      "2    HomePlanet       0    0.00    0    0     0     0    factor      3\n",
      "3     CryoSleep    5656   65.06    0    0     0     0   logical      2\n",
      "4     CabinDeck       0    0.00    0    0     0     0    factor      9\n",
      "5     CabinSide       0    0.00    0    0     0     0    factor      3\n",
      "6   Destination       0    0.00    0    0     0     0    factor      3\n",
      "7           VIP    8494   97.71    0    0     0     0   logical      2\n",
      "8   RoomService    5758   66.24    0    0     0     0   numeric   1273\n",
      "9     FoodCourt    5639   64.87    0    0     0     0   numeric   1507\n",
      "10 ShoppingMall    5795   66.66    0    0     0     0   numeric   1115\n",
      "11          Spa    5507   63.35    0    0     0     0   numeric   1327\n",
      "12       VRDeck    5683   65.37    0    0     0     0   numeric   1306\n",
      "13  Transported       0    0.00    0    0     0     0    factor      2\n",
      "14    GroupSize       0    0.00    0    0     0     0   integer      8\n",
      "15    Age_group       0    0.00    0    0     0     0    factor      4\n"
     ]
    }
   ],
   "source": [
    "df_status(train)"
   ]
  },
  {
   "cell_type": "markdown",
   "id": "7bf97481",
   "metadata": {
    "papermill": {
     "duration": 0.025342,
     "end_time": "2023-02-14T20:41:47.176421",
     "exception": false,
     "start_time": "2023-02-14T20:41:47.151079",
     "status": "completed"
    },
    "tags": []
   },
   "source": [
    "> Complete imputation"
   ]
  },
  {
   "cell_type": "code",
   "execution_count": 30,
   "id": "39067da3",
   "metadata": {
    "_cell_guid": "bb3dd80f-2f22-4457-8cf8-7b245a647508",
    "_uuid": "7cc5e69a-d129-4b13-81b9-30e396e056c1",
    "collapsed": false,
    "execution": {
     "iopub.execute_input": "2023-02-14T20:41:47.231045Z",
     "iopub.status.busy": "2023-02-14T20:41:47.229479Z",
     "iopub.status.idle": "2023-02-14T20:41:47.249955Z",
     "shell.execute_reply": "2023-02-14T20:41:47.248193Z"
    },
    "jupyter": {
     "outputs_hidden": false
    },
    "papermill": {
     "duration": 0.050898,
     "end_time": "2023-02-14T20:41:47.253038",
     "exception": false,
     "start_time": "2023-02-14T20:41:47.202140",
     "status": "completed"
    },
    "tags": []
   },
   "outputs": [],
   "source": [
    "# Placing target variable at the end\n",
    "train <- train %>% relocate(Transported, .after = Age_group )"
   ]
  },
  {
   "cell_type": "markdown",
   "id": "1f9fc32f",
   "metadata": {
    "_cell_guid": "175bc991-4dbf-44a1-8041-3d6cc5c10030",
    "_uuid": "5ac65ab3-2eb7-4788-8675-71b30c15af35",
    "papermill": {
     "duration": 0.025583,
     "end_time": "2023-02-14T20:41:47.304008",
     "exception": false,
     "start_time": "2023-02-14T20:41:47.278425",
     "status": "completed"
    },
    "tags": []
   },
   "source": [
    "### Correlation analysis"
   ]
  },
  {
   "cell_type": "code",
   "execution_count": 31,
   "id": "272c9329",
   "metadata": {
    "_cell_guid": "d18d130f-8740-4c05-a600-7867793ba5d1",
    "_uuid": "f74cc56a-8cbd-413e-acdf-9148fd95a09b",
    "collapsed": false,
    "execution": {
     "iopub.execute_input": "2023-02-14T20:41:47.362510Z",
     "iopub.status.busy": "2023-02-14T20:41:47.360668Z",
     "iopub.status.idle": "2023-02-14T20:41:47.516035Z",
     "shell.execute_reply": "2023-02-14T20:41:47.514210Z"
    },
    "jupyter": {
     "outputs_hidden": false
    },
    "papermill": {
     "duration": 0.189749,
     "end_time": "2023-02-14T20:41:47.519743",
     "exception": false,
     "start_time": "2023-02-14T20:41:47.329994",
     "status": "completed"
    },
    "tags": []
   },
   "outputs": [
    {
     "data": {
      "image/png": "[encoded data removed]"
     },
     "metadata": {
      "image/png": {
       "height": 420,
       "width": 420
      }
     },
     "output_type": "display_data"
    }
   ],
   "source": [
    "# Correlation map\n",
    "train %>% \n",
    "  select_if(is.numeric) %>% \n",
    "  cor %>% \n",
    "  corrplot(method = 'number', order= 'hclust')"
   ]
  },
  {
   "cell_type": "markdown",
   "id": "2e78eaaa",
   "metadata": {
    "_cell_guid": "90ad901b-e68b-4a71-bf7e-6284d4fa2351",
    "_uuid": "d5b14fae-d84e-4736-9626-3170bb14fd84",
    "papermill": {
     "duration": 0.026814,
     "end_time": "2023-02-14T20:41:47.573730",
     "exception": false,
     "start_time": "2023-02-14T20:41:47.546916",
     "status": "completed"
    },
    "tags": []
   },
   "source": [
    "> There is **low correlation** between these attributes. Selection method isn´t used"
   ]
  },
  {
   "cell_type": "markdown",
   "id": "d484f3b6",
   "metadata": {
    "_cell_guid": "cd49ae8e-84ee-45d5-a240-4cd665110349",
    "_uuid": "c5926c6f-10ea-46fb-b905-9927a45c740b",
    "papermill": {
     "duration": 0.026678,
     "end_time": "2023-02-14T20:41:47.627045",
     "exception": false,
     "start_time": "2023-02-14T20:41:47.600367",
     "status": "completed"
    },
    "tags": []
   },
   "source": [
    "### Outlier analysis"
   ]
  },
  {
   "cell_type": "code",
   "execution_count": 32,
   "id": "37a82917",
   "metadata": {
    "_cell_guid": "b4b09333-51c2-485e-b9d0-08ac7172b3fd",
    "_uuid": "127a93e0-4b11-4442-8c08-5ebab3b65e7b",
    "collapsed": false,
    "execution": {
     "iopub.execute_input": "2023-02-14T20:41:47.683944Z",
     "iopub.status.busy": "2023-02-14T20:41:47.682432Z",
     "iopub.status.idle": "2023-02-14T20:41:48.238685Z",
     "shell.execute_reply": "2023-02-14T20:41:48.235888Z"
    },
    "jupyter": {
     "outputs_hidden": false
    },
    "papermill": {
     "duration": 0.588196,
     "end_time": "2023-02-14T20:41:48.241796",
     "exception": false,
     "start_time": "2023-02-14T20:41:47.653600",
     "status": "completed"
    },
    "tags": []
   },
   "outputs": [
    {
     "data": {
      "image/png": "[encoded data removed]"
     },
     "metadata": {
      "image/png": {
       "height": 420,
       "width": 420
      }
     },
     "output_type": "display_data"
    }
   ],
   "source": [
    "#Boxplots\n",
    "boxplot(train %>%select_if(is.numeric))"
   ]
  },
  {
   "cell_type": "markdown",
   "id": "db705b6d",
   "metadata": {
    "_cell_guid": "5ca3ef60-ce99-4d4c-9ec2-9fcf446fb844",
    "_uuid": "fd4e02b1-6160-4d75-aabb-2c696aab5484",
    "papermill": {
     "duration": 0.027779,
     "end_time": "2023-02-14T20:41:48.297809",
     "exception": false,
     "start_time": "2023-02-14T20:41:48.270030",
     "status": "completed"
    },
    "tags": []
   },
   "source": [
    "> **There is a presence of outliers**. Therefore we limit the methods to use"
   ]
  },
  {
   "cell_type": "markdown",
   "id": "7537738a",
   "metadata": {
    "_cell_guid": "cf3280f8-7213-4dd1-ba8f-41b80dd30af3",
    "_uuid": "cc678209-52b2-405e-8aec-7ce54838b8d1",
    "papermill": {
     "duration": 0.027993,
     "end_time": "2023-02-14T20:41:48.353515",
     "exception": false,
     "start_time": "2023-02-14T20:41:48.325522",
     "status": "completed"
    },
    "tags": []
   },
   "source": [
    "# 4. Training"
   ]
  },
  {
   "cell_type": "markdown",
   "id": "4147d589",
   "metadata": {
    "papermill": {
     "duration": 0.027616,
     "end_time": "2023-02-14T20:41:48.408719",
     "exception": false,
     "start_time": "2023-02-14T20:41:48.381103",
     "status": "completed"
    },
    "tags": []
   },
   "source": [
    "### Recipe"
   ]
  },
  {
   "cell_type": "code",
   "execution_count": 33,
   "id": "c678243d",
   "metadata": {
    "execution": {
     "iopub.execute_input": "2023-02-14T20:41:48.467259Z",
     "iopub.status.busy": "2023-02-14T20:41:48.465717Z",
     "iopub.status.idle": "2023-02-14T20:41:48.529930Z",
     "shell.execute_reply": "2023-02-14T20:41:48.528176Z"
    },
    "papermill": {
     "duration": 0.096715,
     "end_time": "2023-02-14T20:41:48.532980",
     "exception": false,
     "start_time": "2023-02-14T20:41:48.436265",
     "status": "completed"
    },
    "tags": []
   },
   "outputs": [],
   "source": [
    "set.seed(123)\n",
    "rct_bcoPor_bal <- train %>% recipe(Transported ~ . ) %>%\n",
    "    step_other(all_nominal(), -all_outcomes() , threshold = 0.07, other = \"other\") %>%\n",
    "    step_novel(all_nominal(), -all_outcomes() , new_level = \"new\") %>%\n",
    "    step_corr(all_numeric(), -all_outcomes(), threshold = 0.9) %>%\n",
    "    step_nzv(all_predictors()) %>%\n",
    "    themis::step_upsample(Transported, over_ratio = 1, skip= TRUE, seed= 123) "
   ]
  },
  {
   "cell_type": "markdown",
   "id": "0cb11145",
   "metadata": {
    "papermill": {
     "duration": 0.027504,
     "end_time": "2023-02-14T20:41:48.588125",
     "exception": false,
     "start_time": "2023-02-14T20:41:48.560621",
     "status": "completed"
    },
    "tags": []
   },
   "source": [
    "### Model"
   ]
  },
  {
   "cell_type": "code",
   "execution_count": 34,
   "id": "50c97cc9",
   "metadata": {
    "execution": {
     "iopub.execute_input": "2023-02-14T20:41:48.646629Z",
     "iopub.status.busy": "2023-02-14T20:41:48.645044Z",
     "iopub.status.idle": "2023-02-14T20:41:48.765842Z",
     "shell.execute_reply": "2023-02-14T20:41:48.764072Z"
    },
    "papermill": {
     "duration": 0.153261,
     "end_time": "2023-02-14T20:41:48.768939",
     "exception": false,
     "start_time": "2023-02-14T20:41:48.615678",
     "status": "completed"
    },
    "tags": []
   },
   "outputs": [],
   "source": [
    "rf_sp <- rand_forest(\n",
    "    mtry = tune(), trees = tune(), min_n = tune()) %>%\n",
    "    set_engine(\"ranger\", importance = \"impurity\") %>%\n",
    "    set_mode(\"classification\")"
   ]
  },
  {
   "cell_type": "markdown",
   "id": "7127957c",
   "metadata": {
    "papermill": {
     "duration": 0.027759,
     "end_time": "2023-02-14T20:41:48.824175",
     "exception": false,
     "start_time": "2023-02-14T20:41:48.796416",
     "status": "completed"
    },
    "tags": []
   },
   "source": [
    "### Grid"
   ]
  },
  {
   "cell_type": "code",
   "execution_count": 35,
   "id": "7646f245",
   "metadata": {
    "execution": {
     "iopub.execute_input": "2023-02-14T20:41:48.883254Z",
     "iopub.status.busy": "2023-02-14T20:41:48.881703Z",
     "iopub.status.idle": "2023-02-14T20:41:49.066239Z",
     "shell.execute_reply": "2023-02-14T20:41:49.064482Z"
    },
    "papermill": {
     "duration": 0.217274,
     "end_time": "2023-02-14T20:41:49.069552",
     "exception": false,
     "start_time": "2023-02-14T20:41:48.852278",
     "status": "completed"
    },
    "tags": []
   },
   "outputs": [
    {
     "name": "stderr",
     "output_type": "stream",
     "text": [
      "Warning message:\n",
      "“\u001b[1m\u001b[22m`parameters.model_spec()` was deprecated in tune 0.1.6.9003.\n",
      "\u001b[36mℹ\u001b[39m Please use `hardhat::extract_parameter_set_dials()` instead.”\n"
     ]
    }
   ],
   "source": [
    "set.seed(123)\n",
    "rf_grid <- rf_sp %>%\n",
    "    parameters() %>%\n",
    "    update(min_n= min_n( range= c(30, 50)),\n",
    "            mtry= mtry( range= c(4, 7))) %>%\n",
    "    grid_latin_hypercube(size = 10)"
   ]
  },
  {
   "cell_type": "markdown",
   "id": "2a23aaf4",
   "metadata": {
    "papermill": {
     "duration": 0.028005,
     "end_time": "2023-02-14T20:41:49.125562",
     "exception": false,
     "start_time": "2023-02-14T20:41:49.097557",
     "status": "completed"
    },
    "tags": []
   },
   "source": [
    "### Workflow"
   ]
  },
  {
   "cell_type": "code",
   "execution_count": 36,
   "id": "aadeabd6",
   "metadata": {
    "execution": {
     "iopub.execute_input": "2023-02-14T20:41:49.185687Z",
     "iopub.status.busy": "2023-02-14T20:41:49.183964Z",
     "iopub.status.idle": "2023-02-14T20:41:49.214644Z",
     "shell.execute_reply": "2023-02-14T20:41:49.212823Z"
    },
    "papermill": {
     "duration": 0.063372,
     "end_time": "2023-02-14T20:41:49.217761",
     "exception": false,
     "start_time": "2023-02-14T20:41:49.154389",
     "status": "completed"
    },
    "tags": []
   },
   "outputs": [],
   "source": [
    "rf_wflow <- workflow() %>%\n",
    "    add_recipe(rct_bcoPor_bal) %>%\n",
    "    add_model(rf_sp)"
   ]
  },
  {
   "cell_type": "markdown",
   "id": "ef89f6fc",
   "metadata": {
    "papermill": {
     "duration": 0.027786,
     "end_time": "2023-02-14T20:41:49.273213",
     "exception": false,
     "start_time": "2023-02-14T20:41:49.245427",
     "status": "completed"
    },
    "tags": []
   },
   "source": [
    "### Establishment of the object that integrates workflow, resampling, parameters and metrics"
   ]
  },
  {
   "cell_type": "code",
   "execution_count": 37,
   "id": "f2d65141",
   "metadata": {
    "execution": {
     "iopub.execute_input": "2023-02-14T20:41:49.331991Z",
     "iopub.status.busy": "2023-02-14T20:41:49.330387Z",
     "iopub.status.idle": "2023-02-14T20:51:24.381457Z",
     "shell.execute_reply": "2023-02-14T20:51:24.379557Z"
    },
    "papermill": {
     "duration": 575.083286,
     "end_time": "2023-02-14T20:51:24.384103",
     "exception": false,
     "start_time": "2023-02-14T20:41:49.300817",
     "status": "completed"
    },
    "tags": []
   },
   "outputs": [],
   "source": [
    "# Metrics\n",
    "set.seed(1234)\n",
    "cv_banco <- vfold_cv(train, v =5, repeats = 1, strata = Transported)\n",
    "metricas <- metric_set(roc_auc, accuracy, sens, spec, bal_accuracy)\n",
    "# Object\n",
    "set.seed(123)\n",
    "rf_tuned <- tune_grid(\n",
    "      rf_wflow,\n",
    "      resamples= cv_banco,\n",
    "      grid = rf_grid,\n",
    "      metrics = metricas,\n",
    "      control= control_grid(allow_par = T, save_pred = T)\n",
    ")"
   ]
  },
  {
   "cell_type": "code",
   "execution_count": 38,
   "id": "772d8f50",
   "metadata": {
    "execution": {
     "iopub.execute_input": "2023-02-14T20:51:24.452476Z",
     "iopub.status.busy": "2023-02-14T20:51:24.450925Z",
     "iopub.status.idle": "2023-02-14T20:51:24.535281Z",
     "shell.execute_reply": "2023-02-14T20:51:24.533563Z"
    },
    "papermill": {
     "duration": 0.121734,
     "end_time": "2023-02-14T20:51:24.537510",
     "exception": false,
     "start_time": "2023-02-14T20:51:24.415776",
     "status": "completed"
    },
    "tags": []
   },
   "outputs": [
    {
     "data": {
      "text/html": [
       "<table class=\"dataframe\">\n",
       "<caption>A tibble: 10 × 9</caption>\n",
       "<thead>\n",
       "\t<tr><th scope=col>mtry</th><th scope=col>trees</th><th scope=col>min_n</th><th scope=col>.metric</th><th scope=col>.estimator</th><th scope=col>mean</th><th scope=col>n</th><th scope=col>std_err</th><th scope=col>.config</th></tr>\n",
       "\t<tr><th scope=col>&lt;int&gt;</th><th scope=col>&lt;int&gt;</th><th scope=col>&lt;int&gt;</th><th scope=col>&lt;chr&gt;</th><th scope=col>&lt;chr&gt;</th><th scope=col>&lt;dbl&gt;</th><th scope=col>&lt;int&gt;</th><th scope=col>&lt;dbl&gt;</th><th scope=col>&lt;chr&gt;</th></tr>\n",
       "</thead>\n",
       "<tbody>\n",
       "\t<tr><td>4</td><td>1370</td><td>39</td><td>accuracy</td><td>binary</td><td>0.7976538</td><td>5</td><td>0.007103816</td><td>Preprocessor1_Model06</td></tr>\n",
       "\t<tr><td>5</td><td>1904</td><td>41</td><td>accuracy</td><td>binary</td><td>0.7966186</td><td>5</td><td>0.007099378</td><td>Preprocessor1_Model09</td></tr>\n",
       "\t<tr><td>5</td><td>  70</td><td>45</td><td>accuracy</td><td>binary</td><td>0.7966178</td><td>5</td><td>0.006162322</td><td>Preprocessor1_Model01</td></tr>\n",
       "\t<tr><td>5</td><td>1441</td><td>37</td><td>accuracy</td><td>binary</td><td>0.7955832</td><td>5</td><td>0.007523030</td><td>Preprocessor1_Model10</td></tr>\n",
       "\t<tr><td>5</td><td> 325</td><td>33</td><td>accuracy</td><td>binary</td><td>0.7955828</td><td>5</td><td>0.006737325</td><td>Preprocessor1_Model08</td></tr>\n",
       "\t<tr><td>6</td><td> 467</td><td>34</td><td>accuracy</td><td>binary</td><td>0.7944327</td><td>5</td><td>0.007730166</td><td>Preprocessor1_Model02</td></tr>\n",
       "\t<tr><td>6</td><td>1124</td><td>48</td><td>accuracy</td><td>binary</td><td>0.7940874</td><td>5</td><td>0.007002325</td><td>Preprocessor1_Model04</td></tr>\n",
       "\t<tr><td>6</td><td>1737</td><td>48</td><td>accuracy</td><td>binary</td><td>0.7937427</td><td>5</td><td>0.007106109</td><td>Preprocessor1_Model03</td></tr>\n",
       "\t<tr><td>7</td><td> 773</td><td>32</td><td>accuracy</td><td>binary</td><td>0.7928224</td><td>5</td><td>0.007810465</td><td>Preprocessor1_Model05</td></tr>\n",
       "\t<tr><td>6</td><td> 950</td><td>42</td><td>accuracy</td><td>binary</td><td>0.7927073</td><td>5</td><td>0.006979853</td><td>Preprocessor1_Model07</td></tr>\n",
       "</tbody>\n",
       "</table>\n"
      ],
      "text/latex": [
       "A tibble: 10 × 9\n",
       "\\begin{tabular}{lllllllll}\n",
       " mtry & trees & min\\_n & .metric & .estimator & mean & n & std\\_err & .config\\\\\n",
       " <int> & <int> & <int> & <chr> & <chr> & <dbl> & <int> & <dbl> & <chr>\\\\\n",
       "\\hline\n",
       "\t 4 & 1370 & 39 & accuracy & binary & 0.7976538 & 5 & 0.007103816 & Preprocessor1\\_Model06\\\\\n",
       "\t 5 & 1904 & 41 & accuracy & binary & 0.7966186 & 5 & 0.007099378 & Preprocessor1\\_Model09\\\\\n",
       "\t 5 &   70 & 45 & accuracy & binary & 0.7966178 & 5 & 0.006162322 & Preprocessor1\\_Model01\\\\\n",
       "\t 5 & 1441 & 37 & accuracy & binary & 0.7955832 & 5 & 0.007523030 & Preprocessor1\\_Model10\\\\\n",
       "\t 5 &  325 & 33 & accuracy & binary & 0.7955828 & 5 & 0.006737325 & Preprocessor1\\_Model08\\\\\n",
       "\t 6 &  467 & 34 & accuracy & binary & 0.7944327 & 5 & 0.007730166 & Preprocessor1\\_Model02\\\\\n",
       "\t 6 & 1124 & 48 & accuracy & binary & 0.7940874 & 5 & 0.007002325 & Preprocessor1\\_Model04\\\\\n",
       "\t 6 & 1737 & 48 & accuracy & binary & 0.7937427 & 5 & 0.007106109 & Preprocessor1\\_Model03\\\\\n",
       "\t 7 &  773 & 32 & accuracy & binary & 0.7928224 & 5 & 0.007810465 & Preprocessor1\\_Model05\\\\\n",
       "\t 6 &  950 & 42 & accuracy & binary & 0.7927073 & 5 & 0.006979853 & Preprocessor1\\_Model07\\\\\n",
       "\\end{tabular}\n"
      ],
      "text/markdown": [
       "\n",
       "A tibble: 10 × 9\n",
       "\n",
       "| mtry &lt;int&gt; | trees &lt;int&gt; | min_n &lt;int&gt; | .metric &lt;chr&gt; | .estimator &lt;chr&gt; | mean &lt;dbl&gt; | n &lt;int&gt; | std_err &lt;dbl&gt; | .config &lt;chr&gt; |\n",
       "|---|---|---|---|---|---|---|---|---|\n",
       "| 4 | 1370 | 39 | accuracy | binary | 0.7976538 | 5 | 0.007103816 | Preprocessor1_Model06 |\n",
       "| 5 | 1904 | 41 | accuracy | binary | 0.7966186 | 5 | 0.007099378 | Preprocessor1_Model09 |\n",
       "| 5 |   70 | 45 | accuracy | binary | 0.7966178 | 5 | 0.006162322 | Preprocessor1_Model01 |\n",
       "| 5 | 1441 | 37 | accuracy | binary | 0.7955832 | 5 | 0.007523030 | Preprocessor1_Model10 |\n",
       "| 5 |  325 | 33 | accuracy | binary | 0.7955828 | 5 | 0.006737325 | Preprocessor1_Model08 |\n",
       "| 6 |  467 | 34 | accuracy | binary | 0.7944327 | 5 | 0.007730166 | Preprocessor1_Model02 |\n",
       "| 6 | 1124 | 48 | accuracy | binary | 0.7940874 | 5 | 0.007002325 | Preprocessor1_Model04 |\n",
       "| 6 | 1737 | 48 | accuracy | binary | 0.7937427 | 5 | 0.007106109 | Preprocessor1_Model03 |\n",
       "| 7 |  773 | 32 | accuracy | binary | 0.7928224 | 5 | 0.007810465 | Preprocessor1_Model05 |\n",
       "| 6 |  950 | 42 | accuracy | binary | 0.7927073 | 5 | 0.006979853 | Preprocessor1_Model07 |\n",
       "\n"
      ],
      "text/plain": [
       "   mtry trees min_n .metric  .estimator mean      n std_err    \n",
       "1  4    1370  39    accuracy binary     0.7976538 5 0.007103816\n",
       "2  5    1904  41    accuracy binary     0.7966186 5 0.007099378\n",
       "3  5      70  45    accuracy binary     0.7966178 5 0.006162322\n",
       "4  5    1441  37    accuracy binary     0.7955832 5 0.007523030\n",
       "5  5     325  33    accuracy binary     0.7955828 5 0.006737325\n",
       "6  6     467  34    accuracy binary     0.7944327 5 0.007730166\n",
       "7  6    1124  48    accuracy binary     0.7940874 5 0.007002325\n",
       "8  6    1737  48    accuracy binary     0.7937427 5 0.007106109\n",
       "9  7     773  32    accuracy binary     0.7928224 5 0.007810465\n",
       "10 6     950  42    accuracy binary     0.7927073 5 0.006979853\n",
       "   .config              \n",
       "1  Preprocessor1_Model06\n",
       "2  Preprocessor1_Model09\n",
       "3  Preprocessor1_Model01\n",
       "4  Preprocessor1_Model10\n",
       "5  Preprocessor1_Model08\n",
       "6  Preprocessor1_Model02\n",
       "7  Preprocessor1_Model04\n",
       "8  Preprocessor1_Model03\n",
       "9  Preprocessor1_Model05\n",
       "10 Preprocessor1_Model07"
      ]
     },
     "metadata": {},
     "output_type": "display_data"
    }
   ],
   "source": [
    "# for accuracy\n",
    "show_best(rf_tuned, metric = 'accuracy', n = 10)"
   ]
  },
  {
   "cell_type": "code",
   "execution_count": 39,
   "id": "9b4381b9",
   "metadata": {
    "execution": {
     "iopub.execute_input": "2023-02-14T20:51:24.596645Z",
     "iopub.status.busy": "2023-02-14T20:51:24.595121Z",
     "iopub.status.idle": "2023-02-14T20:51:25.078558Z",
     "shell.execute_reply": "2023-02-14T20:51:25.076843Z"
    },
    "papermill": {
     "duration": 0.515389,
     "end_time": "2023-02-14T20:51:25.080795",
     "exception": false,
     "start_time": "2023-02-14T20:51:24.565406",
     "status": "completed"
    },
    "tags": []
   },
   "outputs": [
    {
     "data": {
      "text/html": [
       "<table class=\"dataframe\">\n",
       "<caption>A tibble: 10 × 9</caption>\n",
       "<thead>\n",
       "\t<tr><th scope=col>mtry</th><th scope=col>trees</th><th scope=col>min_n</th><th scope=col>.metric</th><th scope=col>.estimator</th><th scope=col>mean</th><th scope=col>n</th><th scope=col>std_err</th><th scope=col>.config</th></tr>\n",
       "\t<tr><th scope=col>&lt;int&gt;</th><th scope=col>&lt;int&gt;</th><th scope=col>&lt;int&gt;</th><th scope=col>&lt;chr&gt;</th><th scope=col>&lt;chr&gt;</th><th scope=col>&lt;dbl&gt;</th><th scope=col>&lt;int&gt;</th><th scope=col>&lt;dbl&gt;</th><th scope=col>&lt;chr&gt;</th></tr>\n",
       "</thead>\n",
       "<tbody>\n",
       "\t<tr><td>7</td><td> 773</td><td>32</td><td>sens</td><td>binary</td><td>0.7726535</td><td>5</td><td>0.011337986</td><td>Preprocessor1_Model05</td></tr>\n",
       "\t<tr><td>6</td><td>1124</td><td>48</td><td>sens</td><td>binary</td><td>0.7712630</td><td>5</td><td>0.010132261</td><td>Preprocessor1_Model04</td></tr>\n",
       "\t<tr><td>6</td><td>1737</td><td>48</td><td>sens</td><td>binary</td><td>0.7687138</td><td>5</td><td>0.011527073</td><td>Preprocessor1_Model03</td></tr>\n",
       "\t<tr><td>6</td><td> 467</td><td>34</td><td>sens</td><td>binary</td><td>0.7684820</td><td>5</td><td>0.009251140</td><td>Preprocessor1_Model02</td></tr>\n",
       "\t<tr><td>6</td><td> 950</td><td>42</td><td>sens</td><td>binary</td><td>0.7682503</td><td>5</td><td>0.010626426</td><td>Preprocessor1_Model07</td></tr>\n",
       "\t<tr><td>5</td><td>  70</td><td>45</td><td>sens</td><td>binary</td><td>0.7636153</td><td>5</td><td>0.007668780</td><td>Preprocessor1_Model01</td></tr>\n",
       "\t<tr><td>5</td><td> 325</td><td>33</td><td>sens</td><td>binary</td><td>0.7603708</td><td>5</td><td>0.008431040</td><td>Preprocessor1_Model08</td></tr>\n",
       "\t<tr><td>5</td><td>1904</td><td>41</td><td>sens</td><td>binary</td><td>0.7594438</td><td>5</td><td>0.008652679</td><td>Preprocessor1_Model09</td></tr>\n",
       "\t<tr><td>5</td><td>1441</td><td>37</td><td>sens</td><td>binary</td><td>0.7578216</td><td>5</td><td>0.009470599</td><td>Preprocessor1_Model10</td></tr>\n",
       "\t<tr><td>4</td><td>1370</td><td>39</td><td>sens</td><td>binary</td><td>0.7550406</td><td>5</td><td>0.009317664</td><td>Preprocessor1_Model06</td></tr>\n",
       "</tbody>\n",
       "</table>\n"
      ],
      "text/latex": [
       "A tibble: 10 × 9\n",
       "\\begin{tabular}{lllllllll}\n",
       " mtry & trees & min\\_n & .metric & .estimator & mean & n & std\\_err & .config\\\\\n",
       " <int> & <int> & <int> & <chr> & <chr> & <dbl> & <int> & <dbl> & <chr>\\\\\n",
       "\\hline\n",
       "\t 7 &  773 & 32 & sens & binary & 0.7726535 & 5 & 0.011337986 & Preprocessor1\\_Model05\\\\\n",
       "\t 6 & 1124 & 48 & sens & binary & 0.7712630 & 5 & 0.010132261 & Preprocessor1\\_Model04\\\\\n",
       "\t 6 & 1737 & 48 & sens & binary & 0.7687138 & 5 & 0.011527073 & Preprocessor1\\_Model03\\\\\n",
       "\t 6 &  467 & 34 & sens & binary & 0.7684820 & 5 & 0.009251140 & Preprocessor1\\_Model02\\\\\n",
       "\t 6 &  950 & 42 & sens & binary & 0.7682503 & 5 & 0.010626426 & Preprocessor1\\_Model07\\\\\n",
       "\t 5 &   70 & 45 & sens & binary & 0.7636153 & 5 & 0.007668780 & Preprocessor1\\_Model01\\\\\n",
       "\t 5 &  325 & 33 & sens & binary & 0.7603708 & 5 & 0.008431040 & Preprocessor1\\_Model08\\\\\n",
       "\t 5 & 1904 & 41 & sens & binary & 0.7594438 & 5 & 0.008652679 & Preprocessor1\\_Model09\\\\\n",
       "\t 5 & 1441 & 37 & sens & binary & 0.7578216 & 5 & 0.009470599 & Preprocessor1\\_Model10\\\\\n",
       "\t 4 & 1370 & 39 & sens & binary & 0.7550406 & 5 & 0.009317664 & Preprocessor1\\_Model06\\\\\n",
       "\\end{tabular}\n"
      ],
      "text/markdown": [
       "\n",
       "A tibble: 10 × 9\n",
       "\n",
       "| mtry &lt;int&gt; | trees &lt;int&gt; | min_n &lt;int&gt; | .metric &lt;chr&gt; | .estimator &lt;chr&gt; | mean &lt;dbl&gt; | n &lt;int&gt; | std_err &lt;dbl&gt; | .config &lt;chr&gt; |\n",
       "|---|---|---|---|---|---|---|---|---|\n",
       "| 7 |  773 | 32 | sens | binary | 0.7726535 | 5 | 0.011337986 | Preprocessor1_Model05 |\n",
       "| 6 | 1124 | 48 | sens | binary | 0.7712630 | 5 | 0.010132261 | Preprocessor1_Model04 |\n",
       "| 6 | 1737 | 48 | sens | binary | 0.7687138 | 5 | 0.011527073 | Preprocessor1_Model03 |\n",
       "| 6 |  467 | 34 | sens | binary | 0.7684820 | 5 | 0.009251140 | Preprocessor1_Model02 |\n",
       "| 6 |  950 | 42 | sens | binary | 0.7682503 | 5 | 0.010626426 | Preprocessor1_Model07 |\n",
       "| 5 |   70 | 45 | sens | binary | 0.7636153 | 5 | 0.007668780 | Preprocessor1_Model01 |\n",
       "| 5 |  325 | 33 | sens | binary | 0.7603708 | 5 | 0.008431040 | Preprocessor1_Model08 |\n",
       "| 5 | 1904 | 41 | sens | binary | 0.7594438 | 5 | 0.008652679 | Preprocessor1_Model09 |\n",
       "| 5 | 1441 | 37 | sens | binary | 0.7578216 | 5 | 0.009470599 | Preprocessor1_Model10 |\n",
       "| 4 | 1370 | 39 | sens | binary | 0.7550406 | 5 | 0.009317664 | Preprocessor1_Model06 |\n",
       "\n"
      ],
      "text/plain": [
       "   mtry trees min_n .metric .estimator mean      n std_err    \n",
       "1  7     773  32    sens    binary     0.7726535 5 0.011337986\n",
       "2  6    1124  48    sens    binary     0.7712630 5 0.010132261\n",
       "3  6    1737  48    sens    binary     0.7687138 5 0.011527073\n",
       "4  6     467  34    sens    binary     0.7684820 5 0.009251140\n",
       "5  6     950  42    sens    binary     0.7682503 5 0.010626426\n",
       "6  5      70  45    sens    binary     0.7636153 5 0.007668780\n",
       "7  5     325  33    sens    binary     0.7603708 5 0.008431040\n",
       "8  5    1904  41    sens    binary     0.7594438 5 0.008652679\n",
       "9  5    1441  37    sens    binary     0.7578216 5 0.009470599\n",
       "10 4    1370  39    sens    binary     0.7550406 5 0.009317664\n",
       "   .config              \n",
       "1  Preprocessor1_Model05\n",
       "2  Preprocessor1_Model04\n",
       "3  Preprocessor1_Model03\n",
       "4  Preprocessor1_Model02\n",
       "5  Preprocessor1_Model07\n",
       "6  Preprocessor1_Model01\n",
       "7  Preprocessor1_Model08\n",
       "8  Preprocessor1_Model09\n",
       "9  Preprocessor1_Model10\n",
       "10 Preprocessor1_Model06"
      ]
     },
     "metadata": {},
     "output_type": "display_data"
    }
   ],
   "source": [
    "# for sens\n",
    "show_best(rf_tuned, metric = 'sens', n = 10)"
   ]
  },
  {
   "cell_type": "code",
   "execution_count": 40,
   "id": "74887482",
   "metadata": {
    "execution": {
     "iopub.execute_input": "2023-02-14T20:51:25.145092Z",
     "iopub.status.busy": "2023-02-14T20:51:25.143491Z",
     "iopub.status.idle": "2023-02-14T20:51:25.231499Z",
     "shell.execute_reply": "2023-02-14T20:51:25.229790Z"
    },
    "papermill": {
     "duration": 0.124902,
     "end_time": "2023-02-14T20:51:25.233949",
     "exception": false,
     "start_time": "2023-02-14T20:51:25.109047",
     "status": "completed"
    },
    "tags": []
   },
   "outputs": [
    {
     "data": {
      "text/html": [
       "<table class=\"dataframe\">\n",
       "<caption>A tibble: 10 × 9</caption>\n",
       "<thead>\n",
       "\t<tr><th scope=col>mtry</th><th scope=col>trees</th><th scope=col>min_n</th><th scope=col>.metric</th><th scope=col>.estimator</th><th scope=col>mean</th><th scope=col>n</th><th scope=col>std_err</th><th scope=col>.config</th></tr>\n",
       "\t<tr><th scope=col>&lt;int&gt;</th><th scope=col>&lt;int&gt;</th><th scope=col>&lt;int&gt;</th><th scope=col>&lt;chr&gt;</th><th scope=col>&lt;chr&gt;</th><th scope=col>&lt;dbl&gt;</th><th scope=col>&lt;int&gt;</th><th scope=col>&lt;dbl&gt;</th><th scope=col>&lt;chr&gt;</th></tr>\n",
       "</thead>\n",
       "<tbody>\n",
       "\t<tr><td>4</td><td>1370</td><td>39</td><td>bal_accuracy</td><td>binary</td><td>0.7973452</td><td>5</td><td>0.007112095</td><td>Preprocessor1_Model06</td></tr>\n",
       "\t<tr><td>5</td><td>  70</td><td>45</td><td>bal_accuracy</td><td>binary</td><td>0.7963769</td><td>5</td><td>0.006137511</td><td>Preprocessor1_Model01</td></tr>\n",
       "\t<tr><td>5</td><td>1904</td><td>41</td><td>bal_accuracy</td><td>binary</td><td>0.7963490</td><td>5</td><td>0.007100857</td><td>Preprocessor1_Model09</td></tr>\n",
       "\t<tr><td>5</td><td> 325</td><td>33</td><td>bal_accuracy</td><td>binary</td><td>0.7953270</td><td>5</td><td>0.006735831</td><td>Preprocessor1_Model08</td></tr>\n",
       "\t<tr><td>5</td><td>1441</td><td>37</td><td>bal_accuracy</td><td>binary</td><td>0.7953089</td><td>5</td><td>0.007523482</td><td>Preprocessor1_Model10</td></tr>\n",
       "\t<tr><td>6</td><td> 467</td><td>34</td><td>bal_accuracy</td><td>binary</td><td>0.7942426</td><td>5</td><td>0.007712339</td><td>Preprocessor1_Model02</td></tr>\n",
       "\t<tr><td>6</td><td>1124</td><td>48</td><td>bal_accuracy</td><td>binary</td><td>0.7939192</td><td>5</td><td>0.006994401</td><td>Preprocessor1_Model04</td></tr>\n",
       "\t<tr><td>6</td><td>1737</td><td>48</td><td>bal_accuracy</td><td>binary</td><td>0.7935583</td><td>5</td><td>0.007110418</td><td>Preprocessor1_Model03</td></tr>\n",
       "\t<tr><td>7</td><td> 773</td><td>32</td><td>bal_accuracy</td><td>binary</td><td>0.7926741</td><td>5</td><td>0.007819895</td><td>Preprocessor1_Model05</td></tr>\n",
       "\t<tr><td>6</td><td> 950</td><td>42</td><td>bal_accuracy</td><td>binary</td><td>0.7925272</td><td>5</td><td>0.006975307</td><td>Preprocessor1_Model07</td></tr>\n",
       "</tbody>\n",
       "</table>\n"
      ],
      "text/latex": [
       "A tibble: 10 × 9\n",
       "\\begin{tabular}{lllllllll}\n",
       " mtry & trees & min\\_n & .metric & .estimator & mean & n & std\\_err & .config\\\\\n",
       " <int> & <int> & <int> & <chr> & <chr> & <dbl> & <int> & <dbl> & <chr>\\\\\n",
       "\\hline\n",
       "\t 4 & 1370 & 39 & bal\\_accuracy & binary & 0.7973452 & 5 & 0.007112095 & Preprocessor1\\_Model06\\\\\n",
       "\t 5 &   70 & 45 & bal\\_accuracy & binary & 0.7963769 & 5 & 0.006137511 & Preprocessor1\\_Model01\\\\\n",
       "\t 5 & 1904 & 41 & bal\\_accuracy & binary & 0.7963490 & 5 & 0.007100857 & Preprocessor1\\_Model09\\\\\n",
       "\t 5 &  325 & 33 & bal\\_accuracy & binary & 0.7953270 & 5 & 0.006735831 & Preprocessor1\\_Model08\\\\\n",
       "\t 5 & 1441 & 37 & bal\\_accuracy & binary & 0.7953089 & 5 & 0.007523482 & Preprocessor1\\_Model10\\\\\n",
       "\t 6 &  467 & 34 & bal\\_accuracy & binary & 0.7942426 & 5 & 0.007712339 & Preprocessor1\\_Model02\\\\\n",
       "\t 6 & 1124 & 48 & bal\\_accuracy & binary & 0.7939192 & 5 & 0.006994401 & Preprocessor1\\_Model04\\\\\n",
       "\t 6 & 1737 & 48 & bal\\_accuracy & binary & 0.7935583 & 5 & 0.007110418 & Preprocessor1\\_Model03\\\\\n",
       "\t 7 &  773 & 32 & bal\\_accuracy & binary & 0.7926741 & 5 & 0.007819895 & Preprocessor1\\_Model05\\\\\n",
       "\t 6 &  950 & 42 & bal\\_accuracy & binary & 0.7925272 & 5 & 0.006975307 & Preprocessor1\\_Model07\\\\\n",
       "\\end{tabular}\n"
      ],
      "text/markdown": [
       "\n",
       "A tibble: 10 × 9\n",
       "\n",
       "| mtry &lt;int&gt; | trees &lt;int&gt; | min_n &lt;int&gt; | .metric &lt;chr&gt; | .estimator &lt;chr&gt; | mean &lt;dbl&gt; | n &lt;int&gt; | std_err &lt;dbl&gt; | .config &lt;chr&gt; |\n",
       "|---|---|---|---|---|---|---|---|---|\n",
       "| 4 | 1370 | 39 | bal_accuracy | binary | 0.7973452 | 5 | 0.007112095 | Preprocessor1_Model06 |\n",
       "| 5 |   70 | 45 | bal_accuracy | binary | 0.7963769 | 5 | 0.006137511 | Preprocessor1_Model01 |\n",
       "| 5 | 1904 | 41 | bal_accuracy | binary | 0.7963490 | 5 | 0.007100857 | Preprocessor1_Model09 |\n",
       "| 5 |  325 | 33 | bal_accuracy | binary | 0.7953270 | 5 | 0.006735831 | Preprocessor1_Model08 |\n",
       "| 5 | 1441 | 37 | bal_accuracy | binary | 0.7953089 | 5 | 0.007523482 | Preprocessor1_Model10 |\n",
       "| 6 |  467 | 34 | bal_accuracy | binary | 0.7942426 | 5 | 0.007712339 | Preprocessor1_Model02 |\n",
       "| 6 | 1124 | 48 | bal_accuracy | binary | 0.7939192 | 5 | 0.006994401 | Preprocessor1_Model04 |\n",
       "| 6 | 1737 | 48 | bal_accuracy | binary | 0.7935583 | 5 | 0.007110418 | Preprocessor1_Model03 |\n",
       "| 7 |  773 | 32 | bal_accuracy | binary | 0.7926741 | 5 | 0.007819895 | Preprocessor1_Model05 |\n",
       "| 6 |  950 | 42 | bal_accuracy | binary | 0.7925272 | 5 | 0.006975307 | Preprocessor1_Model07 |\n",
       "\n"
      ],
      "text/plain": [
       "   mtry trees min_n .metric      .estimator mean      n std_err    \n",
       "1  4    1370  39    bal_accuracy binary     0.7973452 5 0.007112095\n",
       "2  5      70  45    bal_accuracy binary     0.7963769 5 0.006137511\n",
       "3  5    1904  41    bal_accuracy binary     0.7963490 5 0.007100857\n",
       "4  5     325  33    bal_accuracy binary     0.7953270 5 0.006735831\n",
       "5  5    1441  37    bal_accuracy binary     0.7953089 5 0.007523482\n",
       "6  6     467  34    bal_accuracy binary     0.7942426 5 0.007712339\n",
       "7  6    1124  48    bal_accuracy binary     0.7939192 5 0.006994401\n",
       "8  6    1737  48    bal_accuracy binary     0.7935583 5 0.007110418\n",
       "9  7     773  32    bal_accuracy binary     0.7926741 5 0.007819895\n",
       "10 6     950  42    bal_accuracy binary     0.7925272 5 0.006975307\n",
       "   .config              \n",
       "1  Preprocessor1_Model06\n",
       "2  Preprocessor1_Model01\n",
       "3  Preprocessor1_Model09\n",
       "4  Preprocessor1_Model08\n",
       "5  Preprocessor1_Model10\n",
       "6  Preprocessor1_Model02\n",
       "7  Preprocessor1_Model04\n",
       "8  Preprocessor1_Model03\n",
       "9  Preprocessor1_Model05\n",
       "10 Preprocessor1_Model07"
      ]
     },
     "metadata": {},
     "output_type": "display_data"
    }
   ],
   "source": [
    "# for bal accuracy\n",
    "show_best(rf_tuned, metric = 'bal_accuracy', n = 10)"
   ]
  },
  {
   "cell_type": "markdown",
   "id": "aa67d2d7",
   "metadata": {
    "papermill": {
     "duration": 0.028787,
     "end_time": "2023-02-14T20:51:25.296067",
     "exception": false,
     "start_time": "2023-02-14T20:51:25.267280",
     "status": "completed"
    },
    "tags": []
   },
   "source": [
    "> The results are very similar, bal accuracy is chosen by higher mean"
   ]
  },
  {
   "cell_type": "code",
   "execution_count": 41,
   "id": "89668748",
   "metadata": {
    "execution": {
     "iopub.execute_input": "2023-02-14T20:51:25.365031Z",
     "iopub.status.busy": "2023-02-14T20:51:25.363551Z",
     "iopub.status.idle": "2023-02-14T20:51:40.960555Z",
     "shell.execute_reply": "2023-02-14T20:51:40.958765Z"
    },
    "papermill": {
     "duration": 15.637752,
     "end_time": "2023-02-14T20:51:40.963349",
     "exception": false,
     "start_time": "2023-02-14T20:51:25.325597",
     "status": "completed"
    },
    "tags": []
   },
   "outputs": [],
   "source": [
    "# Using bal accuracy\n",
    "rf_pars_fin <- select_best(rf_tuned, metric = 'bal_accuracy')\n",
    "# Finishing the workflow\n",
    "rf_wflow_fin <- rf_wflow %>% finalize_workflow(rf_pars_fin)\n",
    "rf_fitted <- fit(rf_wflow_fin, train)"
   ]
  },
  {
   "cell_type": "code",
   "execution_count": 42,
   "id": "6f9d70fa",
   "metadata": {
    "execution": {
     "iopub.execute_input": "2023-02-14T20:51:41.024356Z",
     "iopub.status.busy": "2023-02-14T20:51:41.022717Z",
     "iopub.status.idle": "2023-02-14T20:51:41.042260Z",
     "shell.execute_reply": "2023-02-14T20:51:41.040352Z"
    },
    "papermill": {
     "duration": 0.052266,
     "end_time": "2023-02-14T20:51:41.044693",
     "exception": false,
     "start_time": "2023-02-14T20:51:40.992427",
     "status": "completed"
    },
    "tags": []
   },
   "outputs": [
    {
     "data": {
      "text/plain": [
       "parsnip model object\n",
       "\n",
       "Ranger result\n",
       "\n",
       "Call:\n",
       " ranger::ranger(x = maybe_data_frame(x), y = y, mtry = min_cols(~4L,      x), num.trees = ~1370L, min.node.size = min_rows(~39L, x),      importance = ~\"impurity\", num.threads = 1, verbose = FALSE,      seed = sample.int(10^5, 1), probability = TRUE) \n",
       "\n",
       "Type:                             Probability estimation \n",
       "Number of trees:                  1370 \n",
       "Sample size:                      8756 \n",
       "Number of independent variables:  12 \n",
       "Mtry:                             4 \n",
       "Target node size:                 39 \n",
       "Variable importance mode:         impurity \n",
       "Splitrule:                        gini \n",
       "OOB prediction error (Brier s.):  0.1242705 "
      ]
     },
     "metadata": {},
     "output_type": "display_data"
    }
   ],
   "source": [
    "rf_model_fin <- extract_fit_parsnip(rf_fitted)\n",
    "rf_model_fin"
   ]
  },
  {
   "cell_type": "code",
   "execution_count": 43,
   "id": "7f631521",
   "metadata": {
    "execution": {
     "iopub.execute_input": "2023-02-14T20:51:41.106190Z",
     "iopub.status.busy": "2023-02-14T20:51:41.104486Z",
     "iopub.status.idle": "2023-02-14T20:51:41.341644Z",
     "shell.execute_reply": "2023-02-14T20:51:41.339791Z"
    },
    "papermill": {
     "duration": 0.270906,
     "end_time": "2023-02-14T20:51:41.344103",
     "exception": false,
     "start_time": "2023-02-14T20:51:41.073197",
     "status": "completed"
    },
    "tags": []
   },
   "outputs": [
    {
     "data": {
      "image/png": "[encoded data removed]"
     },
     "metadata": {
      "image/png": {
       "height": 420,
       "width": 420
      }
     },
     "output_type": "display_data"
    }
   ],
   "source": [
    "# Important attributes\n",
    "vip(rf_model_fin)"
   ]
  },
  {
   "cell_type": "markdown",
   "id": "a4818613",
   "metadata": {
    "papermill": {
     "duration": 0.029417,
     "end_time": "2023-02-14T20:51:41.404069",
     "exception": false,
     "start_time": "2023-02-14T20:51:41.374652",
     "status": "completed"
    },
    "tags": []
   },
   "source": [
    "> The most important attributes"
   ]
  },
  {
   "cell_type": "code",
   "execution_count": 44,
   "id": "a32c529a",
   "metadata": {
    "execution": {
     "iopub.execute_input": "2023-02-14T20:51:41.465853Z",
     "iopub.status.busy": "2023-02-14T20:51:41.464261Z",
     "iopub.status.idle": "2023-02-14T20:51:43.493162Z",
     "shell.execute_reply": "2023-02-14T20:51:43.491478Z"
    },
    "papermill": {
     "duration": 2.062529,
     "end_time": "2023-02-14T20:51:43.495553",
     "exception": false,
     "start_time": "2023-02-14T20:51:41.433024",
     "status": "completed"
    },
    "tags": []
   },
   "outputs": [
    {
     "data": {
      "text/html": [
       "<table class=\"dataframe\">\n",
       "<caption>A tibble: 13 × 3</caption>\n",
       "<thead>\n",
       "\t<tr><th scope=col>.metric</th><th scope=col>.estimator</th><th scope=col>.estimate</th></tr>\n",
       "\t<tr><th scope=col>&lt;chr&gt;</th><th scope=col>&lt;chr&gt;</th><th scope=col>&lt;dbl&gt;</th></tr>\n",
       "</thead>\n",
       "<tbody>\n",
       "\t<tr><td>accuracy            </td><td>binary</td><td>0.8390659</td></tr>\n",
       "\t<tr><td>kap                 </td><td>binary</td><td>0.6778877</td></tr>\n",
       "\t<tr><td>sens                </td><td>binary</td><td>0.7888760</td></tr>\n",
       "\t<tr><td>spec                </td><td>binary</td><td>0.8885336</td></tr>\n",
       "\t<tr><td>ppv                 </td><td>binary</td><td>0.8746146</td></tr>\n",
       "\t<tr><td>npv                 </td><td>binary</td><td>0.8102479</td></tr>\n",
       "\t<tr><td>mcc                 </td><td>binary</td><td>0.6811258</td></tr>\n",
       "\t<tr><td>j_index             </td><td>binary</td><td>0.6774096</td></tr>\n",
       "\t<tr><td>bal_accuracy        </td><td>binary</td><td>0.8387048</td></tr>\n",
       "\t<tr><td>detection_prevalence</td><td>binary</td><td>0.4477166</td></tr>\n",
       "\t<tr><td>precision           </td><td>binary</td><td>0.8746146</td></tr>\n",
       "\t<tr><td>recall              </td><td>binary</td><td>0.7888760</td></tr>\n",
       "\t<tr><td>f_meas              </td><td>binary</td><td>0.8295358</td></tr>\n",
       "</tbody>\n",
       "</table>\n"
      ],
      "text/latex": [
       "A tibble: 13 × 3\n",
       "\\begin{tabular}{lll}\n",
       " .metric & .estimator & .estimate\\\\\n",
       " <chr> & <chr> & <dbl>\\\\\n",
       "\\hline\n",
       "\t accuracy             & binary & 0.8390659\\\\\n",
       "\t kap                  & binary & 0.6778877\\\\\n",
       "\t sens                 & binary & 0.7888760\\\\\n",
       "\t spec                 & binary & 0.8885336\\\\\n",
       "\t ppv                  & binary & 0.8746146\\\\\n",
       "\t npv                  & binary & 0.8102479\\\\\n",
       "\t mcc                  & binary & 0.6811258\\\\\n",
       "\t j\\_index              & binary & 0.6774096\\\\\n",
       "\t bal\\_accuracy         & binary & 0.8387048\\\\\n",
       "\t detection\\_prevalence & binary & 0.4477166\\\\\n",
       "\t precision            & binary & 0.8746146\\\\\n",
       "\t recall               & binary & 0.7888760\\\\\n",
       "\t f\\_meas               & binary & 0.8295358\\\\\n",
       "\\end{tabular}\n"
      ],
      "text/markdown": [
       "\n",
       "A tibble: 13 × 3\n",
       "\n",
       "| .metric &lt;chr&gt; | .estimator &lt;chr&gt; | .estimate &lt;dbl&gt; |\n",
       "|---|---|---|\n",
       "| accuracy             | binary | 0.8390659 |\n",
       "| kap                  | binary | 0.6778877 |\n",
       "| sens                 | binary | 0.7888760 |\n",
       "| spec                 | binary | 0.8885336 |\n",
       "| ppv                  | binary | 0.8746146 |\n",
       "| npv                  | binary | 0.8102479 |\n",
       "| mcc                  | binary | 0.6811258 |\n",
       "| j_index              | binary | 0.6774096 |\n",
       "| bal_accuracy         | binary | 0.8387048 |\n",
       "| detection_prevalence | binary | 0.4477166 |\n",
       "| precision            | binary | 0.8746146 |\n",
       "| recall               | binary | 0.7888760 |\n",
       "| f_meas               | binary | 0.8295358 |\n",
       "\n"
      ],
      "text/plain": [
       "   .metric              .estimator .estimate\n",
       "1  accuracy             binary     0.8390659\n",
       "2  kap                  binary     0.6778877\n",
       "3  sens                 binary     0.7888760\n",
       "4  spec                 binary     0.8885336\n",
       "5  ppv                  binary     0.8746146\n",
       "6  npv                  binary     0.8102479\n",
       "7  mcc                  binary     0.6811258\n",
       "8  j_index              binary     0.6774096\n",
       "9  bal_accuracy         binary     0.8387048\n",
       "10 detection_prevalence binary     0.4477166\n",
       "11 precision            binary     0.8746146\n",
       "12 recall               binary     0.7888760\n",
       "13 f_meas               binary     0.8295358"
      ]
     },
     "metadata": {},
     "output_type": "display_data"
    }
   ],
   "source": [
    "# values of the metrics in train\n",
    "train %>%\n",
    "    predict(rf_fitted, new_data = . ) %>%\n",
    "    mutate(Real= train$Transported) %>%\n",
    "    conf_mat(truth = Real, estimate = .pred_class ) %>%\n",
    "    summary"
   ]
  },
  {
   "cell_type": "markdown",
   "id": "a67e1b03",
   "metadata": {
    "papermill": {
     "duration": 0.030671,
     "end_time": "2023-02-14T20:51:43.555692",
     "exception": false,
     "start_time": "2023-02-14T20:51:43.525021",
     "status": "completed"
    },
    "tags": []
   },
   "source": [
    ">  **Accuracy**=**0.8389509**"
   ]
  },
  {
   "cell_type": "markdown",
   "id": "98b16584",
   "metadata": {
    "papermill": {
     "duration": 0.029531,
     "end_time": "2023-02-14T20:51:43.614688",
     "exception": false,
     "start_time": "2023-02-14T20:51:43.585157",
     "status": "completed"
    },
    "tags": []
   },
   "source": [
    "# 5. TESTING"
   ]
  },
  {
   "cell_type": "markdown",
   "id": "e8f299ed",
   "metadata": {
    "papermill": {
     "duration": 0.029684,
     "end_time": "2023-02-14T20:51:43.673772",
     "exception": false,
     "start_time": "2023-02-14T20:51:43.644088",
     "status": "completed"
    },
    "tags": []
   },
   "source": [
    "## Loading Dataset and Pre-processing of data"
   ]
  },
  {
   "cell_type": "code",
   "execution_count": 45,
   "id": "f1894586",
   "metadata": {
    "_cell_guid": "eadf9bb0-6ab8-44f8-a05b-b515f00fc335",
    "_uuid": "9ac7b193-59a1-4aa2-a7f5-1f9bcd56f12d",
    "collapsed": false,
    "execution": {
     "iopub.execute_input": "2023-02-14T20:51:43.736405Z",
     "iopub.status.busy": "2023-02-14T20:51:43.734735Z",
     "iopub.status.idle": "2023-02-14T20:51:43.821084Z",
     "shell.execute_reply": "2023-02-14T20:51:43.819336Z"
    },
    "jupyter": {
     "outputs_hidden": false
    },
    "papermill": {
     "duration": 0.120213,
     "end_time": "2023-02-14T20:51:43.823422",
     "exception": false,
     "start_time": "2023-02-14T20:51:43.703209",
     "status": "completed"
    },
    "tags": []
   },
   "outputs": [
    {
     "data": {
      "text/html": [
       "<table class=\"dataframe\">\n",
       "<caption>A tibble: 6 × 13</caption>\n",
       "<thead>\n",
       "\t<tr><th scope=col>PassengerId</th><th scope=col>HomePlanet</th><th scope=col>CryoSleep</th><th scope=col>Cabin</th><th scope=col>Destination</th><th scope=col>Age</th><th scope=col>VIP</th><th scope=col>RoomService</th><th scope=col>FoodCourt</th><th scope=col>ShoppingMall</th><th scope=col>Spa</th><th scope=col>VRDeck</th><th scope=col>Name</th></tr>\n",
       "\t<tr><th scope=col>&lt;chr&gt;</th><th scope=col>&lt;chr&gt;</th><th scope=col>&lt;lgl&gt;</th><th scope=col>&lt;chr&gt;</th><th scope=col>&lt;chr&gt;</th><th scope=col>&lt;dbl&gt;</th><th scope=col>&lt;lgl&gt;</th><th scope=col>&lt;dbl&gt;</th><th scope=col>&lt;dbl&gt;</th><th scope=col>&lt;dbl&gt;</th><th scope=col>&lt;dbl&gt;</th><th scope=col>&lt;dbl&gt;</th><th scope=col>&lt;chr&gt;</th></tr>\n",
       "</thead>\n",
       "<tbody>\n",
       "\t<tr><td>0013_01</td><td>Earth </td><td> TRUE</td><td>G/3/S</td><td>TRAPPIST-1e</td><td>27</td><td>FALSE</td><td> 0</td><td>   0</td><td>  0</td><td>   0</td><td>  0</td><td>Nelly Carsoning </td></tr>\n",
       "\t<tr><td>0018_01</td><td>Earth </td><td>FALSE</td><td>F/4/S</td><td>TRAPPIST-1e</td><td>19</td><td>FALSE</td><td> 0</td><td>   9</td><td>  0</td><td>2823</td><td>  0</td><td>Lerome Peckers  </td></tr>\n",
       "\t<tr><td>0019_01</td><td>Europa</td><td> TRUE</td><td>C/0/S</td><td>55 Cancri e</td><td>31</td><td>FALSE</td><td> 0</td><td>   0</td><td>  0</td><td>   0</td><td>  0</td><td>Sabih Unhearfus </td></tr>\n",
       "\t<tr><td>0021_01</td><td>Europa</td><td>FALSE</td><td>C/1/S</td><td>TRAPPIST-1e</td><td>38</td><td>FALSE</td><td> 0</td><td>6652</td><td>  0</td><td> 181</td><td>585</td><td>Meratz Caltilter</td></tr>\n",
       "\t<tr><td>0023_01</td><td>Earth </td><td>FALSE</td><td>F/5/S</td><td>TRAPPIST-1e</td><td>20</td><td>FALSE</td><td>10</td><td>   0</td><td>635</td><td>   0</td><td>  0</td><td>Brence Harperez </td></tr>\n",
       "\t<tr><td>0027_01</td><td>Earth </td><td>FALSE</td><td>F/7/P</td><td>TRAPPIST-1e</td><td>31</td><td>FALSE</td><td> 0</td><td>1615</td><td>263</td><td> 113</td><td> 60</td><td>Karlen Ricks    </td></tr>\n",
       "</tbody>\n",
       "</table>\n"
      ],
      "text/latex": [
       "A tibble: 6 × 13\n",
       "\\begin{tabular}{lllllllllllll}\n",
       " PassengerId & HomePlanet & CryoSleep & Cabin & Destination & Age & VIP & RoomService & FoodCourt & ShoppingMall & Spa & VRDeck & Name\\\\\n",
       " <chr> & <chr> & <lgl> & <chr> & <chr> & <dbl> & <lgl> & <dbl> & <dbl> & <dbl> & <dbl> & <dbl> & <chr>\\\\\n",
       "\\hline\n",
       "\t 0013\\_01 & Earth  &  TRUE & G/3/S & TRAPPIST-1e & 27 & FALSE &  0 &    0 &   0 &    0 &   0 & Nelly Carsoning \\\\\n",
       "\t 0018\\_01 & Earth  & FALSE & F/4/S & TRAPPIST-1e & 19 & FALSE &  0 &    9 &   0 & 2823 &   0 & Lerome Peckers  \\\\\n",
       "\t 0019\\_01 & Europa &  TRUE & C/0/S & 55 Cancri e & 31 & FALSE &  0 &    0 &   0 &    0 &   0 & Sabih Unhearfus \\\\\n",
       "\t 0021\\_01 & Europa & FALSE & C/1/S & TRAPPIST-1e & 38 & FALSE &  0 & 6652 &   0 &  181 & 585 & Meratz Caltilter\\\\\n",
       "\t 0023\\_01 & Earth  & FALSE & F/5/S & TRAPPIST-1e & 20 & FALSE & 10 &    0 & 635 &    0 &   0 & Brence Harperez \\\\\n",
       "\t 0027\\_01 & Earth  & FALSE & F/7/P & TRAPPIST-1e & 31 & FALSE &  0 & 1615 & 263 &  113 &  60 & Karlen Ricks    \\\\\n",
       "\\end{tabular}\n"
      ],
      "text/markdown": [
       "\n",
       "A tibble: 6 × 13\n",
       "\n",
       "| PassengerId &lt;chr&gt; | HomePlanet &lt;chr&gt; | CryoSleep &lt;lgl&gt; | Cabin &lt;chr&gt; | Destination &lt;chr&gt; | Age &lt;dbl&gt; | VIP &lt;lgl&gt; | RoomService &lt;dbl&gt; | FoodCourt &lt;dbl&gt; | ShoppingMall &lt;dbl&gt; | Spa &lt;dbl&gt; | VRDeck &lt;dbl&gt; | Name &lt;chr&gt; |\n",
       "|---|---|---|---|---|---|---|---|---|---|---|---|---|\n",
       "| 0013_01 | Earth  |  TRUE | G/3/S | TRAPPIST-1e | 27 | FALSE |  0 |    0 |   0 |    0 |   0 | Nelly Carsoning  |\n",
       "| 0018_01 | Earth  | FALSE | F/4/S | TRAPPIST-1e | 19 | FALSE |  0 |    9 |   0 | 2823 |   0 | Lerome Peckers   |\n",
       "| 0019_01 | Europa |  TRUE | C/0/S | 55 Cancri e | 31 | FALSE |  0 |    0 |   0 |    0 |   0 | Sabih Unhearfus  |\n",
       "| 0021_01 | Europa | FALSE | C/1/S | TRAPPIST-1e | 38 | FALSE |  0 | 6652 |   0 |  181 | 585 | Meratz Caltilter |\n",
       "| 0023_01 | Earth  | FALSE | F/5/S | TRAPPIST-1e | 20 | FALSE | 10 |    0 | 635 |    0 |   0 | Brence Harperez  |\n",
       "| 0027_01 | Earth  | FALSE | F/7/P | TRAPPIST-1e | 31 | FALSE |  0 | 1615 | 263 |  113 |  60 | Karlen Ricks     |\n",
       "\n"
      ],
      "text/plain": [
       "  PassengerId HomePlanet CryoSleep Cabin Destination Age VIP   RoomService\n",
       "1 0013_01     Earth       TRUE     G/3/S TRAPPIST-1e 27  FALSE  0         \n",
       "2 0018_01     Earth      FALSE     F/4/S TRAPPIST-1e 19  FALSE  0         \n",
       "3 0019_01     Europa      TRUE     C/0/S 55 Cancri e 31  FALSE  0         \n",
       "4 0021_01     Europa     FALSE     C/1/S TRAPPIST-1e 38  FALSE  0         \n",
       "5 0023_01     Earth      FALSE     F/5/S TRAPPIST-1e 20  FALSE 10         \n",
       "6 0027_01     Earth      FALSE     F/7/P TRAPPIST-1e 31  FALSE  0         \n",
       "  FoodCourt ShoppingMall Spa  VRDeck Name            \n",
       "1    0        0             0   0    Nelly Carsoning \n",
       "2    9        0          2823   0    Lerome Peckers  \n",
       "3    0        0             0   0    Sabih Unhearfus \n",
       "4 6652        0           181 585    Meratz Caltilter\n",
       "5    0      635             0   0    Brence Harperez \n",
       "6 1615      263           113  60    Karlen Ricks    "
      ]
     },
     "metadata": {},
     "output_type": "display_data"
    }
   ],
   "source": [
    "# Test data\n",
    "test <- read_csv(\"/kaggle/input/spaceship-titanic/test.csv\",show_col_types = FALSE)\n",
    "head(test)"
   ]
  },
  {
   "cell_type": "code",
   "execution_count": 46,
   "id": "8c4e1475",
   "metadata": {
    "execution": {
     "iopub.execute_input": "2023-02-14T20:51:43.885974Z",
     "iopub.status.busy": "2023-02-14T20:51:43.884472Z",
     "iopub.status.idle": "2023-02-14T20:51:43.906489Z",
     "shell.execute_reply": "2023-02-14T20:51:43.904860Z"
    },
    "papermill": {
     "duration": 0.055583,
     "end_time": "2023-02-14T20:51:43.908754",
     "exception": false,
     "start_time": "2023-02-14T20:51:43.853171",
     "status": "completed"
    },
    "tags": []
   },
   "outputs": [
    {
     "name": "stdout",
     "output_type": "stream",
     "text": [
      "       variable q_zeros p_zeros q_na p_na q_inf p_inf      type unique\n",
      "1   PassengerId       0    0.00    0 0.00     0     0 character   4277\n",
      "2    HomePlanet       0    0.00   87 2.03     0     0 character      3\n",
      "3     CryoSleep    2640   61.73   93 2.17     0     0   logical      2\n",
      "4         Cabin       0    0.00  100 2.34     0     0 character   3265\n",
      "5   Destination       0    0.00   92 2.15     0     0 character      3\n",
      "6           Age      82    1.92   91 2.13     0     0   numeric     79\n",
      "7           VIP    4110   96.10   93 2.17     0     0   logical      2\n",
      "8   RoomService    2726   63.74   82 1.92     0     0   numeric    842\n",
      "9     FoodCourt    2690   62.89  106 2.48     0     0   numeric    902\n",
      "10 ShoppingMall    2744   64.16   98 2.29     0     0   numeric    715\n",
      "11          Spa    2611   61.05  101 2.36     0     0   numeric    833\n",
      "12       VRDeck    2757   64.46   80 1.87     0     0   numeric    796\n",
      "13         Name       0    0.00   94 2.20     0     0 character   4176\n"
     ]
    }
   ],
   "source": [
    "# Information about the test\n",
    "df_status(test)"
   ]
  },
  {
   "cell_type": "code",
   "execution_count": 47,
   "id": "4ded64ed",
   "metadata": {
    "execution": {
     "iopub.execute_input": "2023-02-14T20:51:43.972601Z",
     "iopub.status.busy": "2023-02-14T20:51:43.971058Z",
     "iopub.status.idle": "2023-02-14T20:51:49.903193Z",
     "shell.execute_reply": "2023-02-14T20:51:49.901418Z"
    },
    "papermill": {
     "duration": 5.966716,
     "end_time": "2023-02-14T20:51:49.905741",
     "exception": false,
     "start_time": "2023-02-14T20:51:43.939025",
     "status": "completed"
    },
    "tags": []
   },
   "outputs": [
    {
     "name": "stdout",
     "output_type": "stream",
     "text": [
      "\n",
      " iter imp variable\n",
      "  1   1  Age_group\n",
      "  1   2  Age_group\n",
      "  1   3  Age_group\n",
      "  1   4  Age_group\n",
      "  1   5  Age_group\n",
      "  2   1  Age_group\n",
      "  2   2  Age_group\n",
      "  2   3  Age_group\n",
      "  2   4  Age_group\n",
      "  2   5  Age_group\n",
      "  3   1  Age_group\n",
      "  3   2  Age_group\n",
      "  3   3  Age_group\n",
      "  3   4  Age_group\n",
      "  3   5  Age_group\n",
      "  4   1  Age_group\n",
      "  4   2  Age_group\n",
      "  4   3  Age_group\n",
      "  4   4  Age_group\n",
      "  4   5  Age_group\n",
      "  5   1  Age_group\n",
      "  5   2  Age_group\n",
      "  5   3  Age_group\n",
      "  5   4  Age_group\n",
      "  5   5  Age_group\n"
     ]
    },
    {
     "name": "stderr",
     "output_type": "stream",
     "text": [
      "Warning message:\n",
      "“Number of logged events: 26”\n"
     ]
    }
   ],
   "source": [
    "#Pre-proccesing\n",
    "test <- test %>% separate(PassengerId, c(\"Group\", \"Num\"), sep = \"_\", remove = FALSE) %>% \n",
    "    separate(Cabin, c(\"CabinDeck\", \"CabinNum\", \"CabinSide\"), sep = \"/\") %>% \n",
    "    add_count(Group, name = \"GroupSize\") %>% \n",
    "    mutate(Age_group = case_when(Age <= 10  ~ \"kid\", Age > 10 & Age <= 18  ~ \"teen\", Age > 18 & Age <= 60  ~ \"adult\", Age > 60 ~ \"old_mw\")) %>% \n",
    "    select(-c(Group, Num, CabinNum, Age, Name))\n",
    "test$HomePlanet <- test$HomePlanet %>% replace(is.na(.),\"Earth\")\n",
    "test$CryoSleep <- test$CryoSleep %>% replace(is.na(.),\"FALSE\")\n",
    "test$CabinDeck <- test$CabinDeck %>% replace(is.na(.),\"N\")\n",
    "test$CabinSide <- test$CabinSide %>% replace(is.na(.),\"N\")\n",
    "test$Destination <- test$Destination %>% replace(is.na(.),\"TRAPPIST-1e\")\n",
    "test$VIP <- test$VIP %>% replace(is.na(.),\"FALSE\")\n",
    "test <- mutate_at(test, c(8:12), ~replace(., is.na(.), 0)) %>%\n",
    "        mutate(HomePlanet = as.factor(HomePlanet), CryoSleep = as.logical(CryoSleep), CabinDeck = as.factor(CabinDeck), CabinSide = as.factor(CabinSide),\n",
    "           Destination = as.factor(Destination), VIP = as.logical(VIP), Age_group = as.factor(Age_group))\n",
    "mice_mod <- mice(data = test, method='rf')\n",
    "test <- complete(mice_mod)"
   ]
  },
  {
   "cell_type": "markdown",
   "id": "b8c39715",
   "metadata": {
    "papermill": {
     "duration": 0.030114,
     "end_time": "2023-02-14T20:51:49.966194",
     "exception": false,
     "start_time": "2023-02-14T20:51:49.936080",
     "status": "completed"
    },
    "tags": []
   },
   "source": [
    "## Prediction"
   ]
  },
  {
   "cell_type": "code",
   "execution_count": 48,
   "id": "550831b3",
   "metadata": {
    "execution": {
     "iopub.execute_input": "2023-02-14T20:51:50.030106Z",
     "iopub.status.busy": "2023-02-14T20:51:50.028455Z",
     "iopub.status.idle": "2023-02-14T20:51:51.095046Z",
     "shell.execute_reply": "2023-02-14T20:51:51.092632Z"
    },
    "papermill": {
     "duration": 1.101263,
     "end_time": "2023-02-14T20:51:51.097982",
     "exception": false,
     "start_time": "2023-02-14T20:51:49.996719",
     "status": "completed"
    },
    "tags": []
   },
   "outputs": [
    {
     "data": {
      "text/html": [
       "<table class=\"dataframe\">\n",
       "<caption>A data.frame: 6 × 15</caption>\n",
       "<thead>\n",
       "\t<tr><th></th><th scope=col>PassengerId</th><th scope=col>HomePlanet</th><th scope=col>CryoSleep</th><th scope=col>CabinDeck</th><th scope=col>CabinSide</th><th scope=col>Destination</th><th scope=col>VIP</th><th scope=col>RoomService</th><th scope=col>FoodCourt</th><th scope=col>ShoppingMall</th><th scope=col>Spa</th><th scope=col>VRDeck</th><th scope=col>GroupSize</th><th scope=col>Age_group</th><th scope=col>Predict_transported</th></tr>\n",
       "\t<tr><th></th><th scope=col>&lt;chr&gt;</th><th scope=col>&lt;fct&gt;</th><th scope=col>&lt;lgl&gt;</th><th scope=col>&lt;fct&gt;</th><th scope=col>&lt;fct&gt;</th><th scope=col>&lt;fct&gt;</th><th scope=col>&lt;lgl&gt;</th><th scope=col>&lt;dbl&gt;</th><th scope=col>&lt;dbl&gt;</th><th scope=col>&lt;dbl&gt;</th><th scope=col>&lt;dbl&gt;</th><th scope=col>&lt;dbl&gt;</th><th scope=col>&lt;int&gt;</th><th scope=col>&lt;fct&gt;</th><th scope=col>&lt;fct&gt;</th></tr>\n",
       "</thead>\n",
       "<tbody>\n",
       "\t<tr><th scope=row>1</th><td>0013_01</td><td>Earth </td><td> TRUE</td><td>G</td><td>S</td><td>TRAPPIST-1e</td><td>FALSE</td><td> 0</td><td>   0</td><td>  0</td><td>   0</td><td>  0</td><td>1</td><td>adult</td><td>TRUE </td></tr>\n",
       "\t<tr><th scope=row>2</th><td>0018_01</td><td>Earth </td><td>FALSE</td><td>F</td><td>S</td><td>TRAPPIST-1e</td><td>FALSE</td><td> 0</td><td>   9</td><td>  0</td><td>2823</td><td>  0</td><td>1</td><td>adult</td><td>FALSE</td></tr>\n",
       "\t<tr><th scope=row>3</th><td>0019_01</td><td>Europa</td><td> TRUE</td><td>C</td><td>S</td><td>55 Cancri e</td><td>FALSE</td><td> 0</td><td>   0</td><td>  0</td><td>   0</td><td>  0</td><td>1</td><td>adult</td><td>TRUE </td></tr>\n",
       "\t<tr><th scope=row>4</th><td>0021_01</td><td>Europa</td><td>FALSE</td><td>C</td><td>S</td><td>TRAPPIST-1e</td><td>FALSE</td><td> 0</td><td>6652</td><td>  0</td><td> 181</td><td>585</td><td>1</td><td>adult</td><td>TRUE </td></tr>\n",
       "\t<tr><th scope=row>5</th><td>0023_01</td><td>Earth </td><td>FALSE</td><td>F</td><td>S</td><td>TRAPPIST-1e</td><td>FALSE</td><td>10</td><td>   0</td><td>635</td><td>   0</td><td>  0</td><td>1</td><td>adult</td><td>TRUE </td></tr>\n",
       "\t<tr><th scope=row>6</th><td>0027_01</td><td>Earth </td><td>FALSE</td><td>F</td><td>P</td><td>TRAPPIST-1e</td><td>FALSE</td><td> 0</td><td>1615</td><td>263</td><td> 113</td><td> 60</td><td>1</td><td>adult</td><td>TRUE </td></tr>\n",
       "</tbody>\n",
       "</table>\n"
      ],
      "text/latex": [
       "A data.frame: 6 × 15\n",
       "\\begin{tabular}{r|lllllllllllllll}\n",
       "  & PassengerId & HomePlanet & CryoSleep & CabinDeck & CabinSide & Destination & VIP & RoomService & FoodCourt & ShoppingMall & Spa & VRDeck & GroupSize & Age\\_group & Predict\\_transported\\\\\n",
       "  & <chr> & <fct> & <lgl> & <fct> & <fct> & <fct> & <lgl> & <dbl> & <dbl> & <dbl> & <dbl> & <dbl> & <int> & <fct> & <fct>\\\\\n",
       "\\hline\n",
       "\t1 & 0013\\_01 & Earth  &  TRUE & G & S & TRAPPIST-1e & FALSE &  0 &    0 &   0 &    0 &   0 & 1 & adult & TRUE \\\\\n",
       "\t2 & 0018\\_01 & Earth  & FALSE & F & S & TRAPPIST-1e & FALSE &  0 &    9 &   0 & 2823 &   0 & 1 & adult & FALSE\\\\\n",
       "\t3 & 0019\\_01 & Europa &  TRUE & C & S & 55 Cancri e & FALSE &  0 &    0 &   0 &    0 &   0 & 1 & adult & TRUE \\\\\n",
       "\t4 & 0021\\_01 & Europa & FALSE & C & S & TRAPPIST-1e & FALSE &  0 & 6652 &   0 &  181 & 585 & 1 & adult & TRUE \\\\\n",
       "\t5 & 0023\\_01 & Earth  & FALSE & F & S & TRAPPIST-1e & FALSE & 10 &    0 & 635 &    0 &   0 & 1 & adult & TRUE \\\\\n",
       "\t6 & 0027\\_01 & Earth  & FALSE & F & P & TRAPPIST-1e & FALSE &  0 & 1615 & 263 &  113 &  60 & 1 & adult & TRUE \\\\\n",
       "\\end{tabular}\n"
      ],
      "text/markdown": [
       "\n",
       "A data.frame: 6 × 15\n",
       "\n",
       "| <!--/--> | PassengerId &lt;chr&gt; | HomePlanet &lt;fct&gt; | CryoSleep &lt;lgl&gt; | CabinDeck &lt;fct&gt; | CabinSide &lt;fct&gt; | Destination &lt;fct&gt; | VIP &lt;lgl&gt; | RoomService &lt;dbl&gt; | FoodCourt &lt;dbl&gt; | ShoppingMall &lt;dbl&gt; | Spa &lt;dbl&gt; | VRDeck &lt;dbl&gt; | GroupSize &lt;int&gt; | Age_group &lt;fct&gt; | Predict_transported &lt;fct&gt; |\n",
       "|---|---|---|---|---|---|---|---|---|---|---|---|---|---|---|---|\n",
       "| 1 | 0013_01 | Earth  |  TRUE | G | S | TRAPPIST-1e | FALSE |  0 |    0 |   0 |    0 |   0 | 1 | adult | TRUE  |\n",
       "| 2 | 0018_01 | Earth  | FALSE | F | S | TRAPPIST-1e | FALSE |  0 |    9 |   0 | 2823 |   0 | 1 | adult | FALSE |\n",
       "| 3 | 0019_01 | Europa |  TRUE | C | S | 55 Cancri e | FALSE |  0 |    0 |   0 |    0 |   0 | 1 | adult | TRUE  |\n",
       "| 4 | 0021_01 | Europa | FALSE | C | S | TRAPPIST-1e | FALSE |  0 | 6652 |   0 |  181 | 585 | 1 | adult | TRUE  |\n",
       "| 5 | 0023_01 | Earth  | FALSE | F | S | TRAPPIST-1e | FALSE | 10 |    0 | 635 |    0 |   0 | 1 | adult | TRUE  |\n",
       "| 6 | 0027_01 | Earth  | FALSE | F | P | TRAPPIST-1e | FALSE |  0 | 1615 | 263 |  113 |  60 | 1 | adult | TRUE  |\n",
       "\n"
      ],
      "text/plain": [
       "  PassengerId HomePlanet CryoSleep CabinDeck CabinSide Destination VIP  \n",
       "1 0013_01     Earth       TRUE     G         S         TRAPPIST-1e FALSE\n",
       "2 0018_01     Earth      FALSE     F         S         TRAPPIST-1e FALSE\n",
       "3 0019_01     Europa      TRUE     C         S         55 Cancri e FALSE\n",
       "4 0021_01     Europa     FALSE     C         S         TRAPPIST-1e FALSE\n",
       "5 0023_01     Earth      FALSE     F         S         TRAPPIST-1e FALSE\n",
       "6 0027_01     Earth      FALSE     F         P         TRAPPIST-1e FALSE\n",
       "  RoomService FoodCourt ShoppingMall Spa  VRDeck GroupSize Age_group\n",
       "1  0             0        0             0   0    1         adult    \n",
       "2  0             9        0          2823   0    1         adult    \n",
       "3  0             0        0             0   0    1         adult    \n",
       "4  0          6652        0           181 585    1         adult    \n",
       "5 10             0      635             0   0    1         adult    \n",
       "6  0          1615      263           113  60    1         adult    \n",
       "  Predict_transported\n",
       "1 TRUE               \n",
       "2 FALSE              \n",
       "3 TRUE               \n",
       "4 TRUE               \n",
       "5 TRUE               \n",
       "6 TRUE               "
      ]
     },
     "metadata": {},
     "output_type": "display_data"
    }
   ],
   "source": [
    "# Prediction\n",
    "Predict_transported <- predict(rf_fitted, test)\n",
    "test <- cbind(test, Predict_transported) #unir dataframes\n",
    "colnames(test)[15] <-\"Predict_transported\"\n",
    "head(test)"
   ]
  },
  {
   "cell_type": "markdown",
   "id": "9745f89d",
   "metadata": {
    "papermill": {
     "duration": 0.030129,
     "end_time": "2023-02-14T20:51:51.158239",
     "exception": false,
     "start_time": "2023-02-14T20:51:51.128110",
     "status": "completed"
    },
    "tags": []
   },
   "source": [
    "**CSV file**"
   ]
  },
  {
   "cell_type": "code",
   "execution_count": 49,
   "id": "8c33122f",
   "metadata": {
    "execution": {
     "iopub.execute_input": "2023-02-14T20:51:51.222492Z",
     "iopub.status.busy": "2023-02-14T20:51:51.220788Z",
     "iopub.status.idle": "2023-02-14T20:51:51.267705Z",
     "shell.execute_reply": "2023-02-14T20:51:51.265863Z"
    },
    "papermill": {
     "duration": 0.081697,
     "end_time": "2023-02-14T20:51:51.270218",
     "exception": false,
     "start_time": "2023-02-14T20:51:51.188521",
     "status": "completed"
    },
    "tags": []
   },
   "outputs": [],
   "source": [
    "submission <- data.frame(PassengerId = test$PassengerId, Transported = test$Predict_transported)\n",
    "submission$Transported<- as.character(submission$Transported)\n",
    "submission$Transported=str_to_title(submission$Transported)\n",
    "write.csv(submission, file = \"PredictTransported.csv\", row.names = FALSE)"
   ]
  }
 ],
 "metadata": {
  "kernelspec": {
   "display_name": "R",
   "language": "R",
   "name": "ir"
  },
  "language_info": {
   "codemirror_mode": "r",
   "file_extension": ".r",
   "mimetype": "text/x-r-source",
   "name": "R",
   "pygments_lexer": "r",
   "version": "4.0.5"
  },
  "papermill": {
   "default_parameters": {},
   "duration": 633.3592,
   "end_time": "2023-02-14T20:51:51.422801",
   "environment_variables": {},
   "exception": null,
   "input_path": "__notebook__.ipynb",
   "output_path": "__notebook__.ipynb",
   "parameters": {},
   "start_time": "2023-02-14T20:41:18.063601",
   "version": "2.4.0"
  }
 },
 "nbformat": 4,
 "nbformat_minor": 5
}
